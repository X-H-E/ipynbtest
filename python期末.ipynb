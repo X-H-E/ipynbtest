{
  "cells": [
    {
      "cell_type": "markdown",
      "id": "b4fe7ad2",
      "metadata": {
        "id": "b4fe7ad2"
      },
      "source": [
        "# part 1\n",
        "### 1.1 Load the Libraries "
      ]
    },
    {
      "cell_type": "code",
      "source": [
        "!pip install fake_useragent pandas matplotlib pillow wordcloud bs4"
      ],
      "metadata": {
        "colab": {
          "base_uri": "https://localhost:8080/"
        },
        "id": "kBSf7bdjJE9z",
        "outputId": "ff4c5611-75cf-4ad4-d6b4-baca03ec8b6a"
      },
      "id": "kBSf7bdjJE9z",
      "execution_count": 160,
      "outputs": [
        {
          "output_type": "stream",
          "name": "stdout",
          "text": [
            "Looking in indexes: https://pypi.org/simple, https://us-python.pkg.dev/colab-wheels/public/simple/\n",
            "Requirement already satisfied: fake_useragent in /usr/local/lib/python3.8/dist-packages (1.1.1)\n",
            "Requirement already satisfied: pandas in /usr/local/lib/python3.8/dist-packages (1.3.5)\n",
            "Requirement already satisfied: matplotlib in /usr/local/lib/python3.8/dist-packages (3.2.2)\n",
            "Requirement already satisfied: pillow in /usr/local/lib/python3.8/dist-packages (7.1.2)\n",
            "Requirement already satisfied: wordcloud in /usr/local/lib/python3.8/dist-packages (1.8.2.2)\n",
            "Requirement already satisfied: bs4 in /usr/local/lib/python3.8/dist-packages (0.0.1)\n",
            "Requirement already satisfied: importlib-resources>=5.0 in /usr/local/lib/python3.8/dist-packages (from fake_useragent) (5.10.0)\n",
            "Requirement already satisfied: zipp>=3.1.0 in /usr/local/lib/python3.8/dist-packages (from importlib-resources>=5.0->fake_useragent) (3.11.0)\n",
            "Requirement already satisfied: numpy>=1.17.3 in /usr/local/lib/python3.8/dist-packages (from pandas) (1.21.6)\n",
            "Requirement already satisfied: python-dateutil>=2.7.3 in /usr/local/lib/python3.8/dist-packages (from pandas) (2.8.2)\n",
            "Requirement already satisfied: pytz>=2017.3 in /usr/local/lib/python3.8/dist-packages (from pandas) (2022.6)\n",
            "Requirement already satisfied: six>=1.5 in /usr/local/lib/python3.8/dist-packages (from python-dateutil>=2.7.3->pandas) (1.15.0)\n",
            "Requirement already satisfied: cycler>=0.10 in /usr/local/lib/python3.8/dist-packages (from matplotlib) (0.11.0)\n",
            "Requirement already satisfied: kiwisolver>=1.0.1 in /usr/local/lib/python3.8/dist-packages (from matplotlib) (1.4.4)\n",
            "Requirement already satisfied: pyparsing!=2.0.4,!=2.1.2,!=2.1.6,>=2.0.1 in /usr/local/lib/python3.8/dist-packages (from matplotlib) (3.0.9)\n",
            "Requirement already satisfied: beautifulsoup4 in /usr/local/lib/python3.8/dist-packages (from bs4) (4.6.3)\n"
          ]
        }
      ]
    },
    {
      "cell_type": "code",
      "execution_count": 114,
      "id": "f4c45752",
      "metadata": {
        "id": "f4c45752"
      },
      "outputs": [],
      "source": [
        "import pandas as pd\n",
        "import numpy as np\n",
        "from fake_useragent import UserAgent\n",
        "uae = UserAgent()\n",
        "from bs4.element import Tag\n",
        "import hashlib\n",
        "import matplotlib.pyplot as plt\n",
        "import json\n",
        "from PIL import Image\n",
        "import wordcloud\n",
        "import re\n",
        "# anlayze the words frequency\n",
        "from collections import Counter"
      ]
    },
    {
      "cell_type": "code",
      "execution_count": 115,
      "id": "b95c0159",
      "metadata": {
        "id": "b95c0159"
      },
      "outputs": [],
      "source": [
        "%matplotlib inline"
      ]
    },
    {
      "cell_type": "markdown",
      "source": [
        "###1.2 Movie list collection"
      ],
      "metadata": {
        "id": "NYLtC6pRXN8G"
      },
      "id": "NYLtC6pRXN8G"
    },
    {
      "cell_type": "code",
      "execution_count": 116,
      "id": "e4cf06bc",
      "metadata": {
        "id": "e4cf06bc"
      },
      "outputs": [],
      "source": [
        "from bs4 import BeautifulSoup\n",
        "import requests \n",
        "import pandas as pd\n",
        "# movie list page url template\n",
        "url1 = 'https://www.imdb.com/search/title/?title_type=feature&keywords=based-on-short-story'\n",
        "# movie url template\n",
        "ut = 'https://www.imdb.com{}?ref_=adv_li_tt'\n",
        "# 2 movie page, total 100 movies\n",
        "pages = [url1, url1+'&start=51&ref_=adv_nxt']\n",
        "# object stored the 100 movies\n",
        "movies = {'title': [], 'url': [], 'year': []}\n",
        "\n",
        "for page in pages:\n",
        "    response = requests.get(page)\n",
        "    soup = BeautifulSoup(response.text, 'html.parser')\n",
        "    movies['url'].extend([ut.format(_['href']) for _ in soup.select(\".lister-item-header a\")])\n",
        "    movies['title'].extend([_.string for _ in soup.select(\".lister-item-header a\")])\n",
        "    movies['year'].extend([_.string[1:-1] for _ in soup.select(\"span.lister-item-year\")])\n",
        "    \n",
        "# convert the dict to dataframe\n",
        "movie_list = pd.DataFrame(movies, columns=movies.keys())\n",
        "movie_list.to_csv('movie_list.csv', encoding='utf-8')"
      ]
    },
    {
      "cell_type": "code",
      "execution_count": 117,
      "id": "1b7e4c53",
      "metadata": {
        "collapsed": true,
        "colab": {
          "base_uri": "https://localhost:8080/",
          "height": 238
        },
        "id": "1b7e4c53",
        "outputId": "a4dd2f5a-0327-4fbc-d979-5624f20e8dce"
      },
      "outputs": [
        {
          "output_type": "execute_result",
          "data": {
            "text/plain": [
              "                             title  \\\n",
              "0         The Shawshank Redemption   \n",
              "1            It's a Wonderful Life   \n",
              "2  Three Thousand Years of Longing   \n",
              "3                   Eyes Wide Shut   \n",
              "4                  The Black Phone   \n",
              "5      National Lampoon's Vacation   \n",
              "\n",
              "                                                 url  year  \n",
              "0  https://www.imdb.com/title/tt0111161/?ref_=adv...  1994  \n",
              "1  https://www.imdb.com/title/tt0038650/?ref_=adv...  1946  \n",
              "2  https://www.imdb.com/title/tt9198364/?ref_=adv...  2022  \n",
              "3  https://www.imdb.com/title/tt0120663/?ref_=adv...  1999  \n",
              "4  https://www.imdb.com/title/tt7144666/?ref_=adv...  2021  \n",
              "5  https://www.imdb.com/title/tt0085995/?ref_=adv...  1983  "
            ],
            "text/html": [
              "\n",
              "  <div id=\"df-0aed0d1e-4f26-4f50-b4f7-fc9de6bf017c\">\n",
              "    <div class=\"colab-df-container\">\n",
              "      <div>\n",
              "<style scoped>\n",
              "    .dataframe tbody tr th:only-of-type {\n",
              "        vertical-align: middle;\n",
              "    }\n",
              "\n",
              "    .dataframe tbody tr th {\n",
              "        vertical-align: top;\n",
              "    }\n",
              "\n",
              "    .dataframe thead th {\n",
              "        text-align: right;\n",
              "    }\n",
              "</style>\n",
              "<table border=\"1\" class=\"dataframe\">\n",
              "  <thead>\n",
              "    <tr style=\"text-align: right;\">\n",
              "      <th></th>\n",
              "      <th>title</th>\n",
              "      <th>url</th>\n",
              "      <th>year</th>\n",
              "    </tr>\n",
              "  </thead>\n",
              "  <tbody>\n",
              "    <tr>\n",
              "      <th>0</th>\n",
              "      <td>The Shawshank Redemption</td>\n",
              "      <td>https://www.imdb.com/title/tt0111161/?ref_=adv...</td>\n",
              "      <td>1994</td>\n",
              "    </tr>\n",
              "    <tr>\n",
              "      <th>1</th>\n",
              "      <td>It's a Wonderful Life</td>\n",
              "      <td>https://www.imdb.com/title/tt0038650/?ref_=adv...</td>\n",
              "      <td>1946</td>\n",
              "    </tr>\n",
              "    <tr>\n",
              "      <th>2</th>\n",
              "      <td>Three Thousand Years of Longing</td>\n",
              "      <td>https://www.imdb.com/title/tt9198364/?ref_=adv...</td>\n",
              "      <td>2022</td>\n",
              "    </tr>\n",
              "    <tr>\n",
              "      <th>3</th>\n",
              "      <td>Eyes Wide Shut</td>\n",
              "      <td>https://www.imdb.com/title/tt0120663/?ref_=adv...</td>\n",
              "      <td>1999</td>\n",
              "    </tr>\n",
              "    <tr>\n",
              "      <th>4</th>\n",
              "      <td>The Black Phone</td>\n",
              "      <td>https://www.imdb.com/title/tt7144666/?ref_=adv...</td>\n",
              "      <td>2021</td>\n",
              "    </tr>\n",
              "    <tr>\n",
              "      <th>5</th>\n",
              "      <td>National Lampoon's Vacation</td>\n",
              "      <td>https://www.imdb.com/title/tt0085995/?ref_=adv...</td>\n",
              "      <td>1983</td>\n",
              "    </tr>\n",
              "  </tbody>\n",
              "</table>\n",
              "</div>\n",
              "      <button class=\"colab-df-convert\" onclick=\"convertToInteractive('df-0aed0d1e-4f26-4f50-b4f7-fc9de6bf017c')\"\n",
              "              title=\"Convert this dataframe to an interactive table.\"\n",
              "              style=\"display:none;\">\n",
              "        \n",
              "  <svg xmlns=\"http://www.w3.org/2000/svg\" height=\"24px\"viewBox=\"0 0 24 24\"\n",
              "       width=\"24px\">\n",
              "    <path d=\"M0 0h24v24H0V0z\" fill=\"none\"/>\n",
              "    <path d=\"M18.56 5.44l.94 2.06.94-2.06 2.06-.94-2.06-.94-.94-2.06-.94 2.06-2.06.94zm-11 1L8.5 8.5l.94-2.06 2.06-.94-2.06-.94L8.5 2.5l-.94 2.06-2.06.94zm10 10l.94 2.06.94-2.06 2.06-.94-2.06-.94-.94-2.06-.94 2.06-2.06.94z\"/><path d=\"M17.41 7.96l-1.37-1.37c-.4-.4-.92-.59-1.43-.59-.52 0-1.04.2-1.43.59L10.3 9.45l-7.72 7.72c-.78.78-.78 2.05 0 2.83L4 21.41c.39.39.9.59 1.41.59.51 0 1.02-.2 1.41-.59l7.78-7.78 2.81-2.81c.8-.78.8-2.07 0-2.86zM5.41 20L4 18.59l7.72-7.72 1.47 1.35L5.41 20z\"/>\n",
              "  </svg>\n",
              "      </button>\n",
              "      \n",
              "  <style>\n",
              "    .colab-df-container {\n",
              "      display:flex;\n",
              "      flex-wrap:wrap;\n",
              "      gap: 12px;\n",
              "    }\n",
              "\n",
              "    .colab-df-convert {\n",
              "      background-color: #E8F0FE;\n",
              "      border: none;\n",
              "      border-radius: 50%;\n",
              "      cursor: pointer;\n",
              "      display: none;\n",
              "      fill: #1967D2;\n",
              "      height: 32px;\n",
              "      padding: 0 0 0 0;\n",
              "      width: 32px;\n",
              "    }\n",
              "\n",
              "    .colab-df-convert:hover {\n",
              "      background-color: #E2EBFA;\n",
              "      box-shadow: 0px 1px 2px rgba(60, 64, 67, 0.3), 0px 1px 3px 1px rgba(60, 64, 67, 0.15);\n",
              "      fill: #174EA6;\n",
              "    }\n",
              "\n",
              "    [theme=dark] .colab-df-convert {\n",
              "      background-color: #3B4455;\n",
              "      fill: #D2E3FC;\n",
              "    }\n",
              "\n",
              "    [theme=dark] .colab-df-convert:hover {\n",
              "      background-color: #434B5C;\n",
              "      box-shadow: 0px 1px 3px 1px rgba(0, 0, 0, 0.15);\n",
              "      filter: drop-shadow(0px 1px 2px rgba(0, 0, 0, 0.3));\n",
              "      fill: #FFFFFF;\n",
              "    }\n",
              "  </style>\n",
              "\n",
              "      <script>\n",
              "        const buttonEl =\n",
              "          document.querySelector('#df-0aed0d1e-4f26-4f50-b4f7-fc9de6bf017c button.colab-df-convert');\n",
              "        buttonEl.style.display =\n",
              "          google.colab.kernel.accessAllowed ? 'block' : 'none';\n",
              "\n",
              "        async function convertToInteractive(key) {\n",
              "          const element = document.querySelector('#df-0aed0d1e-4f26-4f50-b4f7-fc9de6bf017c');\n",
              "          const dataTable =\n",
              "            await google.colab.kernel.invokeFunction('convertToInteractive',\n",
              "                                                     [key], {});\n",
              "          if (!dataTable) return;\n",
              "\n",
              "          const docLinkHtml = 'Like what you see? Visit the ' +\n",
              "            '<a target=\"_blank\" href=https://colab.research.google.com/notebooks/data_table.ipynb>data table notebook</a>'\n",
              "            + ' to learn more about interactive tables.';\n",
              "          element.innerHTML = '';\n",
              "          dataTable['output_type'] = 'display_data';\n",
              "          await google.colab.output.renderOutput(dataTable, element);\n",
              "          const docLink = document.createElement('div');\n",
              "          docLink.innerHTML = docLinkHtml;\n",
              "          element.appendChild(docLink);\n",
              "        }\n",
              "      </script>\n",
              "    </div>\n",
              "  </div>\n",
              "  "
            ]
          },
          "metadata": {},
          "execution_count": 117
        }
      ],
      "source": [
        "movie_list.head(6)"
      ]
    },
    {
      "cell_type": "markdown",
      "id": "fedca5f7",
      "metadata": {
        "id": "fedca5f7"
      },
      "source": [
        "### 1.3 Print shape, head and tail of the dataframe"
      ]
    },
    {
      "cell_type": "code",
      "execution_count": 104,
      "id": "ba8c4484",
      "metadata": {
        "collapsed": true,
        "colab": {
          "base_uri": "https://localhost:8080/"
        },
        "id": "ba8c4484",
        "outputId": "80d94f52-a157-43f0-f18b-327b54fa82d7"
      },
      "outputs": [
        {
          "output_type": "stream",
          "name": "stdout",
          "text": [
            "(100, 3)\n",
            "                             title  \\\n",
            "0         The Shawshank Redemption   \n",
            "1            It's a Wonderful Life   \n",
            "2  Three Thousand Years of Longing   \n",
            "3                   Eyes Wide Shut   \n",
            "4                  The Black Phone   \n",
            "\n",
            "                                                 url  year  \n",
            "0  https://www.imdb.com/title/tt0111161/?ref_=adv...  1994  \n",
            "1  https://www.imdb.com/title/tt0038650/?ref_=adv...  1946  \n",
            "2  https://www.imdb.com/title/tt9198364/?ref_=adv...  2022  \n",
            "3  https://www.imdb.com/title/tt0120663/?ref_=adv...  1999  \n",
            "4  https://www.imdb.com/title/tt7144666/?ref_=adv...  2021  \n",
            "                      title  \\\n",
            "95          Babette's Feast   \n",
            "96             Bubba Ho-Tep   \n",
            "97       Stonehearst Asylum   \n",
            "98  Coming Home in the Dark   \n",
            "99              Creepshow 2   \n",
            "\n",
            "                                                  url  year  \n",
            "95  https://www.imdb.com/title/tt0092603/?ref_=adv...  1987  \n",
            "96  https://www.imdb.com/title/tt0281686/?ref_=adv...  2002  \n",
            "97  https://www.imdb.com/title/tt1772264/?ref_=adv...  2014  \n",
            "98  https://www.imdb.com/title/tt6874762/?ref_=adv...  2021  \n",
            "99  https://www.imdb.com/title/tt0092796/?ref_=adv...  1987  \n"
          ]
        }
      ],
      "source": [
        "print(movie_list.shape)\n",
        "print(movie_list.head())\n",
        "print(movie_list.tail())"
      ]
    },
    {
      "cell_type": "markdown",
      "source": [
        "###1.4 Save the dataframe to a CSV file "
      ],
      "metadata": {
        "id": "rPNuFG0iZVaz"
      },
      "id": "rPNuFG0iZVaz"
    },
    {
      "cell_type": "code",
      "source": [
        "movie_list.to_csv('movie_list.csv', index=False)"
      ],
      "metadata": {
        "id": "PMm8IU_uYJdc"
      },
      "id": "PMm8IU_uYJdc",
      "execution_count": 118,
      "outputs": []
    },
    {
      "cell_type": "markdown",
      "id": "97e1ebe2",
      "metadata": {
        "id": "97e1ebe2"
      },
      "source": [
        "# part 2\n",
        "###2.1load the movie_list.csv"
      ]
    },
    {
      "cell_type": "code",
      "execution_count": 119,
      "id": "e918783f",
      "metadata": {
        "colab": {
          "base_uri": "https://localhost:8080/",
          "height": 206
        },
        "id": "e918783f",
        "outputId": "ba25a8a7-1b89-4e8a-afb7-6f38b6479c0c"
      },
      "outputs": [
        {
          "output_type": "execute_result",
          "data": {
            "text/plain": [
              "                             title  \\\n",
              "0         The Shawshank Redemption   \n",
              "1            It's a Wonderful Life   \n",
              "2  Three Thousand Years of Longing   \n",
              "3                   Eyes Wide Shut   \n",
              "4                  The Black Phone   \n",
              "\n",
              "                                                 url  year  \n",
              "0  https://www.imdb.com/title/tt0111161/?ref_=adv...  1994  \n",
              "1  https://www.imdb.com/title/tt0038650/?ref_=adv...  1946  \n",
              "2  https://www.imdb.com/title/tt9198364/?ref_=adv...  2022  \n",
              "3  https://www.imdb.com/title/tt0120663/?ref_=adv...  1999  \n",
              "4  https://www.imdb.com/title/tt7144666/?ref_=adv...  2021  "
            ],
            "text/html": [
              "\n",
              "  <div id=\"df-b63db4eb-6416-4466-8f24-6813f7fae645\">\n",
              "    <div class=\"colab-df-container\">\n",
              "      <div>\n",
              "<style scoped>\n",
              "    .dataframe tbody tr th:only-of-type {\n",
              "        vertical-align: middle;\n",
              "    }\n",
              "\n",
              "    .dataframe tbody tr th {\n",
              "        vertical-align: top;\n",
              "    }\n",
              "\n",
              "    .dataframe thead th {\n",
              "        text-align: right;\n",
              "    }\n",
              "</style>\n",
              "<table border=\"1\" class=\"dataframe\">\n",
              "  <thead>\n",
              "    <tr style=\"text-align: right;\">\n",
              "      <th></th>\n",
              "      <th>title</th>\n",
              "      <th>url</th>\n",
              "      <th>year</th>\n",
              "    </tr>\n",
              "  </thead>\n",
              "  <tbody>\n",
              "    <tr>\n",
              "      <th>0</th>\n",
              "      <td>The Shawshank Redemption</td>\n",
              "      <td>https://www.imdb.com/title/tt0111161/?ref_=adv...</td>\n",
              "      <td>1994</td>\n",
              "    </tr>\n",
              "    <tr>\n",
              "      <th>1</th>\n",
              "      <td>It's a Wonderful Life</td>\n",
              "      <td>https://www.imdb.com/title/tt0038650/?ref_=adv...</td>\n",
              "      <td>1946</td>\n",
              "    </tr>\n",
              "    <tr>\n",
              "      <th>2</th>\n",
              "      <td>Three Thousand Years of Longing</td>\n",
              "      <td>https://www.imdb.com/title/tt9198364/?ref_=adv...</td>\n",
              "      <td>2022</td>\n",
              "    </tr>\n",
              "    <tr>\n",
              "      <th>3</th>\n",
              "      <td>Eyes Wide Shut</td>\n",
              "      <td>https://www.imdb.com/title/tt0120663/?ref_=adv...</td>\n",
              "      <td>1999</td>\n",
              "    </tr>\n",
              "    <tr>\n",
              "      <th>4</th>\n",
              "      <td>The Black Phone</td>\n",
              "      <td>https://www.imdb.com/title/tt7144666/?ref_=adv...</td>\n",
              "      <td>2021</td>\n",
              "    </tr>\n",
              "  </tbody>\n",
              "</table>\n",
              "</div>\n",
              "      <button class=\"colab-df-convert\" onclick=\"convertToInteractive('df-b63db4eb-6416-4466-8f24-6813f7fae645')\"\n",
              "              title=\"Convert this dataframe to an interactive table.\"\n",
              "              style=\"display:none;\">\n",
              "        \n",
              "  <svg xmlns=\"http://www.w3.org/2000/svg\" height=\"24px\"viewBox=\"0 0 24 24\"\n",
              "       width=\"24px\">\n",
              "    <path d=\"M0 0h24v24H0V0z\" fill=\"none\"/>\n",
              "    <path d=\"M18.56 5.44l.94 2.06.94-2.06 2.06-.94-2.06-.94-.94-2.06-.94 2.06-2.06.94zm-11 1L8.5 8.5l.94-2.06 2.06-.94-2.06-.94L8.5 2.5l-.94 2.06-2.06.94zm10 10l.94 2.06.94-2.06 2.06-.94-2.06-.94-.94-2.06-.94 2.06-2.06.94z\"/><path d=\"M17.41 7.96l-1.37-1.37c-.4-.4-.92-.59-1.43-.59-.52 0-1.04.2-1.43.59L10.3 9.45l-7.72 7.72c-.78.78-.78 2.05 0 2.83L4 21.41c.39.39.9.59 1.41.59.51 0 1.02-.2 1.41-.59l7.78-7.78 2.81-2.81c.8-.78.8-2.07 0-2.86zM5.41 20L4 18.59l7.72-7.72 1.47 1.35L5.41 20z\"/>\n",
              "  </svg>\n",
              "      </button>\n",
              "      \n",
              "  <style>\n",
              "    .colab-df-container {\n",
              "      display:flex;\n",
              "      flex-wrap:wrap;\n",
              "      gap: 12px;\n",
              "    }\n",
              "\n",
              "    .colab-df-convert {\n",
              "      background-color: #E8F0FE;\n",
              "      border: none;\n",
              "      border-radius: 50%;\n",
              "      cursor: pointer;\n",
              "      display: none;\n",
              "      fill: #1967D2;\n",
              "      height: 32px;\n",
              "      padding: 0 0 0 0;\n",
              "      width: 32px;\n",
              "    }\n",
              "\n",
              "    .colab-df-convert:hover {\n",
              "      background-color: #E2EBFA;\n",
              "      box-shadow: 0px 1px 2px rgba(60, 64, 67, 0.3), 0px 1px 3px 1px rgba(60, 64, 67, 0.15);\n",
              "      fill: #174EA6;\n",
              "    }\n",
              "\n",
              "    [theme=dark] .colab-df-convert {\n",
              "      background-color: #3B4455;\n",
              "      fill: #D2E3FC;\n",
              "    }\n",
              "\n",
              "    [theme=dark] .colab-df-convert:hover {\n",
              "      background-color: #434B5C;\n",
              "      box-shadow: 0px 1px 3px 1px rgba(0, 0, 0, 0.15);\n",
              "      filter: drop-shadow(0px 1px 2px rgba(0, 0, 0, 0.3));\n",
              "      fill: #FFFFFF;\n",
              "    }\n",
              "  </style>\n",
              "\n",
              "      <script>\n",
              "        const buttonEl =\n",
              "          document.querySelector('#df-b63db4eb-6416-4466-8f24-6813f7fae645 button.colab-df-convert');\n",
              "        buttonEl.style.display =\n",
              "          google.colab.kernel.accessAllowed ? 'block' : 'none';\n",
              "\n",
              "        async function convertToInteractive(key) {\n",
              "          const element = document.querySelector('#df-b63db4eb-6416-4466-8f24-6813f7fae645');\n",
              "          const dataTable =\n",
              "            await google.colab.kernel.invokeFunction('convertToInteractive',\n",
              "                                                     [key], {});\n",
              "          if (!dataTable) return;\n",
              "\n",
              "          const docLinkHtml = 'Like what you see? Visit the ' +\n",
              "            '<a target=\"_blank\" href=https://colab.research.google.com/notebooks/data_table.ipynb>data table notebook</a>'\n",
              "            + ' to learn more about interactive tables.';\n",
              "          element.innerHTML = '';\n",
              "          dataTable['output_type'] = 'display_data';\n",
              "          await google.colab.output.renderOutput(dataTable, element);\n",
              "          const docLink = document.createElement('div');\n",
              "          docLink.innerHTML = docLinkHtml;\n",
              "          element.appendChild(docLink);\n",
              "        }\n",
              "      </script>\n",
              "    </div>\n",
              "  </div>\n",
              "  "
            ]
          },
          "metadata": {},
          "execution_count": 119
        }
      ],
      "source": [
        "movie_list = pd.read_csv('movie_list.csv')\n",
        "movie_list.head()"
      ]
    },
    {
      "cell_type": "markdown",
      "id": "dfaadb5c",
      "metadata": {
        "id": "dfaadb5c"
      },
      "source": [
        "### 2.2 \n",
        " We can get the movie information, including url, title, year, etc., and we can save and process the dataframe data"
      ]
    },
    {
      "cell_type": "markdown",
      "id": "e542748a",
      "metadata": {
        "id": "e542748a"
      },
      "source": [
        "## 2.3 Scrape the movies information\n",
        "\n",
        "### 2.3.1 Scrape basic information (8')\n",
        "Please scrape the following information for each movie in the list:\n",
        "- Title\n",
        "- IMDb rating\n",
        "- Popularity score\n",
        "- Genres\n",
        "- Release year\n",
        "- Duration\n",
        "- Storyline\n",
        "- Box office\n",
        "\n",
        "### 2.3.2 Scrape additional information (3')\n",
        "Scrape additional details, technical specs, etc. You may need them for your analysis."
      ]
    },
    {
      "cell_type": "code",
      "execution_count": 120,
      "id": "251444d1",
      "metadata": {
        "id": "251444d1"
      },
      "outputs": [],
      "source": [
        "# 查找单个键\n",
        "def find(target, dictData, notFound):\n",
        "    queue = [dictData]\n",
        "    s = ''\n",
        "    while len(queue) > 0:\n",
        "        data = queue.pop()\n",
        "        for key, value in data.items():\n",
        "            if key.lower() == target: \n",
        "                return value\n",
        "            elif type(value) == dict: queue.append(value)\n",
        "    return notFound\n",
        "\n",
        "# 有多个同名键\n",
        "def findAll(target, dictData, notFound=[]):\n",
        "    queue = [dictData]\n",
        "    result = []\n",
        "    while len(queue) > 0:\n",
        "        data = queue.pop()\n",
        "        for key, value in data.items():\n",
        "            if key.lower() == target: result.append(value)\n",
        "            elif type(value) == dict: queue.append(value)\n",
        "    if not result: result = notFound\n",
        "    return result\n",
        "\n",
        "# 有多个同名键值\n",
        "def findValueAll(target, dictData, notFound=[]):\n",
        "    queue = [dictData]\n",
        "    result = []\n",
        "    while len(queue) > 0:\n",
        "        data = queue.pop()\n",
        "        for key, value in data.items():\n",
        "            if value == target: result.append(data)\n",
        "            elif type(value) == dict: queue.append(value)\n",
        "    if not result: result = notFound\n",
        "    return result"
      ]
    },
    {
      "cell_type": "code",
      "execution_count": 130,
      "id": "01e97751",
      "metadata": {
        "colab": {
          "base_uri": "https://localhost:8080/"
        },
        "id": "01e97751",
        "outputId": "1c4ac28c-60cb-48be-d052-c5563766bc3f"
      },
      "outputs": [
        {
          "output_type": "execute_result",
          "data": {
            "text/plain": [
              "['title',\n",
              " 'rating',\n",
              " 'score',\n",
              " 'genres',\n",
              " 'year',\n",
              " 'duration',\n",
              " 'storyLine',\n",
              " 'boxOffice',\n",
              " 'votes']"
            ]
          },
          "metadata": {},
          "execution_count": 130
        }
      ],
      "source": [
        "# imdb_movie_columns = ['Title','IMDb rating','Popularity score','Genres','Release year','Duration','Storyline','Box office', 'votes']\n",
        "imdb_movie_columns = ['title','rating','score','genres','year','duration','storyLine','boxOffice', 'votes']\n",
        "\n",
        "imdb_movie_columns"
      ]
    },
    {
      "cell_type": "code",
      "execution_count": 110,
      "id": "0dfb380a",
      "metadata": {
        "collapsed": true,
        "colab": {
          "base_uri": "https://localhost:8080/",
          "height": 1000
        },
        "id": "0dfb380a",
        "outputId": "5b0c5f88-ce9e-4fba-e2d0-f1cd541f60c2"
      },
      "outputs": [
        {
          "output_type": "stream",
          "name": "stdout",
          "text": [
            "scrape movie count: 0, movie url: https://www.imdb.com/title/tt0111161/?ref_=adv_li_tt\n",
            "scrape movie count: 1, movie url: https://www.imdb.com/title/tt0038650/?ref_=adv_li_tt\n",
            "scrape movie count: 2, movie url: https://www.imdb.com/title/tt9198364/?ref_=adv_li_tt\n",
            "scrape movie count: 3, movie url: https://www.imdb.com/title/tt0120663/?ref_=adv_li_tt\n",
            "scrape movie count: 4, movie url: https://www.imdb.com/title/tt7144666/?ref_=adv_li_tt\n",
            "scrape movie count: 5, movie url: https://www.imdb.com/title/tt0085995/?ref_=adv_li_tt\n",
            "scrape movie count: 6, movie url: https://www.imdb.com/title/tt9783600/?ref_=adv_li_tt\n",
            "scrape movie count: 7, movie url: https://www.imdb.com/title/tt0388795/?ref_=adv_li_tt\n",
            "scrape movie count: 8, movie url: https://www.imdb.com/title/tt0062622/?ref_=adv_li_tt\n",
            "scrape movie count: 9, movie url: https://www.imdb.com/title/tt2543164/?ref_=adv_li_tt\n",
            "scrape movie count: 10, movie url: https://www.imdb.com/title/tt0209144/?ref_=adv_li_tt\n",
            "scrape movie count: 11, movie url: https://www.imdb.com/title/tt0274812/?ref_=adv_li_tt\n",
            "scrape movie count: 12, movie url: https://www.imdb.com/title/tt0084787/?ref_=adv_li_tt\n",
            "scrape movie count: 13, movie url: https://www.imdb.com/title/tt0884328/?ref_=adv_li_tt\n",
            "scrape movie count: 14, movie url: https://www.imdb.com/title/tt12908110/?ref_=adv_li_tt\n",
            "scrape movie count: 15, movie url: https://www.imdb.com/title/tt0162661/?ref_=adv_li_tt\n",
            "scrape movie count: 16, movie url: https://www.imdb.com/title/tt0038669/?ref_=adv_li_tt\n",
            "scrape movie count: 17, movie url: https://www.imdb.com/title/tt0031971/?ref_=adv_li_tt\n",
            "scrape movie count: 18, movie url: https://www.imdb.com/title/tt0421715/?ref_=adv_li_tt\n",
            "scrape movie count: 19, movie url: https://www.imdb.com/title/tt0181689/?ref_=adv_li_tt\n",
            "scrape movie count: 20, movie url: https://www.imdb.com/title/tt0100802/?ref_=adv_li_tt\n",
            "scrape movie count: 21, movie url: https://www.imdb.com/title/tt2397535/?ref_=adv_li_tt\n",
            "scrape movie count: 22, movie url: https://www.imdb.com/title/tt0359950/?ref_=adv_li_tt\n",
            "scrape movie count: 23, movie url: https://www.imdb.com/title/tt0096256/?ref_=adv_li_tt\n",
            "scrape movie count: 24, movie url: https://www.imdb.com/title/tt14039582/?ref_=adv_li_tt\n",
            "scrape movie count: 25, movie url: https://www.imdb.com/title/tt0381849/?ref_=adv_li_tt\n",
            "scrape movie count: 26, movie url: https://www.imdb.com/title/tt0097757/?ref_=adv_li_tt\n",
            "scrape movie count: 27, movie url: https://www.imdb.com/title/tt0212720/?ref_=adv_li_tt\n",
            "scrape movie count: 28, movie url: https://www.imdb.com/title/tt0047396/?ref_=adv_li_tt\n",
            "scrape movie count: 29, movie url: https://www.imdb.com/title/tt0405159/?ref_=adv_li_tt\n",
            "scrape movie count: 30, movie url: https://www.imdb.com/title/tt1028532/?ref_=adv_li_tt\n",
            "scrape movie count: 31, movie url: https://www.imdb.com/title/tt3278330/?ref_=adv_li_tt\n",
            "scrape movie count: 32, movie url: https://www.imdb.com/title/tt0256103/?ref_=adv_li_tt\n",
            "scrape movie count: 33, movie url: https://www.imdb.com/title/tt7282468/?ref_=adv_li_tt\n",
            "scrape movie count: 34, movie url: https://www.imdb.com/title/tt0433035/?ref_=adv_li_tt\n",
            "scrape movie count: 35, movie url: https://www.imdb.com/title/tt1386703/?ref_=adv_li_tt\n",
            "scrape movie count: 36, movie url: https://www.imdb.com/title/tt0056869/?ref_=adv_li_tt\n",
            "scrape movie count: 37, movie url: https://www.imdb.com/title/tt0450385/?ref_=adv_li_tt\n",
            "scrape movie count: 38, movie url: https://www.imdb.com/title/tt6214928/?ref_=adv_li_tt\n",
            "scrape movie count: 39, movie url: https://www.imdb.com/title/tt1385826/?ref_=adv_li_tt\n",
            "scrape movie count: 40, movie url: https://www.imdb.com/title/tt0443543/?ref_=adv_li_tt\n",
            "scrape movie count: 41, movie url: https://www.imdb.com/title/tt0086034/?ref_=adv_li_tt\n",
            "scrape movie count: 42, movie url: https://www.imdb.com/title/tt5073642/?ref_=adv_li_tt\n",
            "scrape movie count: 43, movie url: https://www.imdb.com/title/tt0090264/?ref_=adv_li_tt\n",
            "scrape movie count: 44, movie url: https://www.imdb.com/title/tt0093428/?ref_=adv_li_tt\n",
            "scrape movie count: 45, movie url: https://www.imdb.com/title/tt0069995/?ref_=adv_li_tt\n",
            "scrape movie count: 46, movie url: https://www.imdb.com/title/tt0905372/?ref_=adv_li_tt\n",
            "scrape movie count: 47, movie url: https://www.imdb.com/title/tt0073631/?ref_=adv_li_tt\n",
            "scrape movie count: 48, movie url: https://www.imdb.com/title/tt0452625/?ref_=adv_li_tt\n",
            "scrape movie count: 49, movie url: https://www.imdb.com/title/tt0408839/?ref_=adv_li_tt\n",
            "scrape movie count: 50, movie url: https://www.imdb.com/title/tt5501104/?ref_=adv_li_tt\n",
            "scrape movie count: 51, movie url: https://www.imdb.com/title/tt0022913/?ref_=adv_li_tt\n",
            "scrape movie count: 52, movie url: https://www.imdb.com/title/tt1601913/?ref_=adv_li_tt\n",
            "scrape movie count: 53, movie url: https://www.imdb.com/title/tt0060176/?ref_=adv_li_tt\n",
            "scrape movie count: 54, movie url: https://www.imdb.com/title/tt0103919/?ref_=adv_li_tt\n",
            "scrape movie count: 55, movie url: https://www.imdb.com/title/tt0435705/?ref_=adv_li_tt\n",
            "scrape movie count: 56, movie url: https://www.imdb.com/title/tt0087050/?ref_=adv_li_tt\n",
            "scrape movie count: 57, movie url: https://www.imdb.com/title/tt1600196/?ref_=adv_li_tt\n",
            "scrape movie count: 58, movie url: https://www.imdb.com/title/tt0889573/?ref_=adv_li_tt\n",
            "scrape movie count: 59, movie url: https://www.imdb.com/title/tt0119675/?ref_=adv_li_tt\n",
            "scrape movie count: 60, movie url: https://www.imdb.com/title/tt0042192/?ref_=adv_li_tt\n",
            "scrape movie count: 61, movie url: https://www.imdb.com/title/tt0182789/?ref_=adv_li_tt\n",
            "scrape movie count: 62, movie url: https://www.imdb.com/title/tt0089885/?ref_=adv_li_tt\n",
            "scrape movie count: 63, movie url: https://www.imdb.com/title/tt0113481/?ref_=adv_li_tt\n",
            "scrape movie count: 64, movie url: https://www.imdb.com/title/tt0045061/?ref_=adv_li_tt\n",
            "scrape movie count: 65, movie url: https://www.imdb.com/title/tt0047472/?ref_=adv_li_tt\n",
            "scrape movie count: 66, movie url: https://www.imdb.com/title/tt0042876/?ref_=adv_li_tt\n",
            "scrape movie count: 67, movie url: https://www.imdb.com/title/tt0100740/?ref_=adv_li_tt\n",
            "scrape movie count: 68, movie url: https://www.imdb.com/title/tt0101428/?ref_=adv_li_tt\n",
            "scrape movie count: 69, movie url: https://www.imdb.com/title/tt0063663/?ref_=adv_li_tt\n",
            "scrape movie count: 70, movie url: https://www.imdb.com/title/tt0104692/?ref_=adv_li_tt\n",
            "scrape movie count: 71, movie url: https://www.imdb.com/title/tt0044121/?ref_=adv_li_tt\n"
          ]
        },
        {
          "output_type": "error",
          "ename": "TypeError",
          "evalue": "ignored",
          "traceback": [
            "\u001b[0;31m---------------------------------------------------------------------------\u001b[0m",
            "\u001b[0;31mTypeError\u001b[0m                                 Traceback (most recent call last)",
            "\u001b[0;32m<ipython-input-110-45dff18da3ce>\u001b[0m in \u001b[0;36m<module>\u001b[0;34m\u001b[0m\n\u001b[1;32m     19\u001b[0m     \u001b[0mitem\u001b[0m\u001b[0;34m.\u001b[0m\u001b[0mappend\u001b[0m\u001b[0;34m(\u001b[0m\u001b[0mj_script2\u001b[0m\u001b[0;34m[\u001b[0m\u001b[0;34m'props'\u001b[0m\u001b[0;34m]\u001b[0m\u001b[0;34m[\u001b[0m\u001b[0;34m'pageProps'\u001b[0m\u001b[0;34m]\u001b[0m\u001b[0;34m[\u001b[0m\u001b[0;34m'aboveTheFoldData'\u001b[0m\u001b[0;34m]\u001b[0m\u001b[0;34m[\u001b[0m\u001b[0;34m'ratingsSummary'\u001b[0m\u001b[0;34m]\u001b[0m\u001b[0;34m[\u001b[0m\u001b[0;34m'aggregateRating'\u001b[0m\u001b[0;34m]\u001b[0m\u001b[0;34m)\u001b[0m\u001b[0;34m\u001b[0m\u001b[0;34m\u001b[0m\u001b[0m\n\u001b[1;32m     20\u001b[0m     \u001b[0;31m# popularity score\u001b[0m\u001b[0;34m\u001b[0m\u001b[0;34m\u001b[0m\u001b[0;34m\u001b[0m\u001b[0m\n\u001b[0;32m---> 21\u001b[0;31m     \u001b[0mitem\u001b[0m\u001b[0;34m.\u001b[0m\u001b[0mappend\u001b[0m\u001b[0;34m(\u001b[0m\u001b[0mj_script2\u001b[0m\u001b[0;34m[\u001b[0m\u001b[0;34m'props'\u001b[0m\u001b[0;34m]\u001b[0m\u001b[0;34m[\u001b[0m\u001b[0;34m'pageProps'\u001b[0m\u001b[0;34m]\u001b[0m\u001b[0;34m[\u001b[0m\u001b[0;34m'aboveTheFoldData'\u001b[0m\u001b[0;34m]\u001b[0m\u001b[0;34m[\u001b[0m\u001b[0;34m'meterRanking'\u001b[0m\u001b[0;34m]\u001b[0m\u001b[0;34m[\u001b[0m\u001b[0;34m'currentRank'\u001b[0m\u001b[0;34m]\u001b[0m\u001b[0;34m)\u001b[0m\u001b[0;34m\u001b[0m\u001b[0;34m\u001b[0m\u001b[0m\n\u001b[0m\u001b[1;32m     22\u001b[0m     \u001b[0;31m# genres\u001b[0m\u001b[0;34m\u001b[0m\u001b[0;34m\u001b[0m\u001b[0;34m\u001b[0m\u001b[0m\n\u001b[1;32m     23\u001b[0m     \u001b[0mitem\u001b[0m\u001b[0;34m.\u001b[0m\u001b[0mappend\u001b[0m\u001b[0;34m(\u001b[0m\u001b[0;34m[\u001b[0m\u001b[0m_\u001b[0m\u001b[0;34m[\u001b[0m\u001b[0;34m'text'\u001b[0m\u001b[0;34m]\u001b[0m \u001b[0;32mfor\u001b[0m \u001b[0m_\u001b[0m \u001b[0;32min\u001b[0m \u001b[0mj_script2\u001b[0m\u001b[0;34m[\u001b[0m\u001b[0;34m'props'\u001b[0m\u001b[0;34m]\u001b[0m\u001b[0;34m[\u001b[0m\u001b[0;34m'pageProps'\u001b[0m\u001b[0;34m]\u001b[0m\u001b[0;34m[\u001b[0m\u001b[0;34m'aboveTheFoldData'\u001b[0m\u001b[0;34m]\u001b[0m\u001b[0;34m[\u001b[0m\u001b[0;34m'genres'\u001b[0m\u001b[0;34m]\u001b[0m\u001b[0;34m[\u001b[0m\u001b[0;34m'genres'\u001b[0m\u001b[0;34m]\u001b[0m\u001b[0;34m]\u001b[0m\u001b[0;34m)\u001b[0m\u001b[0;34m\u001b[0m\u001b[0;34m\u001b[0m\u001b[0m\n",
            "\u001b[0;31mTypeError\u001b[0m: 'NoneType' object is not subscriptable"
          ]
        }
      ],
      "source": [
        "imdb_movies_d = {k: [] for k in imdb_movie_columns}\n",
        "\n",
        "\n",
        "for i, movie in movie_list.iterrows():\n",
        "    item = []\n",
        "    #print(movie.title)\n",
        "    #raise Exception(\"debug\")\n",
        "    res = requests.get(movie.url, headers={'User-Agent': uae.chrome})\n",
        "    soup = BeautifulSoup(res.text, 'html.parser')\n",
        "    \n",
        "    script1 = soup.find(type='application/ld+json').string\n",
        "    j_script1 = json.loads(script1)\n",
        "    script2 = soup.find(id=\"__NEXT_DATA__\").string    \n",
        "    j_script2 = json.loads(script2)\n",
        "    \n",
        "    # Title\n",
        "    item.append(movie.title)\n",
        "    # rating\n",
        "    item.append(j_script2['props']['pageProps']['aboveTheFoldData']['ratingsSummary']['aggregateRating'])\n",
        "    # popularity score\n",
        "    item.append(j_script2['props']['pageProps']['aboveTheFoldData']['meterRanking']['currentRank'])\n",
        "    # genres\n",
        "    item.append([_['text'] for _ in j_script2['props']['pageProps']['aboveTheFoldData']['genres']['genres']])\n",
        "    # release year\n",
        "    item.append(movie.year)\n",
        "    # duration\n",
        "    item.append(j_script1['duration'])\n",
        "    # story line\n",
        "    item.append(j_script1['description'])\n",
        "    # box office gross\n",
        "    # boxoffice = findValueAll('BoxOfficeGross', data2)]\n",
        "    try:\n",
        "        item.append(find('worldwidegross', j_script2)['total']['amount'])\n",
        "    except:\n",
        "        item.append('')\n",
        "    # aspect ratio technical spec\n",
        "    try:\n",
        "        item.append(find('aspectratios', j_script2['props'])['items'][0]['aspectRatio'].replace(' ', ''))\n",
        "    except:\n",
        "        item.append('')\n",
        "    with open('imdb_movies_buff.txt', 'a+', encoding='utf-8') as f:\n",
        "        line = '|'.join([str(_) for _ in item]) + '\\n'\n",
        "        f.write(line)\n",
        "    print(f'scrape movie count: {i}, movie url: {movie.url}')"
      ]
    },
    {
      "cell_type": "code",
      "execution_count": 121,
      "id": "9306a320",
      "metadata": {
        "collapsed": true,
        "colab": {
          "base_uri": "https://localhost:8080/",
          "height": 337
        },
        "id": "9306a320",
        "outputId": "d0cb3ec3-73c8-438c-d5a8-9a86ba00a2ae"
      },
      "outputs": [
        {
          "output_type": "execute_result",
          "data": {
            "text/plain": [
              "                             title  rating  score  \\\n",
              "0         The Shawshank Redemption     9.3     97   \n",
              "1            It's a Wonderful Life     8.6    134   \n",
              "2  Three Thousand Years of Longing     6.7    202   \n",
              "3                   Eyes Wide Shut     7.5    206   \n",
              "4                  The Black Phone     6.9    207   \n",
              "\n",
              "                                      genres  year duration  \\\n",
              "0                                  ['Drama']  1994  PT2H22M   \n",
              "1  ['Drama', 'Family', 'Fantasy', 'Romance']  1946  PT2H10M   \n",
              "2            ['Drama', 'Fantasy', 'Romance']  2022  PT1H48M   \n",
              "3           ['Drama', 'Mystery', 'Thriller']  1999  PT2H39M   \n",
              "4                     ['Horror', 'Thriller']  2021  PT1H43M   \n",
              "\n",
              "                                           storyLine    boxOffice aspectRatio  \n",
              "0  Two imprisoned men bond over a number of years...   28884504.0      1.85:1  \n",
              "1  An angel is sent from Heaven to help a despera...    6184298.0      1.37:1  \n",
              "2  A lonely scholar, on a trip to Istanbul, disco...   19223063.0      2.39:1  \n",
              "3  A Manhattan doctor embarks on a bizarre, night...  162242684.0         NaN  \n",
              "4  After being abducted by a child killer and loc...  161204742.0      2.39:1  "
            ],
            "text/html": [
              "\n",
              "  <div id=\"df-1c00bed1-a531-45ea-a2f5-bfce6e8f3417\">\n",
              "    <div class=\"colab-df-container\">\n",
              "      <div>\n",
              "<style scoped>\n",
              "    .dataframe tbody tr th:only-of-type {\n",
              "        vertical-align: middle;\n",
              "    }\n",
              "\n",
              "    .dataframe tbody tr th {\n",
              "        vertical-align: top;\n",
              "    }\n",
              "\n",
              "    .dataframe thead th {\n",
              "        text-align: right;\n",
              "    }\n",
              "</style>\n",
              "<table border=\"1\" class=\"dataframe\">\n",
              "  <thead>\n",
              "    <tr style=\"text-align: right;\">\n",
              "      <th></th>\n",
              "      <th>title</th>\n",
              "      <th>rating</th>\n",
              "      <th>score</th>\n",
              "      <th>genres</th>\n",
              "      <th>year</th>\n",
              "      <th>duration</th>\n",
              "      <th>storyLine</th>\n",
              "      <th>boxOffice</th>\n",
              "      <th>aspectRatio</th>\n",
              "    </tr>\n",
              "  </thead>\n",
              "  <tbody>\n",
              "    <tr>\n",
              "      <th>0</th>\n",
              "      <td>The Shawshank Redemption</td>\n",
              "      <td>9.3</td>\n",
              "      <td>97</td>\n",
              "      <td>['Drama']</td>\n",
              "      <td>1994</td>\n",
              "      <td>PT2H22M</td>\n",
              "      <td>Two imprisoned men bond over a number of years...</td>\n",
              "      <td>28884504.0</td>\n",
              "      <td>1.85:1</td>\n",
              "    </tr>\n",
              "    <tr>\n",
              "      <th>1</th>\n",
              "      <td>It's a Wonderful Life</td>\n",
              "      <td>8.6</td>\n",
              "      <td>134</td>\n",
              "      <td>['Drama', 'Family', 'Fantasy', 'Romance']</td>\n",
              "      <td>1946</td>\n",
              "      <td>PT2H10M</td>\n",
              "      <td>An angel is sent from Heaven to help a despera...</td>\n",
              "      <td>6184298.0</td>\n",
              "      <td>1.37:1</td>\n",
              "    </tr>\n",
              "    <tr>\n",
              "      <th>2</th>\n",
              "      <td>Three Thousand Years of Longing</td>\n",
              "      <td>6.7</td>\n",
              "      <td>202</td>\n",
              "      <td>['Drama', 'Fantasy', 'Romance']</td>\n",
              "      <td>2022</td>\n",
              "      <td>PT1H48M</td>\n",
              "      <td>A lonely scholar, on a trip to Istanbul, disco...</td>\n",
              "      <td>19223063.0</td>\n",
              "      <td>2.39:1</td>\n",
              "    </tr>\n",
              "    <tr>\n",
              "      <th>3</th>\n",
              "      <td>Eyes Wide Shut</td>\n",
              "      <td>7.5</td>\n",
              "      <td>206</td>\n",
              "      <td>['Drama', 'Mystery', 'Thriller']</td>\n",
              "      <td>1999</td>\n",
              "      <td>PT2H39M</td>\n",
              "      <td>A Manhattan doctor embarks on a bizarre, night...</td>\n",
              "      <td>162242684.0</td>\n",
              "      <td>NaN</td>\n",
              "    </tr>\n",
              "    <tr>\n",
              "      <th>4</th>\n",
              "      <td>The Black Phone</td>\n",
              "      <td>6.9</td>\n",
              "      <td>207</td>\n",
              "      <td>['Horror', 'Thriller']</td>\n",
              "      <td>2021</td>\n",
              "      <td>PT1H43M</td>\n",
              "      <td>After being abducted by a child killer and loc...</td>\n",
              "      <td>161204742.0</td>\n",
              "      <td>2.39:1</td>\n",
              "    </tr>\n",
              "  </tbody>\n",
              "</table>\n",
              "</div>\n",
              "      <button class=\"colab-df-convert\" onclick=\"convertToInteractive('df-1c00bed1-a531-45ea-a2f5-bfce6e8f3417')\"\n",
              "              title=\"Convert this dataframe to an interactive table.\"\n",
              "              style=\"display:none;\">\n",
              "        \n",
              "  <svg xmlns=\"http://www.w3.org/2000/svg\" height=\"24px\"viewBox=\"0 0 24 24\"\n",
              "       width=\"24px\">\n",
              "    <path d=\"M0 0h24v24H0V0z\" fill=\"none\"/>\n",
              "    <path d=\"M18.56 5.44l.94 2.06.94-2.06 2.06-.94-2.06-.94-.94-2.06-.94 2.06-2.06.94zm-11 1L8.5 8.5l.94-2.06 2.06-.94-2.06-.94L8.5 2.5l-.94 2.06-2.06.94zm10 10l.94 2.06.94-2.06 2.06-.94-2.06-.94-.94-2.06-.94 2.06-2.06.94z\"/><path d=\"M17.41 7.96l-1.37-1.37c-.4-.4-.92-.59-1.43-.59-.52 0-1.04.2-1.43.59L10.3 9.45l-7.72 7.72c-.78.78-.78 2.05 0 2.83L4 21.41c.39.39.9.59 1.41.59.51 0 1.02-.2 1.41-.59l7.78-7.78 2.81-2.81c.8-.78.8-2.07 0-2.86zM5.41 20L4 18.59l7.72-7.72 1.47 1.35L5.41 20z\"/>\n",
              "  </svg>\n",
              "      </button>\n",
              "      \n",
              "  <style>\n",
              "    .colab-df-container {\n",
              "      display:flex;\n",
              "      flex-wrap:wrap;\n",
              "      gap: 12px;\n",
              "    }\n",
              "\n",
              "    .colab-df-convert {\n",
              "      background-color: #E8F0FE;\n",
              "      border: none;\n",
              "      border-radius: 50%;\n",
              "      cursor: pointer;\n",
              "      display: none;\n",
              "      fill: #1967D2;\n",
              "      height: 32px;\n",
              "      padding: 0 0 0 0;\n",
              "      width: 32px;\n",
              "    }\n",
              "\n",
              "    .colab-df-convert:hover {\n",
              "      background-color: #E2EBFA;\n",
              "      box-shadow: 0px 1px 2px rgba(60, 64, 67, 0.3), 0px 1px 3px 1px rgba(60, 64, 67, 0.15);\n",
              "      fill: #174EA6;\n",
              "    }\n",
              "\n",
              "    [theme=dark] .colab-df-convert {\n",
              "      background-color: #3B4455;\n",
              "      fill: #D2E3FC;\n",
              "    }\n",
              "\n",
              "    [theme=dark] .colab-df-convert:hover {\n",
              "      background-color: #434B5C;\n",
              "      box-shadow: 0px 1px 3px 1px rgba(0, 0, 0, 0.15);\n",
              "      filter: drop-shadow(0px 1px 2px rgba(0, 0, 0, 0.3));\n",
              "      fill: #FFFFFF;\n",
              "    }\n",
              "  </style>\n",
              "\n",
              "      <script>\n",
              "        const buttonEl =\n",
              "          document.querySelector('#df-1c00bed1-a531-45ea-a2f5-bfce6e8f3417 button.colab-df-convert');\n",
              "        buttonEl.style.display =\n",
              "          google.colab.kernel.accessAllowed ? 'block' : 'none';\n",
              "\n",
              "        async function convertToInteractive(key) {\n",
              "          const element = document.querySelector('#df-1c00bed1-a531-45ea-a2f5-bfce6e8f3417');\n",
              "          const dataTable =\n",
              "            await google.colab.kernel.invokeFunction('convertToInteractive',\n",
              "                                                     [key], {});\n",
              "          if (!dataTable) return;\n",
              "\n",
              "          const docLinkHtml = 'Like what you see? Visit the ' +\n",
              "            '<a target=\"_blank\" href=https://colab.research.google.com/notebooks/data_table.ipynb>data table notebook</a>'\n",
              "            + ' to learn more about interactive tables.';\n",
              "          element.innerHTML = '';\n",
              "          dataTable['output_type'] = 'display_data';\n",
              "          await google.colab.output.renderOutput(dataTable, element);\n",
              "          const docLink = document.createElement('div');\n",
              "          docLink.innerHTML = docLinkHtml;\n",
              "          element.appendChild(docLink);\n",
              "        }\n",
              "      </script>\n",
              "    </div>\n",
              "  </div>\n",
              "  "
            ]
          },
          "metadata": {},
          "execution_count": 121
        }
      ],
      "source": [
        "# use the disk io instead of the network io, reduce the memory ocuupation cost\n",
        "imdb_movies = pd.read_csv('imdb_movies_buff.txt', sep='|', header=None)\n",
        "imdb_movies.columns = imdb_movie_columns\n",
        "imdb_movies.head()"
      ]
    },
    {
      "cell_type": "code",
      "execution_count": 123,
      "id": "10726bf7",
      "metadata": {
        "id": "10726bf7"
      },
      "outputs": [],
      "source": [
        "imdb_movies.to_csv('imdb_movies.csv')"
      ]
    },
    {
      "cell_type": "markdown",
      "id": "c71b7a50",
      "metadata": {
        "id": "c71b7a50"
      },
      "source": [
        "## 2.3.3 Scrape cast information (3')"
      ]
    },
    {
      "cell_type": "code",
      "source": [
        "cast_ut = 'https://www.imdb.com/title/{}/fullcredits/?ref_=tt_cl_sm'\n",
        "columns = ['title', 'directors', 'cast', 'role']\n",
        "\n",
        "def deal_one_multiple(selector, target):\n",
        "    '''solved one corresponds to several'''\n",
        "    data = []\n",
        "    for _ in soup.select(selector):\n",
        "        nodes = _.select(target)\n",
        "        if len(nodes)==1:\n",
        "            each = nodes[0].string.strip()\n",
        "        else:\n",
        "            each = [node.string.strip() for node in nodes]\n",
        "        data.append(each)\n",
        "    return data\n",
        "\n",
        "def write_batch_to_file(title, directors, casts, roles):\n",
        "    with open('cast_buff.txt', 'a+', encoding='utf-8') as f:\n",
        "        for i, cast in enumerate(casts):\n",
        "            line = '|'.join([title, str(directors), cast, str(roles[i])]) + '\\n'\n",
        "            f.write(line)\n",
        "            \n",
        "\n",
        "for i, movie in movie_list[['title', 'url']].iterrows():\n",
        "    mid = re.search('(tt\\d+)', movie.url).group(1)\n",
        "    response = requests.get(cast_ut.format(mid), headers={'User-Agent': uae.chrome})\n",
        "    soup = BeautifulSoup(response.text, 'html.parser')\n",
        "    \n",
        "    casts = [_.find_next_sibling().a.string.strip() for _ in soup.select('table.cast_list tr td.primary_photo')]\n",
        "\n",
        "    # one cast to multiple roles\n",
        "    roles = deal_one_multiple('table.cast_list tr td.character', 'a')\n",
        "\n",
        "    # l1 = len(casts)\n",
        "    # l2 = len(imdb_cast_d['role'])\n",
        "    # titles.extend([movie.title for _ in range(l1)])\n",
        "    directors = deal_one_multiple('#fullcredits_content > table:nth-of-type(1) > tbody > tr > td.name', 'a')\n",
        "    \n",
        "    # write file, reduce the program executation memory\n",
        "    write_batch_to_file(movie.title, directors, casts, roles)\n",
        "\n",
        "    print(f'scrape movie count: {i}, movie url: {cast_ut.format(mid)}')"
      ],
      "metadata": {
        "colab": {
          "base_uri": "https://localhost:8080/"
        },
        "id": "e40d97KeozxJ",
        "outputId": "f70a5e59-da2e-41c4-9126-6558c1ae65b9"
      },
      "id": "e40d97KeozxJ",
      "execution_count": 124,
      "outputs": [
        {
          "output_type": "stream",
          "name": "stdout",
          "text": [
            "scrape movie count: 0, movie url: https://www.imdb.com/title/tt0111161/fullcredits/?ref_=tt_cl_sm\n",
            "scrape movie count: 1, movie url: https://www.imdb.com/title/tt0038650/fullcredits/?ref_=tt_cl_sm\n",
            "scrape movie count: 2, movie url: https://www.imdb.com/title/tt9198364/fullcredits/?ref_=tt_cl_sm\n",
            "scrape movie count: 3, movie url: https://www.imdb.com/title/tt0120663/fullcredits/?ref_=tt_cl_sm\n",
            "scrape movie count: 4, movie url: https://www.imdb.com/title/tt7144666/fullcredits/?ref_=tt_cl_sm\n",
            "scrape movie count: 5, movie url: https://www.imdb.com/title/tt0085995/fullcredits/?ref_=tt_cl_sm\n",
            "scrape movie count: 6, movie url: https://www.imdb.com/title/tt9783600/fullcredits/?ref_=tt_cl_sm\n",
            "scrape movie count: 7, movie url: https://www.imdb.com/title/tt0388795/fullcredits/?ref_=tt_cl_sm\n",
            "scrape movie count: 8, movie url: https://www.imdb.com/title/tt0062622/fullcredits/?ref_=tt_cl_sm\n",
            "scrape movie count: 9, movie url: https://www.imdb.com/title/tt2543164/fullcredits/?ref_=tt_cl_sm\n",
            "scrape movie count: 10, movie url: https://www.imdb.com/title/tt0209144/fullcredits/?ref_=tt_cl_sm\n",
            "scrape movie count: 11, movie url: https://www.imdb.com/title/tt0274812/fullcredits/?ref_=tt_cl_sm\n",
            "scrape movie count: 12, movie url: https://www.imdb.com/title/tt0084787/fullcredits/?ref_=tt_cl_sm\n",
            "scrape movie count: 13, movie url: https://www.imdb.com/title/tt0884328/fullcredits/?ref_=tt_cl_sm\n",
            "scrape movie count: 14, movie url: https://www.imdb.com/title/tt12908110/fullcredits/?ref_=tt_cl_sm\n",
            "scrape movie count: 15, movie url: https://www.imdb.com/title/tt0162661/fullcredits/?ref_=tt_cl_sm\n",
            "scrape movie count: 16, movie url: https://www.imdb.com/title/tt0038669/fullcredits/?ref_=tt_cl_sm\n",
            "scrape movie count: 17, movie url: https://www.imdb.com/title/tt0031971/fullcredits/?ref_=tt_cl_sm\n",
            "scrape movie count: 18, movie url: https://www.imdb.com/title/tt0421715/fullcredits/?ref_=tt_cl_sm\n",
            "scrape movie count: 19, movie url: https://www.imdb.com/title/tt0181689/fullcredits/?ref_=tt_cl_sm\n",
            "scrape movie count: 20, movie url: https://www.imdb.com/title/tt0100802/fullcredits/?ref_=tt_cl_sm\n",
            "scrape movie count: 21, movie url: https://www.imdb.com/title/tt2397535/fullcredits/?ref_=tt_cl_sm\n",
            "scrape movie count: 22, movie url: https://www.imdb.com/title/tt0359950/fullcredits/?ref_=tt_cl_sm\n",
            "scrape movie count: 23, movie url: https://www.imdb.com/title/tt0096256/fullcredits/?ref_=tt_cl_sm\n",
            "scrape movie count: 24, movie url: https://www.imdb.com/title/tt14039582/fullcredits/?ref_=tt_cl_sm\n",
            "scrape movie count: 25, movie url: https://www.imdb.com/title/tt0381849/fullcredits/?ref_=tt_cl_sm\n",
            "scrape movie count: 26, movie url: https://www.imdb.com/title/tt0097757/fullcredits/?ref_=tt_cl_sm\n",
            "scrape movie count: 27, movie url: https://www.imdb.com/title/tt0212720/fullcredits/?ref_=tt_cl_sm\n",
            "scrape movie count: 28, movie url: https://www.imdb.com/title/tt0047396/fullcredits/?ref_=tt_cl_sm\n",
            "scrape movie count: 29, movie url: https://www.imdb.com/title/tt0405159/fullcredits/?ref_=tt_cl_sm\n",
            "scrape movie count: 30, movie url: https://www.imdb.com/title/tt1028532/fullcredits/?ref_=tt_cl_sm\n",
            "scrape movie count: 31, movie url: https://www.imdb.com/title/tt3278330/fullcredits/?ref_=tt_cl_sm\n",
            "scrape movie count: 32, movie url: https://www.imdb.com/title/tt0256103/fullcredits/?ref_=tt_cl_sm\n",
            "scrape movie count: 33, movie url: https://www.imdb.com/title/tt7282468/fullcredits/?ref_=tt_cl_sm\n",
            "scrape movie count: 34, movie url: https://www.imdb.com/title/tt0433035/fullcredits/?ref_=tt_cl_sm\n",
            "scrape movie count: 35, movie url: https://www.imdb.com/title/tt1386703/fullcredits/?ref_=tt_cl_sm\n",
            "scrape movie count: 36, movie url: https://www.imdb.com/title/tt0056869/fullcredits/?ref_=tt_cl_sm\n",
            "scrape movie count: 37, movie url: https://www.imdb.com/title/tt0450385/fullcredits/?ref_=tt_cl_sm\n",
            "scrape movie count: 38, movie url: https://www.imdb.com/title/tt6214928/fullcredits/?ref_=tt_cl_sm\n",
            "scrape movie count: 39, movie url: https://www.imdb.com/title/tt1385826/fullcredits/?ref_=tt_cl_sm\n",
            "scrape movie count: 40, movie url: https://www.imdb.com/title/tt0443543/fullcredits/?ref_=tt_cl_sm\n",
            "scrape movie count: 41, movie url: https://www.imdb.com/title/tt0086034/fullcredits/?ref_=tt_cl_sm\n",
            "scrape movie count: 42, movie url: https://www.imdb.com/title/tt5073642/fullcredits/?ref_=tt_cl_sm\n",
            "scrape movie count: 43, movie url: https://www.imdb.com/title/tt0090264/fullcredits/?ref_=tt_cl_sm\n",
            "scrape movie count: 44, movie url: https://www.imdb.com/title/tt0093428/fullcredits/?ref_=tt_cl_sm\n",
            "scrape movie count: 45, movie url: https://www.imdb.com/title/tt0069995/fullcredits/?ref_=tt_cl_sm\n",
            "scrape movie count: 46, movie url: https://www.imdb.com/title/tt0905372/fullcredits/?ref_=tt_cl_sm\n",
            "scrape movie count: 47, movie url: https://www.imdb.com/title/tt0073631/fullcredits/?ref_=tt_cl_sm\n",
            "scrape movie count: 48, movie url: https://www.imdb.com/title/tt0452625/fullcredits/?ref_=tt_cl_sm\n",
            "scrape movie count: 49, movie url: https://www.imdb.com/title/tt0408839/fullcredits/?ref_=tt_cl_sm\n",
            "scrape movie count: 50, movie url: https://www.imdb.com/title/tt5501104/fullcredits/?ref_=tt_cl_sm\n",
            "scrape movie count: 51, movie url: https://www.imdb.com/title/tt0022913/fullcredits/?ref_=tt_cl_sm\n",
            "scrape movie count: 52, movie url: https://www.imdb.com/title/tt1601913/fullcredits/?ref_=tt_cl_sm\n",
            "scrape movie count: 53, movie url: https://www.imdb.com/title/tt0060176/fullcredits/?ref_=tt_cl_sm\n",
            "scrape movie count: 54, movie url: https://www.imdb.com/title/tt0103919/fullcredits/?ref_=tt_cl_sm\n",
            "scrape movie count: 55, movie url: https://www.imdb.com/title/tt0435705/fullcredits/?ref_=tt_cl_sm\n",
            "scrape movie count: 56, movie url: https://www.imdb.com/title/tt0087050/fullcredits/?ref_=tt_cl_sm\n",
            "scrape movie count: 57, movie url: https://www.imdb.com/title/tt1600196/fullcredits/?ref_=tt_cl_sm\n",
            "scrape movie count: 58, movie url: https://www.imdb.com/title/tt0889573/fullcredits/?ref_=tt_cl_sm\n",
            "scrape movie count: 59, movie url: https://www.imdb.com/title/tt0119675/fullcredits/?ref_=tt_cl_sm\n",
            "scrape movie count: 60, movie url: https://www.imdb.com/title/tt0042192/fullcredits/?ref_=tt_cl_sm\n",
            "scrape movie count: 61, movie url: https://www.imdb.com/title/tt0182789/fullcredits/?ref_=tt_cl_sm\n",
            "scrape movie count: 62, movie url: https://www.imdb.com/title/tt0089885/fullcredits/?ref_=tt_cl_sm\n",
            "scrape movie count: 63, movie url: https://www.imdb.com/title/tt0113481/fullcredits/?ref_=tt_cl_sm\n",
            "scrape movie count: 64, movie url: https://www.imdb.com/title/tt0045061/fullcredits/?ref_=tt_cl_sm\n",
            "scrape movie count: 65, movie url: https://www.imdb.com/title/tt0047472/fullcredits/?ref_=tt_cl_sm\n",
            "scrape movie count: 66, movie url: https://www.imdb.com/title/tt0042876/fullcredits/?ref_=tt_cl_sm\n",
            "scrape movie count: 67, movie url: https://www.imdb.com/title/tt0100740/fullcredits/?ref_=tt_cl_sm\n",
            "scrape movie count: 68, movie url: https://www.imdb.com/title/tt0101428/fullcredits/?ref_=tt_cl_sm\n",
            "scrape movie count: 69, movie url: https://www.imdb.com/title/tt0063663/fullcredits/?ref_=tt_cl_sm\n",
            "scrape movie count: 70, movie url: https://www.imdb.com/title/tt0104692/fullcredits/?ref_=tt_cl_sm\n",
            "scrape movie count: 71, movie url: https://www.imdb.com/title/tt0044121/fullcredits/?ref_=tt_cl_sm\n",
            "scrape movie count: 72, movie url: https://www.imdb.com/title/tt2053425/fullcredits/?ref_=tt_cl_sm\n",
            "scrape movie count: 73, movie url: https://www.imdb.com/title/tt0048280/fullcredits/?ref_=tt_cl_sm\n",
            "scrape movie count: 74, movie url: https://www.imdb.com/title/tt0362478/fullcredits/?ref_=tt_cl_sm\n",
            "scrape movie count: 75, movie url: https://www.imdb.com/title/tt0075968/fullcredits/?ref_=tt_cl_sm\n",
            "scrape movie count: 76, movie url: https://www.imdb.com/title/tt3859310/fullcredits/?ref_=tt_cl_sm\n",
            "scrape movie count: 77, movie url: https://www.imdb.com/title/tt0087075/fullcredits/?ref_=tt_cl_sm\n",
            "scrape movie count: 78, movie url: https://www.imdb.com/title/tt13087796/fullcredits/?ref_=tt_cl_sm\n",
            "scrape movie count: 79, movie url: https://www.imdb.com/title/tt0070832/fullcredits/?ref_=tt_cl_sm\n",
            "scrape movie count: 80, movie url: https://www.imdb.com/title/tt0091499/fullcredits/?ref_=tt_cl_sm\n",
            "scrape movie count: 81, movie url: https://www.imdb.com/title/tt0091083/fullcredits/?ref_=tt_cl_sm\n",
            "scrape movie count: 82, movie url: https://www.imdb.com/title/tt11080108/fullcredits/?ref_=tt_cl_sm\n",
            "scrape movie count: 83, movie url: https://www.imdb.com/title/tt0114367/fullcredits/?ref_=tt_cl_sm\n",
            "scrape movie count: 84, movie url: https://www.imdb.com/title/tt0108122/fullcredits/?ref_=tt_cl_sm\n",
            "scrape movie count: 85, movie url: https://www.imdb.com/title/tt0805570/fullcredits/?ref_=tt_cl_sm\n",
            "scrape movie count: 86, movie url: https://www.imdb.com/title/tt0055184/fullcredits/?ref_=tt_cl_sm\n",
            "scrape movie count: 87, movie url: https://www.imdb.com/title/tt0048140/fullcredits/?ref_=tt_cl_sm\n",
            "scrape movie count: 88, movie url: https://www.imdb.com/title/tt0382628/fullcredits/?ref_=tt_cl_sm\n",
            "scrape movie count: 89, movie url: https://www.imdb.com/title/tt0045883/fullcredits/?ref_=tt_cl_sm\n",
            "scrape movie count: 90, movie url: https://www.imdb.com/title/tt9738784/fullcredits/?ref_=tt_cl_sm\n",
            "scrape movie count: 91, movie url: https://www.imdb.com/title/tt0051622/fullcredits/?ref_=tt_cl_sm\n",
            "scrape movie count: 92, movie url: https://www.imdb.com/title/tt0112438/fullcredits/?ref_=tt_cl_sm\n",
            "scrape movie count: 93, movie url: https://www.imdb.com/title/tt0338337/fullcredits/?ref_=tt_cl_sm\n",
            "scrape movie count: 94, movie url: https://www.imdb.com/title/tt7798604/fullcredits/?ref_=tt_cl_sm\n",
            "scrape movie count: 95, movie url: https://www.imdb.com/title/tt0092603/fullcredits/?ref_=tt_cl_sm\n",
            "scrape movie count: 96, movie url: https://www.imdb.com/title/tt0281686/fullcredits/?ref_=tt_cl_sm\n",
            "scrape movie count: 97, movie url: https://www.imdb.com/title/tt1772264/fullcredits/?ref_=tt_cl_sm\n",
            "scrape movie count: 98, movie url: https://www.imdb.com/title/tt6874762/fullcredits/?ref_=tt_cl_sm\n",
            "scrape movie count: 99, movie url: https://www.imdb.com/title/tt0092796/fullcredits/?ref_=tt_cl_sm\n"
          ]
        }
      ]
    },
    {
      "cell_type": "code",
      "source": [
        "imdb_cast = pd.read_csv('cast_buff.txt', sep='|', header=None)\n",
        "imdb_cast.columns = ['title', 'directors', 'cast', 'role']\n",
        "# imdb_cast.head()\n",
        "imdb_cast.shape"
      ],
      "metadata": {
        "colab": {
          "base_uri": "https://localhost:8080/"
        },
        "id": "uGzy15XVpgIc",
        "outputId": "ce42e949-21b8-4ad7-ab51-2537deb01800"
      },
      "id": "uGzy15XVpgIc",
      "execution_count": 125,
      "outputs": [
        {
          "output_type": "execute_result",
          "data": {
            "text/plain": [
              "(5348, 4)"
            ]
          },
          "metadata": {},
          "execution_count": 125
        }
      ]
    },
    {
      "cell_type": "code",
      "source": [
        "imdb_cast.to_csv('imdb_cast.csv')"
      ],
      "metadata": {
        "id": "ZTbTfkVHpk08"
      },
      "id": "ZTbTfkVHpk08",
      "execution_count": 126,
      "outputs": []
    },
    {
      "cell_type": "markdown",
      "id": "ba7256e3",
      "metadata": {
        "id": "ba7256e3"
      },
      "source": [
        "## 2.3.4 Scrape connections information (3')"
      ]
    },
    {
      "cell_type": "code",
      "execution_count": 131,
      "id": "521f70da",
      "metadata": {
        "id": "521f70da"
      },
      "outputs": [],
      "source": [
        "def get_elements(elem):\n",
        "    elems = []\n",
        "    if not elem: return elems\n",
        "    elem = elem.find_next_sibling()\n",
        "    while elem.attrs.get('class', []):\n",
        "        # found out the key class value soda\n",
        "        if 'soda' in elem.attrs.get('class', []): elems.append(elem)\n",
        "        # if no other sibling elements any more, it will return None \n",
        "        elem = elem.find_next_sibling()\n",
        "        if elem == None: break\n",
        "    return [_.a.string for _ in elems]"
      ]
    },
    {
      "cell_type": "code",
      "execution_count": 132,
      "id": "fbafbb09",
      "metadata": {
        "id": "fbafbb09"
      },
      "outputs": [],
      "source": [
        "links = []\n",
        "\n",
        "lt = 'https://www.imdb.com/title/{}/movieconnections/?ref_=tt_trv_cnn'\n",
        "for i, movie in movie_list[['title', 'url']].iterrows():\n",
        "    title = movie.title\n",
        "    # movie unique id\n",
        "    mid = re.search('(tt\\d+)', movie.url).group(1)\n",
        "    response = requests.get(lt.format(mid), headers={'User-Agent': uae.chrome})\n",
        "    soup = BeautifulSoup(response.text, 'html.parser')\n",
        "    \n",
        "    reference_elem = soup.find('a', attrs={'id': 'references'})\n",
        "    referenced_in_elem = soup.find('a', attrs={'id': 'referenced_in'})\n",
        "    # get all the references (start node)\n",
        "    references = get_elements(reference_elem)\n",
        "    # get all the referenced_in (end node)\n",
        "    referenceds_in = get_elements(referenced_in_elem)\n",
        "    # make edge list, (start node -> end node)\n",
        "    for _ in references: links.append([_, title])\n",
        "    for _ in referenceds_in: links.append([title, _])\n",
        "    # here we won't add the the pointer from references to referenceds_in, it will be redundant"
      ]
    },
    {
      "cell_type": "code",
      "execution_count": 133,
      "id": "2429deb9",
      "metadata": {
        "colab": {
          "base_uri": "https://localhost:8080/",
          "height": 206
        },
        "id": "2429deb9",
        "outputId": "8d74a92b-7da8-4514-bbe9-b65764dc0141"
      },
      "outputs": [
        {
          "output_type": "execute_result",
          "data": {
            "text/plain": [
              "                 start                       end\n",
              "0   The Grand Illusion  The Shawshank Redemption\n",
              "1          Brute Force  The Shawshank Redemption\n",
              "2               Harvey  The Shawshank Redemption\n",
              "3  The Seven Year Itch  The Shawshank Redemption\n",
              "4        A Man Escaped  The Shawshank Redemption"
            ],
            "text/html": [
              "\n",
              "  <div id=\"df-7274d982-5173-4a93-a8a1-cee6f8a76477\">\n",
              "    <div class=\"colab-df-container\">\n",
              "      <div>\n",
              "<style scoped>\n",
              "    .dataframe tbody tr th:only-of-type {\n",
              "        vertical-align: middle;\n",
              "    }\n",
              "\n",
              "    .dataframe tbody tr th {\n",
              "        vertical-align: top;\n",
              "    }\n",
              "\n",
              "    .dataframe thead th {\n",
              "        text-align: right;\n",
              "    }\n",
              "</style>\n",
              "<table border=\"1\" class=\"dataframe\">\n",
              "  <thead>\n",
              "    <tr style=\"text-align: right;\">\n",
              "      <th></th>\n",
              "      <th>start</th>\n",
              "      <th>end</th>\n",
              "    </tr>\n",
              "  </thead>\n",
              "  <tbody>\n",
              "    <tr>\n",
              "      <th>0</th>\n",
              "      <td>The Grand Illusion</td>\n",
              "      <td>The Shawshank Redemption</td>\n",
              "    </tr>\n",
              "    <tr>\n",
              "      <th>1</th>\n",
              "      <td>Brute Force</td>\n",
              "      <td>The Shawshank Redemption</td>\n",
              "    </tr>\n",
              "    <tr>\n",
              "      <th>2</th>\n",
              "      <td>Harvey</td>\n",
              "      <td>The Shawshank Redemption</td>\n",
              "    </tr>\n",
              "    <tr>\n",
              "      <th>3</th>\n",
              "      <td>The Seven Year Itch</td>\n",
              "      <td>The Shawshank Redemption</td>\n",
              "    </tr>\n",
              "    <tr>\n",
              "      <th>4</th>\n",
              "      <td>A Man Escaped</td>\n",
              "      <td>The Shawshank Redemption</td>\n",
              "    </tr>\n",
              "  </tbody>\n",
              "</table>\n",
              "</div>\n",
              "      <button class=\"colab-df-convert\" onclick=\"convertToInteractive('df-7274d982-5173-4a93-a8a1-cee6f8a76477')\"\n",
              "              title=\"Convert this dataframe to an interactive table.\"\n",
              "              style=\"display:none;\">\n",
              "        \n",
              "  <svg xmlns=\"http://www.w3.org/2000/svg\" height=\"24px\"viewBox=\"0 0 24 24\"\n",
              "       width=\"24px\">\n",
              "    <path d=\"M0 0h24v24H0V0z\" fill=\"none\"/>\n",
              "    <path d=\"M18.56 5.44l.94 2.06.94-2.06 2.06-.94-2.06-.94-.94-2.06-.94 2.06-2.06.94zm-11 1L8.5 8.5l.94-2.06 2.06-.94-2.06-.94L8.5 2.5l-.94 2.06-2.06.94zm10 10l.94 2.06.94-2.06 2.06-.94-2.06-.94-.94-2.06-.94 2.06-2.06.94z\"/><path d=\"M17.41 7.96l-1.37-1.37c-.4-.4-.92-.59-1.43-.59-.52 0-1.04.2-1.43.59L10.3 9.45l-7.72 7.72c-.78.78-.78 2.05 0 2.83L4 21.41c.39.39.9.59 1.41.59.51 0 1.02-.2 1.41-.59l7.78-7.78 2.81-2.81c.8-.78.8-2.07 0-2.86zM5.41 20L4 18.59l7.72-7.72 1.47 1.35L5.41 20z\"/>\n",
              "  </svg>\n",
              "      </button>\n",
              "      \n",
              "  <style>\n",
              "    .colab-df-container {\n",
              "      display:flex;\n",
              "      flex-wrap:wrap;\n",
              "      gap: 12px;\n",
              "    }\n",
              "\n",
              "    .colab-df-convert {\n",
              "      background-color: #E8F0FE;\n",
              "      border: none;\n",
              "      border-radius: 50%;\n",
              "      cursor: pointer;\n",
              "      display: none;\n",
              "      fill: #1967D2;\n",
              "      height: 32px;\n",
              "      padding: 0 0 0 0;\n",
              "      width: 32px;\n",
              "    }\n",
              "\n",
              "    .colab-df-convert:hover {\n",
              "      background-color: #E2EBFA;\n",
              "      box-shadow: 0px 1px 2px rgba(60, 64, 67, 0.3), 0px 1px 3px 1px rgba(60, 64, 67, 0.15);\n",
              "      fill: #174EA6;\n",
              "    }\n",
              "\n",
              "    [theme=dark] .colab-df-convert {\n",
              "      background-color: #3B4455;\n",
              "      fill: #D2E3FC;\n",
              "    }\n",
              "\n",
              "    [theme=dark] .colab-df-convert:hover {\n",
              "      background-color: #434B5C;\n",
              "      box-shadow: 0px 1px 3px 1px rgba(0, 0, 0, 0.15);\n",
              "      filter: drop-shadow(0px 1px 2px rgba(0, 0, 0, 0.3));\n",
              "      fill: #FFFFFF;\n",
              "    }\n",
              "  </style>\n",
              "\n",
              "      <script>\n",
              "        const buttonEl =\n",
              "          document.querySelector('#df-7274d982-5173-4a93-a8a1-cee6f8a76477 button.colab-df-convert');\n",
              "        buttonEl.style.display =\n",
              "          google.colab.kernel.accessAllowed ? 'block' : 'none';\n",
              "\n",
              "        async function convertToInteractive(key) {\n",
              "          const element = document.querySelector('#df-7274d982-5173-4a93-a8a1-cee6f8a76477');\n",
              "          const dataTable =\n",
              "            await google.colab.kernel.invokeFunction('convertToInteractive',\n",
              "                                                     [key], {});\n",
              "          if (!dataTable) return;\n",
              "\n",
              "          const docLinkHtml = 'Like what you see? Visit the ' +\n",
              "            '<a target=\"_blank\" href=https://colab.research.google.com/notebooks/data_table.ipynb>data table notebook</a>'\n",
              "            + ' to learn more about interactive tables.';\n",
              "          element.innerHTML = '';\n",
              "          dataTable['output_type'] = 'display_data';\n",
              "          await google.colab.output.renderOutput(dataTable, element);\n",
              "          const docLink = document.createElement('div');\n",
              "          docLink.innerHTML = docLinkHtml;\n",
              "          element.appendChild(docLink);\n",
              "        }\n",
              "      </script>\n",
              "    </div>\n",
              "  </div>\n",
              "  "
            ]
          },
          "metadata": {},
          "execution_count": 133
        }
      ],
      "source": [
        "imdb_links = pd.DataFrame(links, columns=['start', 'end'])\n",
        "imdb_links.head()"
      ]
    },
    {
      "cell_type": "code",
      "execution_count": 134,
      "id": "ff85a3cc",
      "metadata": {
        "id": "ff85a3cc"
      },
      "outputs": [],
      "source": [
        "imdb_links.to_csv('imdb_links.csv')"
      ]
    },
    {
      "cell_type": "markdown",
      "id": "a7713bff",
      "metadata": {
        "id": "a7713bff"
      },
      "source": [
        "## 2.4 Check the columns of all the dataframes. (1')"
      ]
    },
    {
      "cell_type": "code",
      "execution_count": 135,
      "id": "3bea4511",
      "metadata": {
        "colab": {
          "base_uri": "https://localhost:8080/"
        },
        "id": "3bea4511",
        "outputId": "f8cc3e03-7c21-442f-fb70-c06626b75bd9"
      },
      "outputs": [
        {
          "output_type": "stream",
          "name": "stdout",
          "text": [
            "movie_list:\n",
            "\t                              title  \\\n",
            "0         The Shawshank Redemption   \n",
            "1            It's a Wonderful Life   \n",
            "2  Three Thousand Years of Longing   \n",
            "3                   Eyes Wide Shut   \n",
            "4                  The Black Phone   \n",
            "\n",
            "                                                 url  year  \n",
            "0  https://www.imdb.com/title/tt0111161/?ref_=adv...  1994  \n",
            "1  https://www.imdb.com/title/tt0038650/?ref_=adv...  1946  \n",
            "2  https://www.imdb.com/title/tt9198364/?ref_=adv...  2022  \n",
            "3  https://www.imdb.com/title/tt0120663/?ref_=adv...  1999  \n",
            "4  https://www.imdb.com/title/tt7144666/?ref_=adv...  2021  \n",
            "imdb_movies:\n",
            "\t                              title  rating  score  \\\n",
            "0         The Shawshank Redemption     9.3     97   \n",
            "1            It's a Wonderful Life     8.6    134   \n",
            "2  Three Thousand Years of Longing     6.7    202   \n",
            "3                   Eyes Wide Shut     7.5    206   \n",
            "4                  The Black Phone     6.9    207   \n",
            "\n",
            "                                      genres  year duration  \\\n",
            "0                                  ['Drama']  1994  PT2H22M   \n",
            "1  ['Drama', 'Family', 'Fantasy', 'Romance']  1946  PT2H10M   \n",
            "2            ['Drama', 'Fantasy', 'Romance']  2022  PT1H48M   \n",
            "3           ['Drama', 'Mystery', 'Thriller']  1999  PT2H39M   \n",
            "4                     ['Horror', 'Thriller']  2021  PT1H43M   \n",
            "\n",
            "                                           storyLine    boxOffice aspectRatio  \n",
            "0  Two imprisoned men bond over a number of years...   28884504.0      1.85:1  \n",
            "1  An angel is sent from Heaven to help a despera...    6184298.0      1.37:1  \n",
            "2  A lonely scholar, on a trip to Istanbul, disco...   19223063.0      2.39:1  \n",
            "3  A Manhattan doctor embarks on a bizarre, night...  162242684.0         NaN  \n",
            "4  After being abducted by a child killer and loc...  161204742.0      2.39:1  \n",
            "imdb_cast:\n",
            "\t                       title           directors            cast  \\\n",
            "0  The Shawshank Redemption  ['Frank Darabont']     Tim Robbins   \n",
            "1  The Shawshank Redemption  ['Frank Darabont']  Morgan Freeman   \n",
            "2  The Shawshank Redemption  ['Frank Darabont']      Bob Gunton   \n",
            "3  The Shawshank Redemption  ['Frank Darabont']  William Sadler   \n",
            "4  The Shawshank Redemption  ['Frank Darabont']    Clancy Brown   \n",
            "\n",
            "                       role  \n",
            "0             Andy Dufresne  \n",
            "1  Ellis Boyd 'Red' Redding  \n",
            "2             Warden Norton  \n",
            "3                   Heywood  \n",
            "4            Captain Hadley  \n",
            "imdb_links:\n",
            "\t                  start                       end\n",
            "0   The Grand Illusion  The Shawshank Redemption\n",
            "1          Brute Force  The Shawshank Redemption\n",
            "2               Harvey  The Shawshank Redemption\n",
            "3  The Seven Year Itch  The Shawshank Redemption\n",
            "4        A Man Escaped  The Shawshank Redemption\n"
          ]
        }
      ],
      "source": [
        "print('movie_list:\\n\\t', movie_list.head())\n",
        "print('imdb_movies:\\n\\t', imdb_movies.head())\n",
        "print('imdb_cast:\\n\\t', imdb_cast.head())\n",
        "print('imdb_links:\\n\\t', imdb_links.head())"
      ]
    },
    {
      "cell_type": "markdown",
      "id": "96a1ea4e",
      "metadata": {
        "id": "96a1ea4e"
      },
      "source": [
        "I found that these data are highly correlated, for example, I can go to other tables to get the director, actors, reference works and other information of the movie through a movie name"
      ]
    },
    {
      "cell_type": "markdown",
      "id": "1cd565a1",
      "metadata": {
        "id": "1cd565a1"
      },
      "source": [
        "## 2.5 Check the index. (2')"
      ]
    },
    {
      "cell_type": "markdown",
      "id": "905b0160",
      "metadata": {
        "id": "905b0160"
      },
      "source": [
        "> answer\n",
        "\n",
        "we can choose a column as the index, such as the movie name(title). The reason is simple, because it's unique.\n",
        "> action: \n",
        "\n",
        "- 1. we need hash the movie name/title string. it will let the movie name/title indexed looks like pretty.\n",
        "\n",
        "- 2. we will add the above the movie hash name/title into the dataframe as the index. "
      ]
    },
    {
      "cell_type": "code",
      "execution_count": 136,
      "id": "d7bf44e6",
      "metadata": {
        "colab": {
          "base_uri": "https://localhost:8080/",
          "height": 206
        },
        "id": "d7bf44e6",
        "outputId": "f1e15bc0-1011-4492-e61b-614c1137138a"
      },
      "outputs": [
        {
          "output_type": "execute_result",
          "data": {
            "text/plain": [
              "                            indexed                            title  \\\n",
              "0  c121b9f541e85a37659a3bf0d18e5ad8         The Shawshank Redemption   \n",
              "1  b2efb7dbe92324d458027d07fc8e3c79            It's a Wonderful Life   \n",
              "2  ff687639ee17a6f33ce35990fbbdf6ab  Three Thousand Years of Longing   \n",
              "3  148287006ebbaabb17761ceaa6e13435                   Eyes Wide Shut   \n",
              "4  bd477b7ec657ef67d9d7f512bbb90261                  The Black Phone   \n",
              "\n",
              "                                                 url  year  \n",
              "0  https://www.imdb.com/title/tt0111161/?ref_=adv...  1994  \n",
              "1  https://www.imdb.com/title/tt0038650/?ref_=adv...  1946  \n",
              "2  https://www.imdb.com/title/tt9198364/?ref_=adv...  2022  \n",
              "3  https://www.imdb.com/title/tt0120663/?ref_=adv...  1999  \n",
              "4  https://www.imdb.com/title/tt7144666/?ref_=adv...  2021  "
            ],
            "text/html": [
              "\n",
              "  <div id=\"df-098ccb98-a7e1-4119-8738-d5c8d54a1976\">\n",
              "    <div class=\"colab-df-container\">\n",
              "      <div>\n",
              "<style scoped>\n",
              "    .dataframe tbody tr th:only-of-type {\n",
              "        vertical-align: middle;\n",
              "    }\n",
              "\n",
              "    .dataframe tbody tr th {\n",
              "        vertical-align: top;\n",
              "    }\n",
              "\n",
              "    .dataframe thead th {\n",
              "        text-align: right;\n",
              "    }\n",
              "</style>\n",
              "<table border=\"1\" class=\"dataframe\">\n",
              "  <thead>\n",
              "    <tr style=\"text-align: right;\">\n",
              "      <th></th>\n",
              "      <th>indexed</th>\n",
              "      <th>title</th>\n",
              "      <th>url</th>\n",
              "      <th>year</th>\n",
              "    </tr>\n",
              "  </thead>\n",
              "  <tbody>\n",
              "    <tr>\n",
              "      <th>0</th>\n",
              "      <td>c121b9f541e85a37659a3bf0d18e5ad8</td>\n",
              "      <td>The Shawshank Redemption</td>\n",
              "      <td>https://www.imdb.com/title/tt0111161/?ref_=adv...</td>\n",
              "      <td>1994</td>\n",
              "    </tr>\n",
              "    <tr>\n",
              "      <th>1</th>\n",
              "      <td>b2efb7dbe92324d458027d07fc8e3c79</td>\n",
              "      <td>It's a Wonderful Life</td>\n",
              "      <td>https://www.imdb.com/title/tt0038650/?ref_=adv...</td>\n",
              "      <td>1946</td>\n",
              "    </tr>\n",
              "    <tr>\n",
              "      <th>2</th>\n",
              "      <td>ff687639ee17a6f33ce35990fbbdf6ab</td>\n",
              "      <td>Three Thousand Years of Longing</td>\n",
              "      <td>https://www.imdb.com/title/tt9198364/?ref_=adv...</td>\n",
              "      <td>2022</td>\n",
              "    </tr>\n",
              "    <tr>\n",
              "      <th>3</th>\n",
              "      <td>148287006ebbaabb17761ceaa6e13435</td>\n",
              "      <td>Eyes Wide Shut</td>\n",
              "      <td>https://www.imdb.com/title/tt0120663/?ref_=adv...</td>\n",
              "      <td>1999</td>\n",
              "    </tr>\n",
              "    <tr>\n",
              "      <th>4</th>\n",
              "      <td>bd477b7ec657ef67d9d7f512bbb90261</td>\n",
              "      <td>The Black Phone</td>\n",
              "      <td>https://www.imdb.com/title/tt7144666/?ref_=adv...</td>\n",
              "      <td>2021</td>\n",
              "    </tr>\n",
              "  </tbody>\n",
              "</table>\n",
              "</div>\n",
              "      <button class=\"colab-df-convert\" onclick=\"convertToInteractive('df-098ccb98-a7e1-4119-8738-d5c8d54a1976')\"\n",
              "              title=\"Convert this dataframe to an interactive table.\"\n",
              "              style=\"display:none;\">\n",
              "        \n",
              "  <svg xmlns=\"http://www.w3.org/2000/svg\" height=\"24px\"viewBox=\"0 0 24 24\"\n",
              "       width=\"24px\">\n",
              "    <path d=\"M0 0h24v24H0V0z\" fill=\"none\"/>\n",
              "    <path d=\"M18.56 5.44l.94 2.06.94-2.06 2.06-.94-2.06-.94-.94-2.06-.94 2.06-2.06.94zm-11 1L8.5 8.5l.94-2.06 2.06-.94-2.06-.94L8.5 2.5l-.94 2.06-2.06.94zm10 10l.94 2.06.94-2.06 2.06-.94-2.06-.94-.94-2.06-.94 2.06-2.06.94z\"/><path d=\"M17.41 7.96l-1.37-1.37c-.4-.4-.92-.59-1.43-.59-.52 0-1.04.2-1.43.59L10.3 9.45l-7.72 7.72c-.78.78-.78 2.05 0 2.83L4 21.41c.39.39.9.59 1.41.59.51 0 1.02-.2 1.41-.59l7.78-7.78 2.81-2.81c.8-.78.8-2.07 0-2.86zM5.41 20L4 18.59l7.72-7.72 1.47 1.35L5.41 20z\"/>\n",
              "  </svg>\n",
              "      </button>\n",
              "      \n",
              "  <style>\n",
              "    .colab-df-container {\n",
              "      display:flex;\n",
              "      flex-wrap:wrap;\n",
              "      gap: 12px;\n",
              "    }\n",
              "\n",
              "    .colab-df-convert {\n",
              "      background-color: #E8F0FE;\n",
              "      border: none;\n",
              "      border-radius: 50%;\n",
              "      cursor: pointer;\n",
              "      display: none;\n",
              "      fill: #1967D2;\n",
              "      height: 32px;\n",
              "      padding: 0 0 0 0;\n",
              "      width: 32px;\n",
              "    }\n",
              "\n",
              "    .colab-df-convert:hover {\n",
              "      background-color: #E2EBFA;\n",
              "      box-shadow: 0px 1px 2px rgba(60, 64, 67, 0.3), 0px 1px 3px 1px rgba(60, 64, 67, 0.15);\n",
              "      fill: #174EA6;\n",
              "    }\n",
              "\n",
              "    [theme=dark] .colab-df-convert {\n",
              "      background-color: #3B4455;\n",
              "      fill: #D2E3FC;\n",
              "    }\n",
              "\n",
              "    [theme=dark] .colab-df-convert:hover {\n",
              "      background-color: #434B5C;\n",
              "      box-shadow: 0px 1px 3px 1px rgba(0, 0, 0, 0.15);\n",
              "      filter: drop-shadow(0px 1px 2px rgba(0, 0, 0, 0.3));\n",
              "      fill: #FFFFFF;\n",
              "    }\n",
              "  </style>\n",
              "\n",
              "      <script>\n",
              "        const buttonEl =\n",
              "          document.querySelector('#df-098ccb98-a7e1-4119-8738-d5c8d54a1976 button.colab-df-convert');\n",
              "        buttonEl.style.display =\n",
              "          google.colab.kernel.accessAllowed ? 'block' : 'none';\n",
              "\n",
              "        async function convertToInteractive(key) {\n",
              "          const element = document.querySelector('#df-098ccb98-a7e1-4119-8738-d5c8d54a1976');\n",
              "          const dataTable =\n",
              "            await google.colab.kernel.invokeFunction('convertToInteractive',\n",
              "                                                     [key], {});\n",
              "          if (!dataTable) return;\n",
              "\n",
              "          const docLinkHtml = 'Like what you see? Visit the ' +\n",
              "            '<a target=\"_blank\" href=https://colab.research.google.com/notebooks/data_table.ipynb>data table notebook</a>'\n",
              "            + ' to learn more about interactive tables.';\n",
              "          element.innerHTML = '';\n",
              "          dataTable['output_type'] = 'display_data';\n",
              "          await google.colab.output.renderOutput(dataTable, element);\n",
              "          const docLink = document.createElement('div');\n",
              "          docLink.innerHTML = docLinkHtml;\n",
              "          element.appendChild(docLink);\n",
              "        }\n",
              "      </script>\n",
              "    </div>\n",
              "  </div>\n",
              "  "
            ]
          },
          "metadata": {},
          "execution_count": 136
        }
      ],
      "source": [
        "# for test, we need backup the origin dataframe, avoid to pollute origin data\n",
        "test = movie_list\n",
        "\n",
        "def md5(raw: str):\n",
        "    m = hashlib.md5()\n",
        "    m.update(raw.encode())\n",
        "    return m.hexdigest()\n",
        "\n",
        "# hash the movie name / tile\n",
        "indexed = [md5(_) for _ in movie_list.title]\n",
        "# add the indexed column as the index of the dataframe\n",
        "test.insert(0, 'indexed', indexed, allow_duplicates=False)\n",
        "test.head()"
      ]
    },
    {
      "cell_type": "code",
      "execution_count": 137,
      "id": "e2929c51",
      "metadata": {
        "colab": {
          "base_uri": "https://localhost:8080/",
          "height": 206
        },
        "id": "e2929c51",
        "outputId": "ae048170-c703-4939-ae10-f5cfb55a06bc"
      },
      "outputs": [
        {
          "output_type": "execute_result",
          "data": {
            "text/plain": [
              "                            indexed                            title  \\\n",
              "0  c121b9f541e85a37659a3bf0d18e5ad8         The Shawshank Redemption   \n",
              "1  b2efb7dbe92324d458027d07fc8e3c79            It's a Wonderful Life   \n",
              "2  ff687639ee17a6f33ce35990fbbdf6ab  Three Thousand Years of Longing   \n",
              "3  148287006ebbaabb17761ceaa6e13435                   Eyes Wide Shut   \n",
              "4  bd477b7ec657ef67d9d7f512bbb90261                  The Black Phone   \n",
              "\n",
              "                                                 url  year  \n",
              "0  https://www.imdb.com/title/tt0111161/?ref_=adv...  1994  \n",
              "1  https://www.imdb.com/title/tt0038650/?ref_=adv...  1946  \n",
              "2  https://www.imdb.com/title/tt9198364/?ref_=adv...  2022  \n",
              "3  https://www.imdb.com/title/tt0120663/?ref_=adv...  1999  \n",
              "4  https://www.imdb.com/title/tt7144666/?ref_=adv...  2021  "
            ],
            "text/html": [
              "\n",
              "  <div id=\"df-e936368e-e9bc-4150-a680-0d507a5a1ec2\">\n",
              "    <div class=\"colab-df-container\">\n",
              "      <div>\n",
              "<style scoped>\n",
              "    .dataframe tbody tr th:only-of-type {\n",
              "        vertical-align: middle;\n",
              "    }\n",
              "\n",
              "    .dataframe tbody tr th {\n",
              "        vertical-align: top;\n",
              "    }\n",
              "\n",
              "    .dataframe thead th {\n",
              "        text-align: right;\n",
              "    }\n",
              "</style>\n",
              "<table border=\"1\" class=\"dataframe\">\n",
              "  <thead>\n",
              "    <tr style=\"text-align: right;\">\n",
              "      <th></th>\n",
              "      <th>indexed</th>\n",
              "      <th>title</th>\n",
              "      <th>url</th>\n",
              "      <th>year</th>\n",
              "    </tr>\n",
              "  </thead>\n",
              "  <tbody>\n",
              "    <tr>\n",
              "      <th>0</th>\n",
              "      <td>c121b9f541e85a37659a3bf0d18e5ad8</td>\n",
              "      <td>The Shawshank Redemption</td>\n",
              "      <td>https://www.imdb.com/title/tt0111161/?ref_=adv...</td>\n",
              "      <td>1994</td>\n",
              "    </tr>\n",
              "    <tr>\n",
              "      <th>1</th>\n",
              "      <td>b2efb7dbe92324d458027d07fc8e3c79</td>\n",
              "      <td>It's a Wonderful Life</td>\n",
              "      <td>https://www.imdb.com/title/tt0038650/?ref_=adv...</td>\n",
              "      <td>1946</td>\n",
              "    </tr>\n",
              "    <tr>\n",
              "      <th>2</th>\n",
              "      <td>ff687639ee17a6f33ce35990fbbdf6ab</td>\n",
              "      <td>Three Thousand Years of Longing</td>\n",
              "      <td>https://www.imdb.com/title/tt9198364/?ref_=adv...</td>\n",
              "      <td>2022</td>\n",
              "    </tr>\n",
              "    <tr>\n",
              "      <th>3</th>\n",
              "      <td>148287006ebbaabb17761ceaa6e13435</td>\n",
              "      <td>Eyes Wide Shut</td>\n",
              "      <td>https://www.imdb.com/title/tt0120663/?ref_=adv...</td>\n",
              "      <td>1999</td>\n",
              "    </tr>\n",
              "    <tr>\n",
              "      <th>4</th>\n",
              "      <td>bd477b7ec657ef67d9d7f512bbb90261</td>\n",
              "      <td>The Black Phone</td>\n",
              "      <td>https://www.imdb.com/title/tt7144666/?ref_=adv...</td>\n",
              "      <td>2021</td>\n",
              "    </tr>\n",
              "  </tbody>\n",
              "</table>\n",
              "</div>\n",
              "      <button class=\"colab-df-convert\" onclick=\"convertToInteractive('df-e936368e-e9bc-4150-a680-0d507a5a1ec2')\"\n",
              "              title=\"Convert this dataframe to an interactive table.\"\n",
              "              style=\"display:none;\">\n",
              "        \n",
              "  <svg xmlns=\"http://www.w3.org/2000/svg\" height=\"24px\"viewBox=\"0 0 24 24\"\n",
              "       width=\"24px\">\n",
              "    <path d=\"M0 0h24v24H0V0z\" fill=\"none\"/>\n",
              "    <path d=\"M18.56 5.44l.94 2.06.94-2.06 2.06-.94-2.06-.94-.94-2.06-.94 2.06-2.06.94zm-11 1L8.5 8.5l.94-2.06 2.06-.94-2.06-.94L8.5 2.5l-.94 2.06-2.06.94zm10 10l.94 2.06.94-2.06 2.06-.94-2.06-.94-.94-2.06-.94 2.06-2.06.94z\"/><path d=\"M17.41 7.96l-1.37-1.37c-.4-.4-.92-.59-1.43-.59-.52 0-1.04.2-1.43.59L10.3 9.45l-7.72 7.72c-.78.78-.78 2.05 0 2.83L4 21.41c.39.39.9.59 1.41.59.51 0 1.02-.2 1.41-.59l7.78-7.78 2.81-2.81c.8-.78.8-2.07 0-2.86zM5.41 20L4 18.59l7.72-7.72 1.47 1.35L5.41 20z\"/>\n",
              "  </svg>\n",
              "      </button>\n",
              "      \n",
              "  <style>\n",
              "    .colab-df-container {\n",
              "      display:flex;\n",
              "      flex-wrap:wrap;\n",
              "      gap: 12px;\n",
              "    }\n",
              "\n",
              "    .colab-df-convert {\n",
              "      background-color: #E8F0FE;\n",
              "      border: none;\n",
              "      border-radius: 50%;\n",
              "      cursor: pointer;\n",
              "      display: none;\n",
              "      fill: #1967D2;\n",
              "      height: 32px;\n",
              "      padding: 0 0 0 0;\n",
              "      width: 32px;\n",
              "    }\n",
              "\n",
              "    .colab-df-convert:hover {\n",
              "      background-color: #E2EBFA;\n",
              "      box-shadow: 0px 1px 2px rgba(60, 64, 67, 0.3), 0px 1px 3px 1px rgba(60, 64, 67, 0.15);\n",
              "      fill: #174EA6;\n",
              "    }\n",
              "\n",
              "    [theme=dark] .colab-df-convert {\n",
              "      background-color: #3B4455;\n",
              "      fill: #D2E3FC;\n",
              "    }\n",
              "\n",
              "    [theme=dark] .colab-df-convert:hover {\n",
              "      background-color: #434B5C;\n",
              "      box-shadow: 0px 1px 3px 1px rgba(0, 0, 0, 0.15);\n",
              "      filter: drop-shadow(0px 1px 2px rgba(0, 0, 0, 0.3));\n",
              "      fill: #FFFFFF;\n",
              "    }\n",
              "  </style>\n",
              "\n",
              "      <script>\n",
              "        const buttonEl =\n",
              "          document.querySelector('#df-e936368e-e9bc-4150-a680-0d507a5a1ec2 button.colab-df-convert');\n",
              "        buttonEl.style.display =\n",
              "          google.colab.kernel.accessAllowed ? 'block' : 'none';\n",
              "\n",
              "        async function convertToInteractive(key) {\n",
              "          const element = document.querySelector('#df-e936368e-e9bc-4150-a680-0d507a5a1ec2');\n",
              "          const dataTable =\n",
              "            await google.colab.kernel.invokeFunction('convertToInteractive',\n",
              "                                                     [key], {});\n",
              "          if (!dataTable) return;\n",
              "\n",
              "          const docLinkHtml = 'Like what you see? Visit the ' +\n",
              "            '<a target=\"_blank\" href=https://colab.research.google.com/notebooks/data_table.ipynb>data table notebook</a>'\n",
              "            + ' to learn more about interactive tables.';\n",
              "          element.innerHTML = '';\n",
              "          dataTable['output_type'] = 'display_data';\n",
              "          await google.colab.output.renderOutput(dataTable, element);\n",
              "          const docLink = document.createElement('div');\n",
              "          docLink.innerHTML = docLinkHtml;\n",
              "          element.appendChild(docLink);\n",
              "        }\n",
              "      </script>\n",
              "    </div>\n",
              "  </div>\n",
              "  "
            ]
          },
          "metadata": {},
          "execution_count": 137
        }
      ],
      "source": [
        "test.set_index('indexed', append=True)\n",
        "test.head()"
      ]
    },
    {
      "cell_type": "markdown",
      "id": "57e69395",
      "metadata": {
        "id": "57e69395"
      },
      "source": [
        "## 2.6 Extract descriptive statistics for numerical variables in all the dataframes. (1')\n",
        "\n",
        "Give a brief description of your findings (within 50 words)"
      ]
    },
    {
      "cell_type": "markdown",
      "id": "6491a51e",
      "metadata": {
        "id": "6491a51e"
      },
      "source": [
        "1. The most casts are fresh man\n",
        "2. The most movie role name is unique\n",
        "3. According to the edge list(starting node -> ending node), we find out the unique start nodes are a few"
      ]
    },
    {
      "cell_type": "code",
      "execution_count": 138,
      "id": "c63bf1c1",
      "metadata": {
        "colab": {
          "base_uri": "https://localhost:8080/",
          "height": 175
        },
        "id": "c63bf1c1",
        "outputId": "26e6ad64-8621-4fd1-edbf-66f622e52a80"
      },
      "outputs": [
        {
          "output_type": "execute_result",
          "data": {
            "text/plain": [
              "                        start              end\n",
              "count                   10338            10336\n",
              "unique                    529             8516\n",
              "top     2001: A Space Odyssey  Minority Report\n",
              "freq                     1239               73"
            ],
            "text/html": [
              "\n",
              "  <div id=\"df-5053d348-5831-4d0c-97a9-f43a1b517f02\">\n",
              "    <div class=\"colab-df-container\">\n",
              "      <div>\n",
              "<style scoped>\n",
              "    .dataframe tbody tr th:only-of-type {\n",
              "        vertical-align: middle;\n",
              "    }\n",
              "\n",
              "    .dataframe tbody tr th {\n",
              "        vertical-align: top;\n",
              "    }\n",
              "\n",
              "    .dataframe thead th {\n",
              "        text-align: right;\n",
              "    }\n",
              "</style>\n",
              "<table border=\"1\" class=\"dataframe\">\n",
              "  <thead>\n",
              "    <tr style=\"text-align: right;\">\n",
              "      <th></th>\n",
              "      <th>start</th>\n",
              "      <th>end</th>\n",
              "    </tr>\n",
              "  </thead>\n",
              "  <tbody>\n",
              "    <tr>\n",
              "      <th>count</th>\n",
              "      <td>10338</td>\n",
              "      <td>10336</td>\n",
              "    </tr>\n",
              "    <tr>\n",
              "      <th>unique</th>\n",
              "      <td>529</td>\n",
              "      <td>8516</td>\n",
              "    </tr>\n",
              "    <tr>\n",
              "      <th>top</th>\n",
              "      <td>2001: A Space Odyssey</td>\n",
              "      <td>Minority Report</td>\n",
              "    </tr>\n",
              "    <tr>\n",
              "      <th>freq</th>\n",
              "      <td>1239</td>\n",
              "      <td>73</td>\n",
              "    </tr>\n",
              "  </tbody>\n",
              "</table>\n",
              "</div>\n",
              "      <button class=\"colab-df-convert\" onclick=\"convertToInteractive('df-5053d348-5831-4d0c-97a9-f43a1b517f02')\"\n",
              "              title=\"Convert this dataframe to an interactive table.\"\n",
              "              style=\"display:none;\">\n",
              "        \n",
              "  <svg xmlns=\"http://www.w3.org/2000/svg\" height=\"24px\"viewBox=\"0 0 24 24\"\n",
              "       width=\"24px\">\n",
              "    <path d=\"M0 0h24v24H0V0z\" fill=\"none\"/>\n",
              "    <path d=\"M18.56 5.44l.94 2.06.94-2.06 2.06-.94-2.06-.94-.94-2.06-.94 2.06-2.06.94zm-11 1L8.5 8.5l.94-2.06 2.06-.94-2.06-.94L8.5 2.5l-.94 2.06-2.06.94zm10 10l.94 2.06.94-2.06 2.06-.94-2.06-.94-.94-2.06-.94 2.06-2.06.94z\"/><path d=\"M17.41 7.96l-1.37-1.37c-.4-.4-.92-.59-1.43-.59-.52 0-1.04.2-1.43.59L10.3 9.45l-7.72 7.72c-.78.78-.78 2.05 0 2.83L4 21.41c.39.39.9.59 1.41.59.51 0 1.02-.2 1.41-.59l7.78-7.78 2.81-2.81c.8-.78.8-2.07 0-2.86zM5.41 20L4 18.59l7.72-7.72 1.47 1.35L5.41 20z\"/>\n",
              "  </svg>\n",
              "      </button>\n",
              "      \n",
              "  <style>\n",
              "    .colab-df-container {\n",
              "      display:flex;\n",
              "      flex-wrap:wrap;\n",
              "      gap: 12px;\n",
              "    }\n",
              "\n",
              "    .colab-df-convert {\n",
              "      background-color: #E8F0FE;\n",
              "      border: none;\n",
              "      border-radius: 50%;\n",
              "      cursor: pointer;\n",
              "      display: none;\n",
              "      fill: #1967D2;\n",
              "      height: 32px;\n",
              "      padding: 0 0 0 0;\n",
              "      width: 32px;\n",
              "    }\n",
              "\n",
              "    .colab-df-convert:hover {\n",
              "      background-color: #E2EBFA;\n",
              "      box-shadow: 0px 1px 2px rgba(60, 64, 67, 0.3), 0px 1px 3px 1px rgba(60, 64, 67, 0.15);\n",
              "      fill: #174EA6;\n",
              "    }\n",
              "\n",
              "    [theme=dark] .colab-df-convert {\n",
              "      background-color: #3B4455;\n",
              "      fill: #D2E3FC;\n",
              "    }\n",
              "\n",
              "    [theme=dark] .colab-df-convert:hover {\n",
              "      background-color: #434B5C;\n",
              "      box-shadow: 0px 1px 3px 1px rgba(0, 0, 0, 0.15);\n",
              "      filter: drop-shadow(0px 1px 2px rgba(0, 0, 0, 0.3));\n",
              "      fill: #FFFFFF;\n",
              "    }\n",
              "  </style>\n",
              "\n",
              "      <script>\n",
              "        const buttonEl =\n",
              "          document.querySelector('#df-5053d348-5831-4d0c-97a9-f43a1b517f02 button.colab-df-convert');\n",
              "        buttonEl.style.display =\n",
              "          google.colab.kernel.accessAllowed ? 'block' : 'none';\n",
              "\n",
              "        async function convertToInteractive(key) {\n",
              "          const element = document.querySelector('#df-5053d348-5831-4d0c-97a9-f43a1b517f02');\n",
              "          const dataTable =\n",
              "            await google.colab.kernel.invokeFunction('convertToInteractive',\n",
              "                                                     [key], {});\n",
              "          if (!dataTable) return;\n",
              "\n",
              "          const docLinkHtml = 'Like what you see? Visit the ' +\n",
              "            '<a target=\"_blank\" href=https://colab.research.google.com/notebooks/data_table.ipynb>data table notebook</a>'\n",
              "            + ' to learn more about interactive tables.';\n",
              "          element.innerHTML = '';\n",
              "          dataTable['output_type'] = 'display_data';\n",
              "          await google.colab.output.renderOutput(dataTable, element);\n",
              "          const docLink = document.createElement('div');\n",
              "          docLink.innerHTML = docLinkHtml;\n",
              "          element.appendChild(docLink);\n",
              "        }\n",
              "      </script>\n",
              "    </div>\n",
              "  </div>\n",
              "  "
            ]
          },
          "metadata": {},
          "execution_count": 138
        }
      ],
      "source": [
        "# movie_list.describe()\n",
        "# imdb_movies.describe()\n",
        "# imdb_cast.describe()\n",
        "imdb_links.describe()"
      ]
    },
    {
      "cell_type": "markdown",
      "id": "ba0e405c",
      "metadata": {
        "id": "ba0e405c"
      },
      "source": [
        "## 2.7 Get information from all the dataframes (1')\n",
        "\n",
        "Give a brief description (within 50 words)"
      ]
    },
    {
      "cell_type": "markdown",
      "id": "f9da7448",
      "metadata": {
        "id": "f9da7448"
      },
      "source": [
        "正态分布等角度分析"
      ]
    },
    {
      "cell_type": "code",
      "execution_count": 139,
      "id": "635bc825",
      "metadata": {
        "colab": {
          "base_uri": "https://localhost:8080/"
        },
        "id": "635bc825",
        "outputId": "0c2154bc-ad09-4f24-ae97-7c74d0e9f093"
      },
      "outputs": [
        {
          "output_type": "stream",
          "name": "stdout",
          "text": [
            "<class 'pandas.core.frame.DataFrame'>\n",
            "RangeIndex: 100 entries, 0 to 99\n",
            "Data columns (total 4 columns):\n",
            " #   Column   Non-Null Count  Dtype \n",
            "---  ------   --------------  ----- \n",
            " 0   indexed  100 non-null    object\n",
            " 1   title    100 non-null    object\n",
            " 2   url      100 non-null    object\n",
            " 3   year     100 non-null    object\n",
            "dtypes: object(4)\n",
            "memory usage: 3.2+ KB\n"
          ]
        }
      ],
      "source": [
        "movie_list.info()\n",
        "# imdb_movies.info()\n",
        "# imdb_cast.info()\n",
        "# imdb_links.info()"
      ]
    },
    {
      "cell_type": "markdown",
      "id": "13791221",
      "metadata": {
        "id": "13791221"
      },
      "source": [
        "# Part 3: Data cleaning and transformation [10%]"
      ]
    },
    {
      "cell_type": "markdown",
      "id": "3df92a59",
      "metadata": {
        "id": "3df92a59"
      },
      "source": [
        "# 3.1 Change the box office information to numerical values (3')\n",
        "\n",
        "Transform to integer values"
      ]
    },
    {
      "cell_type": "code",
      "execution_count": 140,
      "id": "56dd85c2",
      "metadata": {
        "colab": {
          "base_uri": "https://localhost:8080/"
        },
        "id": "56dd85c2",
        "outputId": "3361a087-1f1c-4057-d235-04c7588e93fb"
      },
      "outputs": [
        {
          "output_type": "execute_result",
          "data": {
            "text/plain": [
              "0       28884504\n",
              "1        6184298\n",
              "2       19223063\n",
              "3      162242684\n",
              "4      161204742\n",
              "         ...    \n",
              "139            0\n",
              "140            0\n",
              "141            0\n",
              "142            0\n",
              "143            0\n",
              "Name: boxOffice, Length: 144, dtype: int64"
            ]
          },
          "metadata": {},
          "execution_count": 140
        }
      ],
      "source": [
        "movies = imdb_movies\n",
        "\n",
        "# normalizer = lambda x: (x - np.min(x)) / (np.max(x) - np.min(x)) \n",
        "# movies.boxOffice.apply(normalizer)\n",
        "movies['boxOffice'] = pd.to_numeric(movies['boxOffice'], errors='coerce').fillna(0).astype(int)\n",
        "movies.boxOffice"
      ]
    },
    {
      "cell_type": "markdown",
      "id": "c9c5962f",
      "metadata": {
        "id": "c9c5962f"
      },
      "source": [
        "## 3.2 Add a new column named `rating_category` (5')\n",
        "\n",
        "The values of `rating_category` should be generated from the IMDB ratings as follows:\n",
        "   \n",
        "- Good (7 to 10)\n",
        "- Average (5 to 7),\n",
        "- Bad (0 to 5)"
      ]
    },
    {
      "cell_type": "code",
      "execution_count": 141,
      "id": "fd85fdb1",
      "metadata": {
        "colab": {
          "base_uri": "https://localhost:8080/"
        },
        "id": "fd85fdb1",
        "outputId": "dda8c799-65e3-4c91-d25a-998b58067e3c"
      },
      "outputs": [
        {
          "output_type": "execute_result",
          "data": {
            "text/plain": [
              "Good       80\n",
              "Average    64\n",
              "Name: rating_category, dtype: int64"
            ]
          },
          "metadata": {},
          "execution_count": 141
        }
      ],
      "source": [
        "judge = lambda x: 'Good' if x>7 else 'Average' if x>5 else 'Bad'\n",
        "movies['rating_category'] = movies.rating.apply(judge)\n",
        "\n",
        "movies['rating_category'].value_counts()"
      ]
    },
    {
      "cell_type": "markdown",
      "id": "6540e7ec",
      "metadata": {
        "id": "6540e7ec"
      },
      "source": [
        "## 3.3 Clean NULL values (2')\n",
        "\n",
        "Change `NA` values in the columns with missing values to `Not Available` in all the dataframes"
      ]
    },
    {
      "cell_type": "code",
      "execution_count": 142,
      "id": "e4dbee76",
      "metadata": {
        "id": "e4dbee76"
      },
      "outputs": [],
      "source": [
        "movie_list = movie_list.dropna(inplace=False)\n",
        "\n",
        "imdb_movies = imdb_movies.dropna(inplace=False)\n",
        "\n",
        "imdb_cast = imdb_cast.dropna(inplace=False)\n",
        "\n",
        "imdb_links = imdb_links.dropna(inplace=False)"
      ]
    },
    {
      "cell_type": "markdown",
      "id": "db45383e",
      "metadata": {
        "id": "db45383e"
      },
      "source": [
        "# Part 4: Querying the dataframes and visualizing data [42%]"
      ]
    },
    {
      "cell_type": "markdown",
      "id": "0ba7f8d1",
      "metadata": {
        "id": "0ba7f8d1"
      },
      "source": [
        "## 4.1 Find the top 10 movies with the shortest duration (in minutes)."
      ]
    },
    {
      "cell_type": "code",
      "execution_count": 143,
      "id": "6e2f0acc",
      "metadata": {
        "colab": {
          "base_uri": "https://localhost:8080/"
        },
        "id": "6e2f0acc",
        "outputId": "83a047f6-7018-4678-826b-ab02d01b3c46"
      },
      "outputs": [
        {
          "output_type": "stream",
          "name": "stderr",
          "text": [
            "<ipython-input-143-bb86bb861a39>:8: SettingWithCopyWarning: \n",
            "A value is trying to be set on a copy of a slice from a DataFrame.\n",
            "Try using .loc[row_indexer,col_indexer] = value instead\n",
            "\n",
            "See the caveats in the documentation: https://pandas.pydata.org/pandas-docs/stable/user_guide/indexing.html#returning-a-view-versus-a-copy\n",
            "  movies['duration'] = movies.duration.apply(lambda x: pt_2_utc(x))\n"
          ]
        },
        {
          "output_type": "execute_result",
          "data": {
            "text/plain": [
              "51    64\n",
              "26    83\n",
              "62    84\n",
              "71    87\n",
              "66    88\n",
              "56    92\n",
              "30    93\n",
              "67    93\n",
              "23    94\n",
              "69    95\n",
              "Name: duration, dtype: int64"
            ]
          },
          "metadata": {},
          "execution_count": 143
        }
      ],
      "source": [
        "# PT time to utc\n",
        "def pt_2_utc(x):\n",
        "    h, m = re.search('PT(\\d*)H(\\d*)M', x).groups()\n",
        "    return int(h) * 60 + int(m)\n",
        "    \n",
        "movies = imdb_movies\n",
        "\n",
        "movies['duration'] = movies.duration.apply(lambda x: pt_2_utc(x))\n",
        "movies.duration.sort_values(ascending=True).iloc[:10]"
      ]
    },
    {
      "cell_type": "markdown",
      "id": "1bb44bb5",
      "metadata": {
        "id": "1bb44bb5"
      },
      "source": [
        "## 4.2 Find the movies that have been released before year 2000. (4')"
      ]
    },
    {
      "cell_type": "code",
      "execution_count": 144,
      "id": "14898ca1",
      "metadata": {
        "colab": {
          "base_uri": "https://localhost:8080/",
          "height": 206
        },
        "id": "14898ca1",
        "outputId": "7e4973c5-9e33-428d-c09a-5f099ea7540f"
      },
      "outputs": [
        {
          "output_type": "execute_result",
          "data": {
            "text/plain": [
              "                         title  year\n",
              "0     The Shawshank Redemption  1994\n",
              "1        It's a Wonderful Life  1946\n",
              "5  National Lampoon's Vacation  1983\n",
              "8        2001: A Space Odyssey  1968\n",
              "9                      Arrival     0"
            ],
            "text/html": [
              "\n",
              "  <div id=\"df-1f5019bd-3cd2-4456-9870-912f3f9963e8\">\n",
              "    <div class=\"colab-df-container\">\n",
              "      <div>\n",
              "<style scoped>\n",
              "    .dataframe tbody tr th:only-of-type {\n",
              "        vertical-align: middle;\n",
              "    }\n",
              "\n",
              "    .dataframe tbody tr th {\n",
              "        vertical-align: top;\n",
              "    }\n",
              "\n",
              "    .dataframe thead th {\n",
              "        text-align: right;\n",
              "    }\n",
              "</style>\n",
              "<table border=\"1\" class=\"dataframe\">\n",
              "  <thead>\n",
              "    <tr style=\"text-align: right;\">\n",
              "      <th></th>\n",
              "      <th>title</th>\n",
              "      <th>year</th>\n",
              "    </tr>\n",
              "  </thead>\n",
              "  <tbody>\n",
              "    <tr>\n",
              "      <th>0</th>\n",
              "      <td>The Shawshank Redemption</td>\n",
              "      <td>1994</td>\n",
              "    </tr>\n",
              "    <tr>\n",
              "      <th>1</th>\n",
              "      <td>It's a Wonderful Life</td>\n",
              "      <td>1946</td>\n",
              "    </tr>\n",
              "    <tr>\n",
              "      <th>5</th>\n",
              "      <td>National Lampoon's Vacation</td>\n",
              "      <td>1983</td>\n",
              "    </tr>\n",
              "    <tr>\n",
              "      <th>8</th>\n",
              "      <td>2001: A Space Odyssey</td>\n",
              "      <td>1968</td>\n",
              "    </tr>\n",
              "    <tr>\n",
              "      <th>9</th>\n",
              "      <td>Arrival</td>\n",
              "      <td>0</td>\n",
              "    </tr>\n",
              "  </tbody>\n",
              "</table>\n",
              "</div>\n",
              "      <button class=\"colab-df-convert\" onclick=\"convertToInteractive('df-1f5019bd-3cd2-4456-9870-912f3f9963e8')\"\n",
              "              title=\"Convert this dataframe to an interactive table.\"\n",
              "              style=\"display:none;\">\n",
              "        \n",
              "  <svg xmlns=\"http://www.w3.org/2000/svg\" height=\"24px\"viewBox=\"0 0 24 24\"\n",
              "       width=\"24px\">\n",
              "    <path d=\"M0 0h24v24H0V0z\" fill=\"none\"/>\n",
              "    <path d=\"M18.56 5.44l.94 2.06.94-2.06 2.06-.94-2.06-.94-.94-2.06-.94 2.06-2.06.94zm-11 1L8.5 8.5l.94-2.06 2.06-.94-2.06-.94L8.5 2.5l-.94 2.06-2.06.94zm10 10l.94 2.06.94-2.06 2.06-.94-2.06-.94-.94-2.06-.94 2.06-2.06.94z\"/><path d=\"M17.41 7.96l-1.37-1.37c-.4-.4-.92-.59-1.43-.59-.52 0-1.04.2-1.43.59L10.3 9.45l-7.72 7.72c-.78.78-.78 2.05 0 2.83L4 21.41c.39.39.9.59 1.41.59.51 0 1.02-.2 1.41-.59l7.78-7.78 2.81-2.81c.8-.78.8-2.07 0-2.86zM5.41 20L4 18.59l7.72-7.72 1.47 1.35L5.41 20z\"/>\n",
              "  </svg>\n",
              "      </button>\n",
              "      \n",
              "  <style>\n",
              "    .colab-df-container {\n",
              "      display:flex;\n",
              "      flex-wrap:wrap;\n",
              "      gap: 12px;\n",
              "    }\n",
              "\n",
              "    .colab-df-convert {\n",
              "      background-color: #E8F0FE;\n",
              "      border: none;\n",
              "      border-radius: 50%;\n",
              "      cursor: pointer;\n",
              "      display: none;\n",
              "      fill: #1967D2;\n",
              "      height: 32px;\n",
              "      padding: 0 0 0 0;\n",
              "      width: 32px;\n",
              "    }\n",
              "\n",
              "    .colab-df-convert:hover {\n",
              "      background-color: #E2EBFA;\n",
              "      box-shadow: 0px 1px 2px rgba(60, 64, 67, 0.3), 0px 1px 3px 1px rgba(60, 64, 67, 0.15);\n",
              "      fill: #174EA6;\n",
              "    }\n",
              "\n",
              "    [theme=dark] .colab-df-convert {\n",
              "      background-color: #3B4455;\n",
              "      fill: #D2E3FC;\n",
              "    }\n",
              "\n",
              "    [theme=dark] .colab-df-convert:hover {\n",
              "      background-color: #434B5C;\n",
              "      box-shadow: 0px 1px 3px 1px rgba(0, 0, 0, 0.15);\n",
              "      filter: drop-shadow(0px 1px 2px rgba(0, 0, 0, 0.3));\n",
              "      fill: #FFFFFF;\n",
              "    }\n",
              "  </style>\n",
              "\n",
              "      <script>\n",
              "        const buttonEl =\n",
              "          document.querySelector('#df-1f5019bd-3cd2-4456-9870-912f3f9963e8 button.colab-df-convert');\n",
              "        buttonEl.style.display =\n",
              "          google.colab.kernel.accessAllowed ? 'block' : 'none';\n",
              "\n",
              "        async function convertToInteractive(key) {\n",
              "          const element = document.querySelector('#df-1f5019bd-3cd2-4456-9870-912f3f9963e8');\n",
              "          const dataTable =\n",
              "            await google.colab.kernel.invokeFunction('convertToInteractive',\n",
              "                                                     [key], {});\n",
              "          if (!dataTable) return;\n",
              "\n",
              "          const docLinkHtml = 'Like what you see? Visit the ' +\n",
              "            '<a target=\"_blank\" href=https://colab.research.google.com/notebooks/data_table.ipynb>data table notebook</a>'\n",
              "            + ' to learn more about interactive tables.';\n",
              "          element.innerHTML = '';\n",
              "          dataTable['output_type'] = 'display_data';\n",
              "          await google.colab.output.renderOutput(dataTable, element);\n",
              "          const docLink = document.createElement('div');\n",
              "          docLink.innerHTML = docLinkHtml;\n",
              "          element.appendChild(docLink);\n",
              "        }\n",
              "      </script>\n",
              "    </div>\n",
              "  </div>\n",
              "  "
            ]
          },
          "metadata": {},
          "execution_count": 144
        }
      ],
      "source": [
        "# movies.year.dtype -> int64\n",
        "\n",
        "movies.dropna(inplace=True)\n",
        "\n",
        "movies.year = pd.to_numeric(movies['year'], errors='coerce').fillna(0).astype(int)\n",
        "\n",
        "result = movies[movies.year<2000]\n",
        "# you maybe see the release year is 0, dont worry it only show that we didn't scrape the digit\n",
        "result[['title', 'year']].head()"
      ]
    },
    {
      "cell_type": "markdown",
      "id": "ea662f5e",
      "metadata": {
        "id": "ea662f5e"
      },
      "source": [
        "## 4.3 Find the top 10 actors appearing in multiple movies. (4')"
      ]
    },
    {
      "cell_type": "code",
      "execution_count": 145,
      "id": "bcb17da7",
      "metadata": {
        "colab": {
          "base_uri": "https://localhost:8080/"
        },
        "id": "bcb17da7",
        "outputId": "c3aed89c-78a3-4d22-8605-6ab8a17ddd05"
      },
      "outputs": [
        {
          "output_type": "execute_result",
          "data": {
            "text/plain": [
              "Joey Ansah           1\n",
              "Richard Doone        1\n",
              "Samantha Goldberg    1\n",
              "Shane Grove          1\n",
              "Rita Hayworth        1\n",
              "David Hecht          1\n",
              "Alonzo F. Jones      1\n",
              "Dennis Baker         1\n",
              "George Noisom        1\n",
              "Anton Northpole      1\n",
              "Name: cast, dtype: int64"
            ]
          },
          "metadata": {},
          "execution_count": 145
        }
      ],
      "source": [
        "# imdb_cast.columns\n",
        "\n",
        "actors = imdb_cast.cast\n",
        "# len(actors)\n",
        "actors.value_counts().sort_values(ascending=True).iloc[:10]"
      ]
    },
    {
      "cell_type": "markdown",
      "id": "5f94c40d",
      "metadata": {
        "id": "5f94c40d"
      },
      "source": [
        "## 4.3 Use scatter plot to visualize the relationship between duration and popularity score. (5')\n",
        "\n",
        "State your findings from the scatter plot (within 50 words)."
      ]
    },
    {
      "cell_type": "markdown",
      "id": "82ec96ec",
      "metadata": {
        "id": "82ec96ec"
      },
      "source": [
        "- More short duration movies\n",
        "- Shorter movies generally receive higher ratings"
      ]
    },
    {
      "cell_type": "code",
      "execution_count": 146,
      "id": "c1107f34",
      "metadata": {
        "colab": {
          "base_uri": "https://localhost:8080/",
          "height": 281
        },
        "id": "c1107f34",
        "outputId": "56509a49-4cae-488e-c84b-1e7f0f31b62b"
      },
      "outputs": [
        {
          "output_type": "display_data",
          "data": {
            "text/plain": [
              "<Figure size 432x288 with 1 Axes>"
            ],
            "image/png": "[encoded data removed]"
          },
          "metadata": {
            "needs_background": "light"
          }
        }
      ],
      "source": [
        "# graph scatter\n",
        "durations = movies.duration\n",
        "popularity_scores = movies.score\n",
        "\n",
        "plt.scatter(durations, popularity_scores)\n",
        "# set axis\n",
        "plt.xlabel('Duration')\n",
        "plt.ylabel('Popularity score')\n",
        "# show\n",
        "plt.show()"
      ]
    },
    {
      "cell_type": "markdown",
      "id": "e6ca8efb",
      "metadata": {
        "id": "e6ca8efb"
      },
      "source": [
        "### 4.3a Generate dummies from the IMDB Categories Good, Average, Bad movies (2’)"
      ]
    },
    {
      "cell_type": "code",
      "execution_count": 147,
      "id": "33eb36b5",
      "metadata": {
        "colab": {
          "base_uri": "https://localhost:8080/",
          "height": 1000
        },
        "id": "33eb36b5",
        "outputId": "e64c9607-df88-4e68-dfb4-33991e23b804"
      },
      "outputs": [
        {
          "output_type": "execute_result",
          "data": {
            "text/plain": [
              "    duration  score\n",
              "2        108    202\n",
              "4        103    207\n",
              "6        106    375\n",
              "11       107    681\n",
              "14       104    725\n",
              "31       134   2129\n",
              "32       119   2191\n",
              "34       127   2414\n",
              "35       118   2447\n",
              "37       104   2534\n",
              "38       102   2744\n",
              "39       106   2759\n",
              "41       131   2958\n",
              "42       111   2996\n",
              "43       131   3026\n",
              "44       130   3182\n",
              "46       103   3237\n",
              "47       125   3328\n",
              "48        96   3425\n",
              "49       116   3463\n",
              "50       110   3698\n",
              "52       117   3724\n",
              "54        99   3828\n",
              "55        96   3855\n",
              "56        92   3912\n",
              "57       106   3964\n",
              "58       101   3971\n",
              "59       105   4018\n",
              "61       132   4088\n",
              "63        96   4467\n",
              "67        93   4571\n",
              "70       108   4767"
            ],
            "text/html": [
              "\n",
              "  <div id=\"df-dee2e9a7-2f15-4631-b13a-bc443d173e91\">\n",
              "    <div class=\"colab-df-container\">\n",
              "      <div>\n",
              "<style scoped>\n",
              "    .dataframe tbody tr th:only-of-type {\n",
              "        vertical-align: middle;\n",
              "    }\n",
              "\n",
              "    .dataframe tbody tr th {\n",
              "        vertical-align: top;\n",
              "    }\n",
              "\n",
              "    .dataframe thead th {\n",
              "        text-align: right;\n",
              "    }\n",
              "</style>\n",
              "<table border=\"1\" class=\"dataframe\">\n",
              "  <thead>\n",
              "    <tr style=\"text-align: right;\">\n",
              "      <th></th>\n",
              "      <th>duration</th>\n",
              "      <th>score</th>\n",
              "    </tr>\n",
              "  </thead>\n",
              "  <tbody>\n",
              "    <tr>\n",
              "      <th>2</th>\n",
              "      <td>108</td>\n",
              "      <td>202</td>\n",
              "    </tr>\n",
              "    <tr>\n",
              "      <th>4</th>\n",
              "      <td>103</td>\n",
              "      <td>207</td>\n",
              "    </tr>\n",
              "    <tr>\n",
              "      <th>6</th>\n",
              "      <td>106</td>\n",
              "      <td>375</td>\n",
              "    </tr>\n",
              "    <tr>\n",
              "      <th>11</th>\n",
              "      <td>107</td>\n",
              "      <td>681</td>\n",
              "    </tr>\n",
              "    <tr>\n",
              "      <th>14</th>\n",
              "      <td>104</td>\n",
              "      <td>725</td>\n",
              "    </tr>\n",
              "    <tr>\n",
              "      <th>31</th>\n",
              "      <td>134</td>\n",
              "      <td>2129</td>\n",
              "    </tr>\n",
              "    <tr>\n",
              "      <th>32</th>\n",
              "      <td>119</td>\n",
              "      <td>2191</td>\n",
              "    </tr>\n",
              "    <tr>\n",
              "      <th>34</th>\n",
              "      <td>127</td>\n",
              "      <td>2414</td>\n",
              "    </tr>\n",
              "    <tr>\n",
              "      <th>35</th>\n",
              "      <td>118</td>\n",
              "      <td>2447</td>\n",
              "    </tr>\n",
              "    <tr>\n",
              "      <th>37</th>\n",
              "      <td>104</td>\n",
              "      <td>2534</td>\n",
              "    </tr>\n",
              "    <tr>\n",
              "      <th>38</th>\n",
              "      <td>102</td>\n",
              "      <td>2744</td>\n",
              "    </tr>\n",
              "    <tr>\n",
              "      <th>39</th>\n",
              "      <td>106</td>\n",
              "      <td>2759</td>\n",
              "    </tr>\n",
              "    <tr>\n",
              "      <th>41</th>\n",
              "      <td>131</td>\n",
              "      <td>2958</td>\n",
              "    </tr>\n",
              "    <tr>\n",
              "      <th>42</th>\n",
              "      <td>111</td>\n",
              "      <td>2996</td>\n",
              "    </tr>\n",
              "    <tr>\n",
              "      <th>43</th>\n",
              "      <td>131</td>\n",
              "      <td>3026</td>\n",
              "    </tr>\n",
              "    <tr>\n",
              "      <th>44</th>\n",
              "      <td>130</td>\n",
              "      <td>3182</td>\n",
              "    </tr>\n",
              "    <tr>\n",
              "      <th>46</th>\n",
              "      <td>103</td>\n",
              "      <td>3237</td>\n",
              "    </tr>\n",
              "    <tr>\n",
              "      <th>47</th>\n",
              "      <td>125</td>\n",
              "      <td>3328</td>\n",
              "    </tr>\n",
              "    <tr>\n",
              "      <th>48</th>\n",
              "      <td>96</td>\n",
              "      <td>3425</td>\n",
              "    </tr>\n",
              "    <tr>\n",
              "      <th>49</th>\n",
              "      <td>116</td>\n",
              "      <td>3463</td>\n",
              "    </tr>\n",
              "    <tr>\n",
              "      <th>50</th>\n",
              "      <td>110</td>\n",
              "      <td>3698</td>\n",
              "    </tr>\n",
              "    <tr>\n",
              "      <th>52</th>\n",
              "      <td>117</td>\n",
              "      <td>3724</td>\n",
              "    </tr>\n",
              "    <tr>\n",
              "      <th>54</th>\n",
              "      <td>99</td>\n",
              "      <td>3828</td>\n",
              "    </tr>\n",
              "    <tr>\n",
              "      <th>55</th>\n",
              "      <td>96</td>\n",
              "      <td>3855</td>\n",
              "    </tr>\n",
              "    <tr>\n",
              "      <th>56</th>\n",
              "      <td>92</td>\n",
              "      <td>3912</td>\n",
              "    </tr>\n",
              "    <tr>\n",
              "      <th>57</th>\n",
              "      <td>106</td>\n",
              "      <td>3964</td>\n",
              "    </tr>\n",
              "    <tr>\n",
              "      <th>58</th>\n",
              "      <td>101</td>\n",
              "      <td>3971</td>\n",
              "    </tr>\n",
              "    <tr>\n",
              "      <th>59</th>\n",
              "      <td>105</td>\n",
              "      <td>4018</td>\n",
              "    </tr>\n",
              "    <tr>\n",
              "      <th>61</th>\n",
              "      <td>132</td>\n",
              "      <td>4088</td>\n",
              "    </tr>\n",
              "    <tr>\n",
              "      <th>63</th>\n",
              "      <td>96</td>\n",
              "      <td>4467</td>\n",
              "    </tr>\n",
              "    <tr>\n",
              "      <th>67</th>\n",
              "      <td>93</td>\n",
              "      <td>4571</td>\n",
              "    </tr>\n",
              "    <tr>\n",
              "      <th>70</th>\n",
              "      <td>108</td>\n",
              "      <td>4767</td>\n",
              "    </tr>\n",
              "  </tbody>\n",
              "</table>\n",
              "</div>\n",
              "      <button class=\"colab-df-convert\" onclick=\"convertToInteractive('df-dee2e9a7-2f15-4631-b13a-bc443d173e91')\"\n",
              "              title=\"Convert this dataframe to an interactive table.\"\n",
              "              style=\"display:none;\">\n",
              "        \n",
              "  <svg xmlns=\"http://www.w3.org/2000/svg\" height=\"24px\"viewBox=\"0 0 24 24\"\n",
              "       width=\"24px\">\n",
              "    <path d=\"M0 0h24v24H0V0z\" fill=\"none\"/>\n",
              "    <path d=\"M18.56 5.44l.94 2.06.94-2.06 2.06-.94-2.06-.94-.94-2.06-.94 2.06-2.06.94zm-11 1L8.5 8.5l.94-2.06 2.06-.94-2.06-.94L8.5 2.5l-.94 2.06-2.06.94zm10 10l.94 2.06.94-2.06 2.06-.94-2.06-.94-.94-2.06-.94 2.06-2.06.94z\"/><path d=\"M17.41 7.96l-1.37-1.37c-.4-.4-.92-.59-1.43-.59-.52 0-1.04.2-1.43.59L10.3 9.45l-7.72 7.72c-.78.78-.78 2.05 0 2.83L4 21.41c.39.39.9.59 1.41.59.51 0 1.02-.2 1.41-.59l7.78-7.78 2.81-2.81c.8-.78.8-2.07 0-2.86zM5.41 20L4 18.59l7.72-7.72 1.47 1.35L5.41 20z\"/>\n",
              "  </svg>\n",
              "      </button>\n",
              "      \n",
              "  <style>\n",
              "    .colab-df-container {\n",
              "      display:flex;\n",
              "      flex-wrap:wrap;\n",
              "      gap: 12px;\n",
              "    }\n",
              "\n",
              "    .colab-df-convert {\n",
              "      background-color: #E8F0FE;\n",
              "      border: none;\n",
              "      border-radius: 50%;\n",
              "      cursor: pointer;\n",
              "      display: none;\n",
              "      fill: #1967D2;\n",
              "      height: 32px;\n",
              "      padding: 0 0 0 0;\n",
              "      width: 32px;\n",
              "    }\n",
              "\n",
              "    .colab-df-convert:hover {\n",
              "      background-color: #E2EBFA;\n",
              "      box-shadow: 0px 1px 2px rgba(60, 64, 67, 0.3), 0px 1px 3px 1px rgba(60, 64, 67, 0.15);\n",
              "      fill: #174EA6;\n",
              "    }\n",
              "\n",
              "    [theme=dark] .colab-df-convert {\n",
              "      background-color: #3B4455;\n",
              "      fill: #D2E3FC;\n",
              "    }\n",
              "\n",
              "    [theme=dark] .colab-df-convert:hover {\n",
              "      background-color: #434B5C;\n",
              "      box-shadow: 0px 1px 3px 1px rgba(0, 0, 0, 0.15);\n",
              "      filter: drop-shadow(0px 1px 2px rgba(0, 0, 0, 0.3));\n",
              "      fill: #FFFFFF;\n",
              "    }\n",
              "  </style>\n",
              "\n",
              "      <script>\n",
              "        const buttonEl =\n",
              "          document.querySelector('#df-dee2e9a7-2f15-4631-b13a-bc443d173e91 button.colab-df-convert');\n",
              "        buttonEl.style.display =\n",
              "          google.colab.kernel.accessAllowed ? 'block' : 'none';\n",
              "\n",
              "        async function convertToInteractive(key) {\n",
              "          const element = document.querySelector('#df-dee2e9a7-2f15-4631-b13a-bc443d173e91');\n",
              "          const dataTable =\n",
              "            await google.colab.kernel.invokeFunction('convertToInteractive',\n",
              "                                                     [key], {});\n",
              "          if (!dataTable) return;\n",
              "\n",
              "          const docLinkHtml = 'Like what you see? Visit the ' +\n",
              "            '<a target=\"_blank\" href=https://colab.research.google.com/notebooks/data_table.ipynb>data table notebook</a>'\n",
              "            + ' to learn more about interactive tables.';\n",
              "          element.innerHTML = '';\n",
              "          dataTable['output_type'] = 'display_data';\n",
              "          await google.colab.output.renderOutput(dataTable, element);\n",
              "          const docLink = document.createElement('div');\n",
              "          docLink.innerHTML = docLinkHtml;\n",
              "          element.appendChild(docLink);\n",
              "        }\n",
              "      </script>\n",
              "    </div>\n",
              "  </div>\n",
              "  "
            ]
          },
          "metadata": {},
          "execution_count": 147
        }
      ],
      "source": [
        "judge = lambda x: 'Good' if x>7 else 'Average' if x>5 else 'Bad'\n",
        "\n",
        "movies['rating_category'] = movies.rating.apply(judge)\n",
        "dummies = imdb_movies[(imdb_movies.rating_category=='Average')][['duration', 'score']]\n",
        "dummies"
      ]
    },
    {
      "cell_type": "code",
      "execution_count": 148,
      "id": "2083e73a",
      "metadata": {
        "colab": {
          "base_uri": "https://localhost:8080/"
        },
        "id": "2083e73a",
        "outputId": "00d14219-6906-4eae-f44a-e4bb44f93cf5"
      },
      "outputs": [
        {
          "output_type": "execute_result",
          "data": {
            "text/plain": [
              "array([108, 202])"
            ]
          },
          "metadata": {},
          "execution_count": 148
        }
      ],
      "source": [
        "movies.columns\n",
        "\n",
        "dummies.values[0]"
      ]
    },
    {
      "cell_type": "code",
      "source": [
        "judge = lambda x: 'Good' if x>7 else 'Average' if x>5 else 'Bad'\n",
        "\n",
        "movies['rating_category'] = movies.rating.apply(judge)\n",
        "dummies = imdb_movies[(imdb_movies.rating_category=='Good')][['duration', 'score']]\n",
        "dummies"
      ],
      "metadata": {
        "colab": {
          "base_uri": "https://localhost:8080/",
          "height": 1000
        },
        "id": "pDK_B9-ZLoQ2",
        "outputId": "b7a32e7a-8c3d-4c3b-b948-1c379894c579"
      },
      "id": "pDK_B9-ZLoQ2",
      "execution_count": 149,
      "outputs": [
        {
          "output_type": "execute_result",
          "data": {
            "text/plain": [
              "    duration  score\n",
              "0        142     97\n",
              "1        130    134\n",
              "5         98    261\n",
              "7        134    393\n",
              "8        149    411\n",
              "9        116    514\n",
              "10       113    539\n",
              "12       109    706\n",
              "13       126    720\n",
              "15       105    750\n",
              "16       103    792\n",
              "17        96    854\n",
              "18       166    920\n",
              "19       145    942\n",
              "20       113    952\n",
              "21        97   1133\n",
              "22       114   1339\n",
              "23        94   1376\n",
              "24       179   1449\n",
              "25       122   1503\n",
              "26        83   1519\n",
              "27       146   1529\n",
              "28       112   1722\n",
              "29       132   1777\n",
              "30        93   1876\n",
              "33       148   2226\n",
              "36       119   2488\n",
              "40       110   2899\n",
              "45       110   3229\n",
              "51        64   3703\n",
              "53       111   3800\n",
              "60       138   4064\n",
              "62        84   4128\n",
              "64       129   4483\n",
              "66        88   4551\n",
              "68       238   4585\n",
              "69        95   4737\n",
              "71        87   4831"
            ],
            "text/html": [
              "\n",
              "  <div id=\"df-16c2afed-c6f4-481d-8a04-dffcd22b18b0\">\n",
              "    <div class=\"colab-df-container\">\n",
              "      <div>\n",
              "<style scoped>\n",
              "    .dataframe tbody tr th:only-of-type {\n",
              "        vertical-align: middle;\n",
              "    }\n",
              "\n",
              "    .dataframe tbody tr th {\n",
              "        vertical-align: top;\n",
              "    }\n",
              "\n",
              "    .dataframe thead th {\n",
              "        text-align: right;\n",
              "    }\n",
              "</style>\n",
              "<table border=\"1\" class=\"dataframe\">\n",
              "  <thead>\n",
              "    <tr style=\"text-align: right;\">\n",
              "      <th></th>\n",
              "      <th>duration</th>\n",
              "      <th>score</th>\n",
              "    </tr>\n",
              "  </thead>\n",
              "  <tbody>\n",
              "    <tr>\n",
              "      <th>0</th>\n",
              "      <td>142</td>\n",
              "      <td>97</td>\n",
              "    </tr>\n",
              "    <tr>\n",
              "      <th>1</th>\n",
              "      <td>130</td>\n",
              "      <td>134</td>\n",
              "    </tr>\n",
              "    <tr>\n",
              "      <th>5</th>\n",
              "      <td>98</td>\n",
              "      <td>261</td>\n",
              "    </tr>\n",
              "    <tr>\n",
              "      <th>7</th>\n",
              "      <td>134</td>\n",
              "      <td>393</td>\n",
              "    </tr>\n",
              "    <tr>\n",
              "      <th>8</th>\n",
              "      <td>149</td>\n",
              "      <td>411</td>\n",
              "    </tr>\n",
              "    <tr>\n",
              "      <th>9</th>\n",
              "      <td>116</td>\n",
              "      <td>514</td>\n",
              "    </tr>\n",
              "    <tr>\n",
              "      <th>10</th>\n",
              "      <td>113</td>\n",
              "      <td>539</td>\n",
              "    </tr>\n",
              "    <tr>\n",
              "      <th>12</th>\n",
              "      <td>109</td>\n",
              "      <td>706</td>\n",
              "    </tr>\n",
              "    <tr>\n",
              "      <th>13</th>\n",
              "      <td>126</td>\n",
              "      <td>720</td>\n",
              "    </tr>\n",
              "    <tr>\n",
              "      <th>15</th>\n",
              "      <td>105</td>\n",
              "      <td>750</td>\n",
              "    </tr>\n",
              "    <tr>\n",
              "      <th>16</th>\n",
              "      <td>103</td>\n",
              "      <td>792</td>\n",
              "    </tr>\n",
              "    <tr>\n",
              "      <th>17</th>\n",
              "      <td>96</td>\n",
              "      <td>854</td>\n",
              "    </tr>\n",
              "    <tr>\n",
              "      <th>18</th>\n",
              "      <td>166</td>\n",
              "      <td>920</td>\n",
              "    </tr>\n",
              "    <tr>\n",
              "      <th>19</th>\n",
              "      <td>145</td>\n",
              "      <td>942</td>\n",
              "    </tr>\n",
              "    <tr>\n",
              "      <th>20</th>\n",
              "      <td>113</td>\n",
              "      <td>952</td>\n",
              "    </tr>\n",
              "    <tr>\n",
              "      <th>21</th>\n",
              "      <td>97</td>\n",
              "      <td>1133</td>\n",
              "    </tr>\n",
              "    <tr>\n",
              "      <th>22</th>\n",
              "      <td>114</td>\n",
              "      <td>1339</td>\n",
              "    </tr>\n",
              "    <tr>\n",
              "      <th>23</th>\n",
              "      <td>94</td>\n",
              "      <td>1376</td>\n",
              "    </tr>\n",
              "    <tr>\n",
              "      <th>24</th>\n",
              "      <td>179</td>\n",
              "      <td>1449</td>\n",
              "    </tr>\n",
              "    <tr>\n",
              "      <th>25</th>\n",
              "      <td>122</td>\n",
              "      <td>1503</td>\n",
              "    </tr>\n",
              "    <tr>\n",
              "      <th>26</th>\n",
              "      <td>83</td>\n",
              "      <td>1519</td>\n",
              "    </tr>\n",
              "    <tr>\n",
              "      <th>27</th>\n",
              "      <td>146</td>\n",
              "      <td>1529</td>\n",
              "    </tr>\n",
              "    <tr>\n",
              "      <th>28</th>\n",
              "      <td>112</td>\n",
              "      <td>1722</td>\n",
              "    </tr>\n",
              "    <tr>\n",
              "      <th>29</th>\n",
              "      <td>132</td>\n",
              "      <td>1777</td>\n",
              "    </tr>\n",
              "    <tr>\n",
              "      <th>30</th>\n",
              "      <td>93</td>\n",
              "      <td>1876</td>\n",
              "    </tr>\n",
              "    <tr>\n",
              "      <th>33</th>\n",
              "      <td>148</td>\n",
              "      <td>2226</td>\n",
              "    </tr>\n",
              "    <tr>\n",
              "      <th>36</th>\n",
              "      <td>119</td>\n",
              "      <td>2488</td>\n",
              "    </tr>\n",
              "    <tr>\n",
              "      <th>40</th>\n",
              "      <td>110</td>\n",
              "      <td>2899</td>\n",
              "    </tr>\n",
              "    <tr>\n",
              "      <th>45</th>\n",
              "      <td>110</td>\n",
              "      <td>3229</td>\n",
              "    </tr>\n",
              "    <tr>\n",
              "      <th>51</th>\n",
              "      <td>64</td>\n",
              "      <td>3703</td>\n",
              "    </tr>\n",
              "    <tr>\n",
              "      <th>53</th>\n",
              "      <td>111</td>\n",
              "      <td>3800</td>\n",
              "    </tr>\n",
              "    <tr>\n",
              "      <th>60</th>\n",
              "      <td>138</td>\n",
              "      <td>4064</td>\n",
              "    </tr>\n",
              "    <tr>\n",
              "      <th>62</th>\n",
              "      <td>84</td>\n",
              "      <td>4128</td>\n",
              "    </tr>\n",
              "    <tr>\n",
              "      <th>64</th>\n",
              "      <td>129</td>\n",
              "      <td>4483</td>\n",
              "    </tr>\n",
              "    <tr>\n",
              "      <th>66</th>\n",
              "      <td>88</td>\n",
              "      <td>4551</td>\n",
              "    </tr>\n",
              "    <tr>\n",
              "      <th>68</th>\n",
              "      <td>238</td>\n",
              "      <td>4585</td>\n",
              "    </tr>\n",
              "    <tr>\n",
              "      <th>69</th>\n",
              "      <td>95</td>\n",
              "      <td>4737</td>\n",
              "    </tr>\n",
              "    <tr>\n",
              "      <th>71</th>\n",
              "      <td>87</td>\n",
              "      <td>4831</td>\n",
              "    </tr>\n",
              "  </tbody>\n",
              "</table>\n",
              "</div>\n",
              "      <button class=\"colab-df-convert\" onclick=\"convertToInteractive('df-16c2afed-c6f4-481d-8a04-dffcd22b18b0')\"\n",
              "              title=\"Convert this dataframe to an interactive table.\"\n",
              "              style=\"display:none;\">\n",
              "        \n",
              "  <svg xmlns=\"http://www.w3.org/2000/svg\" height=\"24px\"viewBox=\"0 0 24 24\"\n",
              "       width=\"24px\">\n",
              "    <path d=\"M0 0h24v24H0V0z\" fill=\"none\"/>\n",
              "    <path d=\"M18.56 5.44l.94 2.06.94-2.06 2.06-.94-2.06-.94-.94-2.06-.94 2.06-2.06.94zm-11 1L8.5 8.5l.94-2.06 2.06-.94-2.06-.94L8.5 2.5l-.94 2.06-2.06.94zm10 10l.94 2.06.94-2.06 2.06-.94-2.06-.94-.94-2.06-.94 2.06-2.06.94z\"/><path d=\"M17.41 7.96l-1.37-1.37c-.4-.4-.92-.59-1.43-.59-.52 0-1.04.2-1.43.59L10.3 9.45l-7.72 7.72c-.78.78-.78 2.05 0 2.83L4 21.41c.39.39.9.59 1.41.59.51 0 1.02-.2 1.41-.59l7.78-7.78 2.81-2.81c.8-.78.8-2.07 0-2.86zM5.41 20L4 18.59l7.72-7.72 1.47 1.35L5.41 20z\"/>\n",
              "  </svg>\n",
              "      </button>\n",
              "      \n",
              "  <style>\n",
              "    .colab-df-container {\n",
              "      display:flex;\n",
              "      flex-wrap:wrap;\n",
              "      gap: 12px;\n",
              "    }\n",
              "\n",
              "    .colab-df-convert {\n",
              "      background-color: #E8F0FE;\n",
              "      border: none;\n",
              "      border-radius: 50%;\n",
              "      cursor: pointer;\n",
              "      display: none;\n",
              "      fill: #1967D2;\n",
              "      height: 32px;\n",
              "      padding: 0 0 0 0;\n",
              "      width: 32px;\n",
              "    }\n",
              "\n",
              "    .colab-df-convert:hover {\n",
              "      background-color: #E2EBFA;\n",
              "      box-shadow: 0px 1px 2px rgba(60, 64, 67, 0.3), 0px 1px 3px 1px rgba(60, 64, 67, 0.15);\n",
              "      fill: #174EA6;\n",
              "    }\n",
              "\n",
              "    [theme=dark] .colab-df-convert {\n",
              "      background-color: #3B4455;\n",
              "      fill: #D2E3FC;\n",
              "    }\n",
              "\n",
              "    [theme=dark] .colab-df-convert:hover {\n",
              "      background-color: #434B5C;\n",
              "      box-shadow: 0px 1px 3px 1px rgba(0, 0, 0, 0.15);\n",
              "      filter: drop-shadow(0px 1px 2px rgba(0, 0, 0, 0.3));\n",
              "      fill: #FFFFFF;\n",
              "    }\n",
              "  </style>\n",
              "\n",
              "      <script>\n",
              "        const buttonEl =\n",
              "          document.querySelector('#df-16c2afed-c6f4-481d-8a04-dffcd22b18b0 button.colab-df-convert');\n",
              "        buttonEl.style.display =\n",
              "          google.colab.kernel.accessAllowed ? 'block' : 'none';\n",
              "\n",
              "        async function convertToInteractive(key) {\n",
              "          const element = document.querySelector('#df-16c2afed-c6f4-481d-8a04-dffcd22b18b0');\n",
              "          const dataTable =\n",
              "            await google.colab.kernel.invokeFunction('convertToInteractive',\n",
              "                                                     [key], {});\n",
              "          if (!dataTable) return;\n",
              "\n",
              "          const docLinkHtml = 'Like what you see? Visit the ' +\n",
              "            '<a target=\"_blank\" href=https://colab.research.google.com/notebooks/data_table.ipynb>data table notebook</a>'\n",
              "            + ' to learn more about interactive tables.';\n",
              "          element.innerHTML = '';\n",
              "          dataTable['output_type'] = 'display_data';\n",
              "          await google.colab.output.renderOutput(dataTable, element);\n",
              "          const docLink = document.createElement('div');\n",
              "          docLink.innerHTML = docLinkHtml;\n",
              "          element.appendChild(docLink);\n",
              "        }\n",
              "      </script>\n",
              "    </div>\n",
              "  </div>\n",
              "  "
            ]
          },
          "metadata": {},
          "execution_count": 149
        }
      ]
    },
    {
      "cell_type": "code",
      "source": [
        "movies.columns\n",
        "\n",
        "dummies.values[0]"
      ],
      "metadata": {
        "colab": {
          "base_uri": "https://localhost:8080/"
        },
        "id": "M3yjbRliMCEZ",
        "outputId": "28a102dc-f601-4a74-933f-671633c75815"
      },
      "id": "M3yjbRliMCEZ",
      "execution_count": 150,
      "outputs": [
        {
          "output_type": "execute_result",
          "data": {
            "text/plain": [
              "array([142,  97])"
            ]
          },
          "metadata": {},
          "execution_count": 150
        }
      ]
    },
    {
      "cell_type": "code",
      "source": [
        "judge = lambda x: 'Good' if x>7 else 'Average' if x>5 else 'Bad'\n",
        "\n",
        "movies['rating_category'] = movies.rating.apply(judge)\n",
        "dummies = imdb_movies[(imdb_movies.rating_category=='Bad')][['duration', 'score']]\n",
        "dummies"
      ],
      "metadata": {
        "colab": {
          "base_uri": "https://localhost:8080/",
          "height": 49
        },
        "id": "xtNGqXPdL1aw",
        "outputId": "3745f6d5-e634-431d-9563-315663f2cc07"
      },
      "id": "xtNGqXPdL1aw",
      "execution_count": 151,
      "outputs": [
        {
          "output_type": "execute_result",
          "data": {
            "text/plain": [
              "Empty DataFrame\n",
              "Columns: [duration, score]\n",
              "Index: []"
            ],
            "text/html": [
              "\n",
              "  <div id=\"df-d570f1e9-22ff-4004-b861-ec5e3cbe1b5e\">\n",
              "    <div class=\"colab-df-container\">\n",
              "      <div>\n",
              "<style scoped>\n",
              "    .dataframe tbody tr th:only-of-type {\n",
              "        vertical-align: middle;\n",
              "    }\n",
              "\n",
              "    .dataframe tbody tr th {\n",
              "        vertical-align: top;\n",
              "    }\n",
              "\n",
              "    .dataframe thead th {\n",
              "        text-align: right;\n",
              "    }\n",
              "</style>\n",
              "<table border=\"1\" class=\"dataframe\">\n",
              "  <thead>\n",
              "    <tr style=\"text-align: right;\">\n",
              "      <th></th>\n",
              "      <th>duration</th>\n",
              "      <th>score</th>\n",
              "    </tr>\n",
              "  </thead>\n",
              "  <tbody>\n",
              "  </tbody>\n",
              "</table>\n",
              "</div>\n",
              "      <button class=\"colab-df-convert\" onclick=\"convertToInteractive('df-d570f1e9-22ff-4004-b861-ec5e3cbe1b5e')\"\n",
              "              title=\"Convert this dataframe to an interactive table.\"\n",
              "              style=\"display:none;\">\n",
              "        \n",
              "  <svg xmlns=\"http://www.w3.org/2000/svg\" height=\"24px\"viewBox=\"0 0 24 24\"\n",
              "       width=\"24px\">\n",
              "    <path d=\"M0 0h24v24H0V0z\" fill=\"none\"/>\n",
              "    <path d=\"M18.56 5.44l.94 2.06.94-2.06 2.06-.94-2.06-.94-.94-2.06-.94 2.06-2.06.94zm-11 1L8.5 8.5l.94-2.06 2.06-.94-2.06-.94L8.5 2.5l-.94 2.06-2.06.94zm10 10l.94 2.06.94-2.06 2.06-.94-2.06-.94-.94-2.06-.94 2.06-2.06.94z\"/><path d=\"M17.41 7.96l-1.37-1.37c-.4-.4-.92-.59-1.43-.59-.52 0-1.04.2-1.43.59L10.3 9.45l-7.72 7.72c-.78.78-.78 2.05 0 2.83L4 21.41c.39.39.9.59 1.41.59.51 0 1.02-.2 1.41-.59l7.78-7.78 2.81-2.81c.8-.78.8-2.07 0-2.86zM5.41 20L4 18.59l7.72-7.72 1.47 1.35L5.41 20z\"/>\n",
              "  </svg>\n",
              "      </button>\n",
              "      \n",
              "  <style>\n",
              "    .colab-df-container {\n",
              "      display:flex;\n",
              "      flex-wrap:wrap;\n",
              "      gap: 12px;\n",
              "    }\n",
              "\n",
              "    .colab-df-convert {\n",
              "      background-color: #E8F0FE;\n",
              "      border: none;\n",
              "      border-radius: 50%;\n",
              "      cursor: pointer;\n",
              "      display: none;\n",
              "      fill: #1967D2;\n",
              "      height: 32px;\n",
              "      padding: 0 0 0 0;\n",
              "      width: 32px;\n",
              "    }\n",
              "\n",
              "    .colab-df-convert:hover {\n",
              "      background-color: #E2EBFA;\n",
              "      box-shadow: 0px 1px 2px rgba(60, 64, 67, 0.3), 0px 1px 3px 1px rgba(60, 64, 67, 0.15);\n",
              "      fill: #174EA6;\n",
              "    }\n",
              "\n",
              "    [theme=dark] .colab-df-convert {\n",
              "      background-color: #3B4455;\n",
              "      fill: #D2E3FC;\n",
              "    }\n",
              "\n",
              "    [theme=dark] .colab-df-convert:hover {\n",
              "      background-color: #434B5C;\n",
              "      box-shadow: 0px 1px 3px 1px rgba(0, 0, 0, 0.15);\n",
              "      filter: drop-shadow(0px 1px 2px rgba(0, 0, 0, 0.3));\n",
              "      fill: #FFFFFF;\n",
              "    }\n",
              "  </style>\n",
              "\n",
              "      <script>\n",
              "        const buttonEl =\n",
              "          document.querySelector('#df-d570f1e9-22ff-4004-b861-ec5e3cbe1b5e button.colab-df-convert');\n",
              "        buttonEl.style.display =\n",
              "          google.colab.kernel.accessAllowed ? 'block' : 'none';\n",
              "\n",
              "        async function convertToInteractive(key) {\n",
              "          const element = document.querySelector('#df-d570f1e9-22ff-4004-b861-ec5e3cbe1b5e');\n",
              "          const dataTable =\n",
              "            await google.colab.kernel.invokeFunction('convertToInteractive',\n",
              "                                                     [key], {});\n",
              "          if (!dataTable) return;\n",
              "\n",
              "          const docLinkHtml = 'Like what you see? Visit the ' +\n",
              "            '<a target=\"_blank\" href=https://colab.research.google.com/notebooks/data_table.ipynb>data table notebook</a>'\n",
              "            + ' to learn more about interactive tables.';\n",
              "          element.innerHTML = '';\n",
              "          dataTable['output_type'] = 'display_data';\n",
              "          await google.colab.output.renderOutput(dataTable, element);\n",
              "          const docLink = document.createElement('div');\n",
              "          docLink.innerHTML = docLinkHtml;\n",
              "          element.appendChild(docLink);\n",
              "        }\n",
              "      </script>\n",
              "    </div>\n",
              "  </div>\n",
              "  "
            ]
          },
          "metadata": {},
          "execution_count": 151
        }
      ]
    },
    {
      "cell_type": "markdown",
      "id": "d8fdd20a",
      "metadata": {
        "id": "d8fdd20a"
      },
      "source": [
        "### 4.3b Use the dummies features to assign a color to the data points in the scatter plot (2’)"
      ]
    },
    {
      "cell_type": "markdown",
      "id": "03020ebe",
      "metadata": {
        "id": "03020ebe"
      },
      "source": [
        "State your findings from the scatter plot (within 50 words)."
      ]
    },
    {
      "cell_type": "markdown",
      "id": "19b67e7f",
      "metadata": {
        "id": "19b67e7f"
      },
      "source": [
        "就是这里需要将 dummies 的点用颜色表示出来，因为dummies可以作为分组的field切割出duration和score\n",
        "也可以不用颜色表示"
      ]
    },
    {
      "cell_type": "code",
      "execution_count": 152,
      "id": "6f7aa66c",
      "metadata": {
        "colab": {
          "base_uri": "https://localhost:8080/",
          "height": 281
        },
        "id": "6f7aa66c",
        "outputId": "82d5c9de-c950-4958-be2a-b8540cc30e58"
      },
      "outputs": [
        {
          "output_type": "display_data",
          "data": {
            "text/plain": [
              "<Figure size 432x288 with 1 Axes>"
            ],
            "image/png": "[encoded data removed]"
          },
          "metadata": {
            "needs_background": "light"
          }
        }
      ],
      "source": [
        "movies = imdb_movies\n",
        "# 绘制散点图\n",
        "durations = movies.duration\n",
        "popularity_scores = movies.score\n",
        "\n",
        "plt.scatter(durations, popularity_scores)\n",
        "# 设置 x 轴和 y 轴的标签\n",
        "plt.xlabel('Duration')\n",
        "plt.ylabel('Popularity score')\n",
        "# 显示图表\n",
        "plt.show()"
      ]
    },
    {
      "cell_type": "markdown",
      "id": "9026527b",
      "metadata": {
        "id": "9026527b"
      },
      "source": [
        "## 4.4. Show the trend of average gross income worldwide per year, using a line chart. (4')"
      ]
    },
    {
      "cell_type": "markdown",
      "id": "a39edddf",
      "metadata": {
        "id": "a39edddf"
      },
      "source": [
        "State your findings from the line chart (within 50 words)"
      ]
    },
    {
      "cell_type": "markdown",
      "id": "d288ed80",
      "metadata": {
        "id": "d288ed80"
      },
      "source": [
        "`The movie box office began to heat up in 2019, until it reached its peak in 2020, and then slowly cooled down`"
      ]
    },
    {
      "cell_type": "code",
      "execution_count": 153,
      "id": "fc1e9545",
      "metadata": {
        "colab": {
          "base_uri": "https://localhost:8080/",
          "height": 290
        },
        "id": "fc1e9545",
        "outputId": "85571989-fe59-4037-ec14-71db5366ce65"
      },
      "outputs": [
        {
          "output_type": "display_data",
          "data": {
            "text/plain": [
              "<Figure size 432x288 with 1 Axes>"
            ],
            "image/png": "[encoded data removed]"
          },
          "metadata": {
            "needs_background": "light"
          }
        }
      ],
      "source": [
        "x = movies[movies.year > 0].year\n",
        "y = movies[movies.year > 0].boxOffice\n",
        "plt.plot(x, y)\n",
        "plt.xlabel('year')\n",
        "plt.ylabel('worldwideGross')\n",
        "plt.show()"
      ]
    },
    {
      "cell_type": "markdown",
      "id": "2b0fd0ad",
      "metadata": {
        "id": "2b0fd0ad"
      },
      "source": [
        "## 4.5 Visualize the distribution of box office of all movies, using a histogram. (5')"
      ]
    },
    {
      "cell_type": "code",
      "execution_count": 154,
      "id": "2833ff7c",
      "metadata": {
        "colab": {
          "base_uri": "https://localhost:8080/",
          "height": 279
        },
        "id": "2833ff7c",
        "outputId": "7d1be59a-c260-4c6b-9c72-39eb2caa442f"
      },
      "outputs": [
        {
          "output_type": "display_data",
          "data": {
            "text/plain": [
              "<Figure size 432x288 with 1 Axes>"
            ],
            "image/png": "[encoded data removed]"
          },
          "metadata": {
            "needs_background": "light"
          }
        }
      ],
      "source": [
        "# graph histogram\n",
        "plt.hist(movies.boxOffice)\n",
        "# set x axis and y axis label\n",
        "plt.xlabel('Box office')\n",
        "plt.ylabel('Number of movies')\n",
        "# show\n",
        "plt.show()\n"
      ]
    },
    {
      "cell_type": "markdown",
      "id": "8ef92b3b",
      "metadata": {
        "id": "8ef92b3b"
      },
      "source": [
        "## 4.6 Create a boxplot of the duration of all movies given their rating category. (5')"
      ]
    },
    {
      "cell_type": "markdown",
      "id": "7a449b37",
      "metadata": {
        "id": "7a449b37"
      },
      "source": [
        "State your findings from the wordcloud (within 50 words)."
      ]
    },
    {
      "cell_type": "code",
      "execution_count": 155,
      "id": "661b920d",
      "metadata": {
        "colab": {
          "base_uri": "https://localhost:8080/",
          "height": 335
        },
        "id": "661b920d",
        "outputId": "bcd79f5e-b65d-4a9e-e351-4185d0cb8fe5"
      },
      "outputs": [
        {
          "output_type": "stream",
          "name": "stderr",
          "text": [
            "/usr/local/lib/python3.8/dist-packages/matplotlib/cbook/__init__.py:1376: VisibleDeprecationWarning: Creating an ndarray from ragged nested sequences (which is a list-or-tuple of lists-or-tuples-or ndarrays with different lengths or shapes) is deprecated. If you meant to do this, you must specify 'dtype=object' when creating the ndarray.\n",
            "  X = np.atleast_1d(X.T if isinstance(X, np.ndarray) else np.asarray(X))\n"
          ]
        },
        {
          "output_type": "display_data",
          "data": {
            "text/plain": [
              "<Figure size 432x288 with 1 Axes>"
            ],
            "image/png": "[encoded data removed]"
          },
          "metadata": {
            "needs_background": "light"
          }
        }
      ],
      "source": [
        "# graph the boxplot\n",
        "# plt.boxplot(movies[movies.rating_category=='Good'].duration.values)\n",
        "# plt.boxplot(movies[movies.rating_category=='Average'].duration.values)\n",
        "# plt.boxplot(movies[movies.rating_category=='Bad'].duration.values)\n",
        "\n",
        "x1 = movies[movies.rating_category=='Good'].duration.values\n",
        "x2 = movies[movies.rating_category=='Average'].duration.values\n",
        "x3 = movies[movies.rating_category=='Bad'].duration.values\n",
        "plt.boxplot([x1, x2, x3], labels=['Good', 'Average', 'Bad'])\n",
        "\n",
        "# set axis, yaxis\n",
        "plt.xlabel('Rating category')\n",
        "plt.ylabel('Duration')\n",
        "# show\n",
        "plt.show()\n",
        "# len(movies.duration.values)\n",
        "# len(movies.rating_category.values)"
      ]
    },
    {
      "cell_type": "markdown",
      "id": "3a126d8a",
      "metadata": {
        "id": "3a126d8a"
      },
      "source": [
        "## 4.7 Create a word cloud visualization of the storyline of all movies. (5')"
      ]
    },
    {
      "cell_type": "markdown",
      "id": "0d8ea7f2",
      "metadata": {
        "id": "0d8ea7f2"
      },
      "source": [
        "State your findings from the wordcloud (within 50 words)."
      ]
    },
    {
      "cell_type": "markdown",
      "id": "94e03ae3",
      "metadata": {
        "id": "94e03ae3"
      },
      "source": [
        "`Themes are family, relationship, loneliness`"
      ]
    },
    {
      "cell_type": "code",
      "execution_count": 156,
      "id": "7f87b314",
      "metadata": {
        "colab": {
          "base_uri": "https://localhost:8080/",
          "height": 198
        },
        "id": "7f87b314",
        "outputId": "5d083208-b84b-40b1-ef19-d77a0b08941a"
      },
      "outputs": [
        {
          "output_type": "display_data",
          "data": {
            "text/plain": [
              "<Figure size 432x288 with 1 Axes>"
            ],
            "image/png": "[encoded data removed]"
          },
          "metadata": {
            "needs_background": "light"
          }
        }
      ],
      "source": [
        "# 创建词云\n",
        "import wordcloud\n",
        "\n",
        "wc = wordcloud.WordCloud()\n",
        "wc.generate(' '.join(list(movies.storyLine.values)))\n",
        "\n",
        "# 显示词云\n",
        "plt.imshow(wc)\n",
        "plt.axis(\"off\")\n",
        "plt.show()"
      ]
    },
    {
      "cell_type": "markdown",
      "id": "41d8b1b3",
      "metadata": {
        "id": "41d8b1b3"
      },
      "source": [
        "### 4.7a Analyse the frequency of the words then set a threshold for visualization (1')"
      ]
    },
    {
      "cell_type": "code",
      "execution_count": 157,
      "id": "e4e50e4c",
      "metadata": {
        "colab": {
          "base_uri": "https://localhost:8080/",
          "height": 198
        },
        "id": "e4e50e4c",
        "outputId": "5b97322d-28fa-41e8-d618-e0131d044f0d"
      },
      "outputs": [
        {
          "output_type": "display_data",
          "data": {
            "text/plain": [
              "<Figure size 432x288 with 1 Axes>"
            ],
            "image/png": "[encoded data removed]"
          },
          "metadata": {
            "needs_background": "light"
          }
        }
      ],
      "source": [
        "# anlayze the words frequency\n",
        "from collections import Counter\n",
        "\n",
        "c = Counter()\n",
        "for storyline in movies.storyLine.values:\n",
        "    words = storyline.split(' ')\n",
        "    for word in words:\n",
        "        c[word] += 1\n",
        "\n",
        "# 设置阈值\n",
        "threshold = 2\n",
        "\n",
        "# 筛选频率大于等于阈值的单词\n",
        "common_words = [word for word, count in c.items() if count >= threshold]\n",
        "wc.generate(' '.join(common_words))\n",
        "\n",
        "# 显示词云\n",
        "plt.imshow(wc)\n",
        "plt.axis(\"off\")\n",
        "plt.show()"
      ]
    },
    {
      "cell_type": "markdown",
      "id": "cc61ba35",
      "metadata": {
        "id": "cc61ba35"
      },
      "source": [
        "### 4.7b Select a mask for the word cloud (1')"
      ]
    },
    {
      "cell_type": "code",
      "execution_count": 158,
      "id": "8b480f11",
      "metadata": {
        "colab": {
          "base_uri": "https://localhost:8080/",
          "height": 248
        },
        "id": "8b480f11",
        "outputId": "cd12084e-b8f3-4822-d088-2e55cb6861db"
      },
      "outputs": [
        {
          "output_type": "display_data",
          "data": {
            "text/plain": [
              "<Figure size 432x288 with 1 Axes>"
            ],
            "image/png": "[encoded data removed]"
          },
          "metadata": {
            "needs_background": "light"
          }
        }
      ],
      "source": [
        "# 创建词云\n",
        "from PIL import Image\n",
        "\n",
        "mask = np.array(Image.open('./mask人像图片.png'))\n",
        "wc = wordcloud.WordCloud(mask=mask)\n",
        "wc.generate(' '.join(common_words))\n",
        "\n",
        "# 显示词云\n",
        "plt.imshow(wc)\n",
        "plt.axis(\"off\")\n",
        "plt.show()"
      ]
    },
    {
      "cell_type": "markdown",
      "id": "595223c5",
      "metadata": {
        "id": "595223c5"
      },
      "source": [
        "# 结束"
      ]
    },
    {
      "cell_type": "code",
      "execution_count": null,
      "id": "166d1d09",
      "metadata": {
        "id": "166d1d09"
      },
      "outputs": [],
      "source": []
    }
  ],
  "metadata": {
    "kernelspec": {
      "display_name": "Python 3 (ipykernel)",
      "language": "python",
      "name": "python3"
    },
    "language_info": {
      "codemirror_mode": {
        "name": "ipython",
        "version": 3
      },
      "file_extension": ".py",
      "mimetype": "text/x-python",
      "name": "python",
      "nbconvert_exporter": "python",
      "pygments_lexer": "ipython3",
      "version": "3.10.4"
    },
    "colab": {
      "provenance": []
    }
  },
  "nbformat": 4,
  "nbformat_minor": 5
}