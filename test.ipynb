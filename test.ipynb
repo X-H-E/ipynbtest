{
  "nbformat": 4,
  "nbformat_minor": 0,
  "metadata": {
    "colab": {
      "provenance": []
    },
    "kernelspec": {
      "name": "python3",
      "display_name": "Python 3"
    },
    "language_info": {
      "name": "python"
    },
    "gpuClass": "standard"
  },
  "cells": [
    {
      "cell_type": "code",
      "source": [
        "#!/usr/bin/python\n",
        "# -*- coding: utf-8 -*-"
      ],
      "metadata": {
        "id": "lpCH-ROhS8is"
      },
      "execution_count": 1,
      "outputs": []
    },
    {
      "cell_type": "markdown",
      "source": [
        "# Part 1: IMBD movies list [8%]\n",
        "## 1.1 Load the Libraries (1')\n",
        "- Import all the required libraries in this section (e.g. pandas, numpy, etc.)\n",
        "- important command to display IMMEDIATELY your plots\n",
        "- %matplotlib inline\n",
        "\n",
        "## 1.2 Movie list collection (5')\n",
        "Scrape the IMDB movies list:\n",
        "- use Requests and BeautifulSoup **ONLY**,\n",
        "- scrape the first 2 pages (100 Movies),爬前两页，100个电影\n",
        "- use `for` loop to scroll the pages,用‘for’语句\n",
        "- use a random timer to delay the requests,\n",
        "- store the movie title, movie page URL, and other information you deem interesting in `movie_list` Pandas dataframe\"储存电影名字、界面url等 ]\n",
        "\n",
        "## 1.3 Print shape, head and tail of the dataframe (1')\n",
        "\n",
        "## 1.4 Save the dataframe to a CSV file (1')\n",
        "Name it `movie_list.csv`"
      ],
      "metadata": {
        "id": "S2_BMU6IIh8A"
      }
    },
    {
      "cell_type": "code",
      "source": [
        "!pip install fake_useragent pandas matplotlib pillow wordcloud bs4"
      ],
      "metadata": {
        "colab": {
          "base_uri": "https://localhost:8080/"
        },
        "id": "WDUZaT3aQraF",
        "outputId": "330357a3-c29a-4b2d-86d1-daf9e3d8fc20"
      },
      "execution_count": 2,
      "outputs": [
        {
          "output_type": "stream",
          "name": "stdout",
          "text": [
            "Looking in indexes: https://pypi.org/simple, https://us-python.pkg.dev/colab-wheels/public/simple/\n",
            "Collecting fake_useragent\n",
            "  Downloading fake_useragent-1.1.1-py3-none-any.whl (50 kB)\n",
            "\u001b[K     |████████████████████████████████| 50 kB 1.6 MB/s \n",
            "\u001b[?25hRequirement already satisfied: pandas in /usr/local/lib/python3.8/dist-packages (1.3.5)\n",
            "Requirement already satisfied: matplotlib in /usr/local/lib/python3.8/dist-packages (3.2.2)\n",
            "Requirement already satisfied: pillow in /usr/local/lib/python3.8/dist-packages (7.1.2)\n",
            "Requirement already satisfied: wordcloud in /usr/local/lib/python3.8/dist-packages (1.8.2.2)\n",
            "Requirement already satisfied: bs4 in /usr/local/lib/python3.8/dist-packages (0.0.1)\n",
            "Requirement already satisfied: importlib-resources>=5.0 in /usr/local/lib/python3.8/dist-packages (from fake_useragent) (5.10.0)\n",
            "Requirement already satisfied: zipp>=3.1.0 in /usr/local/lib/python3.8/dist-packages (from importlib-resources>=5.0->fake_useragent) (3.11.0)\n",
            "Requirement already satisfied: pytz>=2017.3 in /usr/local/lib/python3.8/dist-packages (from pandas) (2022.6)\n",
            "Requirement already satisfied: numpy>=1.17.3 in /usr/local/lib/python3.8/dist-packages (from pandas) (1.21.6)\n",
            "Requirement already satisfied: python-dateutil>=2.7.3 in /usr/local/lib/python3.8/dist-packages (from pandas) (2.8.2)\n",
            "Requirement already satisfied: six>=1.5 in /usr/local/lib/python3.8/dist-packages (from python-dateutil>=2.7.3->pandas) (1.15.0)\n",
            "Requirement already satisfied: cycler>=0.10 in /usr/local/lib/python3.8/dist-packages (from matplotlib) (0.11.0)\n",
            "Requirement already satisfied: kiwisolver>=1.0.1 in /usr/local/lib/python3.8/dist-packages (from matplotlib) (1.4.4)\n",
            "Requirement already satisfied: pyparsing!=2.0.4,!=2.1.2,!=2.1.6,>=2.0.1 in /usr/local/lib/python3.8/dist-packages (from matplotlib) (3.0.9)\n",
            "Requirement already satisfied: beautifulsoup4 in /usr/local/lib/python3.8/dist-packages (from bs4) (4.6.3)\n",
            "Installing collected packages: fake-useragent\n",
            "Successfully installed fake-useragent-1.1.1\n"
          ]
        }
      ]
    },
    {
      "cell_type": "code",
      "source": [
        "import pandas as pd\n",
        "import numpy as np\n",
        "from fake_useragent import UserAgent\n",
        "uae = UserAgent()\n",
        "from bs4.element import Tag\n",
        "import hashlib\n",
        "import matplotlib.pyplot as plt\n",
        "import json\n",
        "from PIL import Image\n",
        "import wordcloud\n",
        "import re\n",
        "# anlayze the words frequency\n",
        "from collections import Counter"
      ],
      "metadata": {
        "id": "otRpEWfaI_Km"
      },
      "execution_count": 3,
      "outputs": []
    },
    {
      "cell_type": "code",
      "source": [
        "%matplotlib inline"
      ],
      "metadata": {
        "id": "wdknNzG9JSnT"
      },
      "execution_count": 4,
      "outputs": []
    },
    {
      "cell_type": "markdown",
      "source": [
        "# part I"
      ],
      "metadata": {
        "id": "BQuGrGAYJZCf"
      }
    },
    {
      "cell_type": "code",
      "source": [
        "import requests\n",
        "from bs4 import BeautifulSoup\n",
        "\n",
        "# movie list page url template\n",
        "pt = 'https://www.imdb.com/search/title/?title_type=feature&keywords=based-on-short-story'\n",
        "# movie url template\n",
        "ut = 'https://www.imdb.com{}?ref_=adv_li_tt'\n",
        "# 2 movie page, total 100 movies\n",
        "pages = [pt, pt+'&start=51&ref_=adv_nxt']\n",
        "# object stored the 100 movies\n",
        "movies = {'title': [], 'url': [], 'year': []}\n",
        "\n",
        "for page in pages:\n",
        "    response = requests.get(page)\n",
        "    soup = BeautifulSoup(response.text, 'html.parser')\n",
        "    movies['url'].extend([ut.format(_['href']) for _ in soup.select(\".lister-item-header a\")])\n",
        "    movies['title'].extend([_.string for _ in soup.select(\".lister-item-header a\")])\n",
        "    movies['year'].extend([_.string[1:-1] for _ in soup.select(\"span.lister-item-year\")])"
      ],
      "metadata": {
        "id": "-S8zS086JWvI"
      },
      "execution_count": 6,
      "outputs": []
    },
    {
      "cell_type": "code",
      "source": [
        "# convert the dict to dataframe\n",
        "movie_list = pd.DataFrame(movies, columns=movies.keys())\n",
        "movie_list.to_csv('movie_list.csv', encoding='utf-8')"
      ],
      "metadata": {
        "id": "X6aJ0LSbJe5I"
      },
      "execution_count": 7,
      "outputs": []
    },
    {
      "cell_type": "markdown",
      "source": [
        "## 1.3 Print shape, head and tail of the dataframe"
      ],
      "metadata": {
        "id": "UFbUM1R4JjAM"
      }
    },
    {
      "cell_type": "code",
      "source": [
        "print(movie_list.shape)\n",
        "print(movie_list.head())\n",
        "print(movie_list.tail())"
      ],
      "metadata": {
        "id": "FrRrrX8hJlCs",
        "colab": {
          "base_uri": "https://localhost:8080/"
        },
        "outputId": "262582a5-77c9-44bc-bad4-122edb564bbf"
      },
      "execution_count": 8,
      "outputs": [
        {
          "output_type": "stream",
          "name": "stdout",
          "text": [
            "(100, 3)\n",
            "                             title  \\\n",
            "0         The Shawshank Redemption   \n",
            "1            It's a Wonderful Life   \n",
            "2  Three Thousand Years of Longing   \n",
            "3                   Eyes Wide Shut   \n",
            "4                  The Black Phone   \n",
            "\n",
            "                                                 url  year  \n",
            "0  https://www.imdb.com/title/tt0111161/?ref_=adv...  1994  \n",
            "1  https://www.imdb.com/title/tt0038650/?ref_=adv...  1946  \n",
            "2  https://www.imdb.com/title/tt9198364/?ref_=adv...  2022  \n",
            "3  https://www.imdb.com/title/tt0120663/?ref_=adv...  1999  \n",
            "4  https://www.imdb.com/title/tt7144666/?ref_=adv...  2021  \n",
            "                      title  \\\n",
            "95          Babette's Feast   \n",
            "96             Bubba Ho-Tep   \n",
            "97       Stonehearst Asylum   \n",
            "98  Coming Home in the Dark   \n",
            "99              Creepshow 2   \n",
            "\n",
            "                                                  url  year  \n",
            "95  https://www.imdb.com/title/tt0092603/?ref_=adv...  1987  \n",
            "96  https://www.imdb.com/title/tt0281686/?ref_=adv...  2002  \n",
            "97  https://www.imdb.com/title/tt1772264/?ref_=adv...  2014  \n",
            "98  https://www.imdb.com/title/tt6874762/?ref_=adv...  2021  \n",
            "99  https://www.imdb.com/title/tt0092796/?ref_=adv...  1987  \n"
          ]
        }
      ]
    },
    {
      "cell_type": "markdown",
      "source": [
        "# part II"
      ],
      "metadata": {
        "id": "pkVQC5suJnXz"
      }
    },
    {
      "cell_type": "code",
      "source": [
        "# load the movie_list.csv\n",
        "movie_list = pd.read_csv('movie_list.csv', encoding='utf-8', usecols=[1,2,3])\n",
        "movie_list.head()"
      ],
      "metadata": {
        "id": "pvP46uy9Jqj_",
        "colab": {
          "base_uri": "https://localhost:8080/",
          "height": 206
        },
        "outputId": "e8ba066e-d256-45bb-adf5-c73c8e2c3e4a"
      },
      "execution_count": 9,
      "outputs": [
        {
          "output_type": "execute_result",
          "data": {
            "text/plain": [
              "                             title  \\\n",
              "0         The Shawshank Redemption   \n",
              "1            It's a Wonderful Life   \n",
              "2  Three Thousand Years of Longing   \n",
              "3                   Eyes Wide Shut   \n",
              "4                  The Black Phone   \n",
              "\n",
              "                                                 url  year  \n",
              "0  https://www.imdb.com/title/tt0111161/?ref_=adv...  1994  \n",
              "1  https://www.imdb.com/title/tt0038650/?ref_=adv...  1946  \n",
              "2  https://www.imdb.com/title/tt9198364/?ref_=adv...  2022  \n",
              "3  https://www.imdb.com/title/tt0120663/?ref_=adv...  1999  \n",
              "4  https://www.imdb.com/title/tt7144666/?ref_=adv...  2021  "
            ],
            "text/html": [
              "\n",
              "  <div id=\"df-d1a186e3-49b3-42b0-9e71-c48d37953236\">\n",
              "    <div class=\"colab-df-container\">\n",
              "      <div>\n",
              "<style scoped>\n",
              "    .dataframe tbody tr th:only-of-type {\n",
              "        vertical-align: middle;\n",
              "    }\n",
              "\n",
              "    .dataframe tbody tr th {\n",
              "        vertical-align: top;\n",
              "    }\n",
              "\n",
              "    .dataframe thead th {\n",
              "        text-align: right;\n",
              "    }\n",
              "</style>\n",
              "<table border=\"1\" class=\"dataframe\">\n",
              "  <thead>\n",
              "    <tr style=\"text-align: right;\">\n",
              "      <th></th>\n",
              "      <th>title</th>\n",
              "      <th>url</th>\n",
              "      <th>year</th>\n",
              "    </tr>\n",
              "  </thead>\n",
              "  <tbody>\n",
              "    <tr>\n",
              "      <th>0</th>\n",
              "      <td>The Shawshank Redemption</td>\n",
              "      <td>https://www.imdb.com/title/tt0111161/?ref_=adv...</td>\n",
              "      <td>1994</td>\n",
              "    </tr>\n",
              "    <tr>\n",
              "      <th>1</th>\n",
              "      <td>It's a Wonderful Life</td>\n",
              "      <td>https://www.imdb.com/title/tt0038650/?ref_=adv...</td>\n",
              "      <td>1946</td>\n",
              "    </tr>\n",
              "    <tr>\n",
              "      <th>2</th>\n",
              "      <td>Three Thousand Years of Longing</td>\n",
              "      <td>https://www.imdb.com/title/tt9198364/?ref_=adv...</td>\n",
              "      <td>2022</td>\n",
              "    </tr>\n",
              "    <tr>\n",
              "      <th>3</th>\n",
              "      <td>Eyes Wide Shut</td>\n",
              "      <td>https://www.imdb.com/title/tt0120663/?ref_=adv...</td>\n",
              "      <td>1999</td>\n",
              "    </tr>\n",
              "    <tr>\n",
              "      <th>4</th>\n",
              "      <td>The Black Phone</td>\n",
              "      <td>https://www.imdb.com/title/tt7144666/?ref_=adv...</td>\n",
              "      <td>2021</td>\n",
              "    </tr>\n",
              "  </tbody>\n",
              "</table>\n",
              "</div>\n",
              "      <button class=\"colab-df-convert\" onclick=\"convertToInteractive('df-d1a186e3-49b3-42b0-9e71-c48d37953236')\"\n",
              "              title=\"Convert this dataframe to an interactive table.\"\n",
              "              style=\"display:none;\">\n",
              "        \n",
              "  <svg xmlns=\"http://www.w3.org/2000/svg\" height=\"24px\"viewBox=\"0 0 24 24\"\n",
              "       width=\"24px\">\n",
              "    <path d=\"M0 0h24v24H0V0z\" fill=\"none\"/>\n",
              "    <path d=\"M18.56 5.44l.94 2.06.94-2.06 2.06-.94-2.06-.94-.94-2.06-.94 2.06-2.06.94zm-11 1L8.5 8.5l.94-2.06 2.06-.94-2.06-.94L8.5 2.5l-.94 2.06-2.06.94zm10 10l.94 2.06.94-2.06 2.06-.94-2.06-.94-.94-2.06-.94 2.06-2.06.94z\"/><path d=\"M17.41 7.96l-1.37-1.37c-.4-.4-.92-.59-1.43-.59-.52 0-1.04.2-1.43.59L10.3 9.45l-7.72 7.72c-.78.78-.78 2.05 0 2.83L4 21.41c.39.39.9.59 1.41.59.51 0 1.02-.2 1.41-.59l7.78-7.78 2.81-2.81c.8-.78.8-2.07 0-2.86zM5.41 20L4 18.59l7.72-7.72 1.47 1.35L5.41 20z\"/>\n",
              "  </svg>\n",
              "      </button>\n",
              "      \n",
              "  <style>\n",
              "    .colab-df-container {\n",
              "      display:flex;\n",
              "      flex-wrap:wrap;\n",
              "      gap: 12px;\n",
              "    }\n",
              "\n",
              "    .colab-df-convert {\n",
              "      background-color: #E8F0FE;\n",
              "      border: none;\n",
              "      border-radius: 50%;\n",
              "      cursor: pointer;\n",
              "      display: none;\n",
              "      fill: #1967D2;\n",
              "      height: 32px;\n",
              "      padding: 0 0 0 0;\n",
              "      width: 32px;\n",
              "    }\n",
              "\n",
              "    .colab-df-convert:hover {\n",
              "      background-color: #E2EBFA;\n",
              "      box-shadow: 0px 1px 2px rgba(60, 64, 67, 0.3), 0px 1px 3px 1px rgba(60, 64, 67, 0.15);\n",
              "      fill: #174EA6;\n",
              "    }\n",
              "\n",
              "    [theme=dark] .colab-df-convert {\n",
              "      background-color: #3B4455;\n",
              "      fill: #D2E3FC;\n",
              "    }\n",
              "\n",
              "    [theme=dark] .colab-df-convert:hover {\n",
              "      background-color: #434B5C;\n",
              "      box-shadow: 0px 1px 3px 1px rgba(0, 0, 0, 0.15);\n",
              "      filter: drop-shadow(0px 1px 2px rgba(0, 0, 0, 0.3));\n",
              "      fill: #FFFFFF;\n",
              "    }\n",
              "  </style>\n",
              "\n",
              "      <script>\n",
              "        const buttonEl =\n",
              "          document.querySelector('#df-d1a186e3-49b3-42b0-9e71-c48d37953236 button.colab-df-convert');\n",
              "        buttonEl.style.display =\n",
              "          google.colab.kernel.accessAllowed ? 'block' : 'none';\n",
              "\n",
              "        async function convertToInteractive(key) {\n",
              "          const element = document.querySelector('#df-d1a186e3-49b3-42b0-9e71-c48d37953236');\n",
              "          const dataTable =\n",
              "            await google.colab.kernel.invokeFunction('convertToInteractive',\n",
              "                                                     [key], {});\n",
              "          if (!dataTable) return;\n",
              "\n",
              "          const docLinkHtml = 'Like what you see? Visit the ' +\n",
              "            '<a target=\"_blank\" href=https://colab.research.google.com/notebooks/data_table.ipynb>data table notebook</a>'\n",
              "            + ' to learn more about interactive tables.';\n",
              "          element.innerHTML = '';\n",
              "          dataTable['output_type'] = 'display_data';\n",
              "          await google.colab.output.renderOutput(dataTable, element);\n",
              "          const docLink = document.createElement('div');\n",
              "          docLink.innerHTML = docLinkHtml;\n",
              "          element.appendChild(docLink);\n",
              "        }\n",
              "      </script>\n",
              "    </div>\n",
              "  </div>\n",
              "  "
            ]
          },
          "metadata": {},
          "execution_count": 9
        }
      ]
    },
    {
      "cell_type": "markdown",
      "source": [
        "## 2.2 \n",
        "\n",
        "- Maybe there are some steps to deal with dataframe data between saving and loading, such as remove the unnamed 0 column. \n",
        "- Of course, it could provide the movie url to scrape the movie's detail info.\n",
        "- The most important is that we don't need to scrape those data any more in future."
      ],
      "metadata": {
        "id": "dHQIfHDWJsxP"
      }
    },
    {
      "cell_type": "markdown",
      "source": [
        "## 2.3 Scrape the movies information\n",
        "\n",
        "### 2.3.1 Scrape basic information (8')\n",
        "Please scrape the following information for each movie in the list:\n",
        "- Title\n",
        "- IMDb rating\n",
        "- Popularity score\n",
        "- Genres\n",
        "- Release year\n",
        "- Duration\n",
        "- Storyline\n",
        "- Box office\n",
        "\n",
        "### 2.3.2 Scrape additional information (3')\n",
        "Scrape additional details, technical specs, etc. You may need them for your analysis."
      ],
      "metadata": {
        "id": "Z9jYqTa4Jz2z"
      }
    },
    {
      "cell_type": "code",
      "source": [
        "# query value by unique key\n",
        "def find(target, dictData, notFound='not found'):\n",
        "    queue = [dictData]\n",
        "    s = ''\n",
        "    while len(queue) > 0:\n",
        "        data = queue.pop()\n",
        "        for key, value in data.items():\n",
        "            if key.lower() == target: \n",
        "                return value\n",
        "            elif type(value) == dict: queue.append(value)\n",
        "    return notFound\n",
        "\n",
        "# includes more one key\n",
        "def findAll(target, dictData, notFound=[]):\n",
        "    queue = [dictData]\n",
        "    result = []\n",
        "    while len(queue) > 0:\n",
        "        data = queue.pop()\n",
        "        for key, value in data.items():\n",
        "            if key.lower() == target: result.append(value)\n",
        "            elif type(value) == dict: queue.append(value)\n",
        "    if not result: result = notFound\n",
        "    return result\n",
        "\n",
        "# includes several same keys\n",
        "def findValueAll(target, dictData, notFound=[]):\n",
        "    queue = [dictData]\n",
        "    result = []\n",
        "    while len(queue) > 0:\n",
        "        data = queue.pop()\n",
        "        for key, value in data.items():\n",
        "            if value == target: result.append(data)\n",
        "            elif type(value) == dict: queue.append(value)\n",
        "    if not result: result = notFound\n",
        "    return result"
      ],
      "metadata": {
        "id": "uJhvlqKTKrnO"
      },
      "execution_count": 10,
      "outputs": []
    },
    {
      "cell_type": "code",
      "source": [
        "# imdb_movie_columns = ['Title','IMDb rating','Popularity score','Genres','Release year','Duration','Storyline','Box office', 'aspect ratio']\n",
        "imdb_movie_columns = ['title','rating','score','genres','year','duration','storyLine','boxOffice', 'aspectRatio']\n",
        "imdb_movie_columns\n",
        "\n",
        "imdb_movies_d = {k: [] for k in imdb_movie_columns}\n",
        "\n",
        "\n",
        "for i, movie in movie_list.iterrows():\n",
        "    item = []\n",
        "    #print(movie.title)\n",
        "    #raise Exception(\"debug\")\n",
        "    res = requests.get(movie.url, headers={'User-Agent': uae.chrome})\n",
        "    soup = BeautifulSoup(res.text, 'html.parser')\n",
        "    \n",
        "    script1 = soup.find(type='application/ld+json').string\n",
        "    j_script1 = json.loads(script1)\n",
        "    script2 = soup.find(id=\"__NEXT_DATA__\").string    \n",
        "    j_script2 = json.loads(script2)\n",
        "    \n",
        "    # Title\n",
        "    item.append(movie.title)\n",
        "    # rating\n",
        "    item.append(j_script2['props']['pageProps']['aboveTheFoldData']['ratingsSummary']['aggregateRating'])\n",
        "    # popularity score\n",
        "    item.append(j_script2['props']['pageProps']['aboveTheFoldData']['meterRanking']['currentRank'])\n",
        "    # genres\n",
        "    item.append([_['text'] for _ in j_script2['props']['pageProps']['aboveTheFoldData']['genres']['genres']])\n",
        "    # release year\n",
        "    item.append(movie.year)\n",
        "    # duration\n",
        "    item.append(j_script1['duration'])\n",
        "    # story line\n",
        "    item.append(j_script1['description'])\n",
        "    # box office gross\n",
        "    # boxoffice = findValueAll('BoxOfficeGross', data2)]\n",
        "    try:\n",
        "        item.append(find('worldwidegross', j_script2)['total']['amount'])\n",
        "    except:\n",
        "        item.append('')\n",
        "    # aspect ratio technical spec\n",
        "    try:\n",
        "        item.append(find('aspectratios', j_script2['props'])['items'][0]['aspectRatio'].replace(' ', ''))\n",
        "    except:\n",
        "        item.append('')\n",
        "    with open('imdb_movies_buff.txt', 'a+', encoding='utf-8') as f:\n",
        "        line = '|'.join([str(_) for _ in item]) + '\\n'\n",
        "        f.write(line)\n",
        "    print(f'scrape movie count: {i}, movie url: {movie.url}')"
      ],
      "metadata": {
        "id": "tnWw6wutKIxJ",
        "colab": {
          "base_uri": "https://localhost:8080/",
          "height": 1000
        },
        "outputId": "8f489a0b-b85b-4315-f1fd-54cf2856109e"
      },
      "execution_count": 11,
      "outputs": [
        {
          "output_type": "stream",
          "name": "stdout",
          "text": [
            "scrape movie count: 0, movie url: https://www.imdb.com/title/tt0111161/?ref_=adv_li_tt\n",
            "scrape movie count: 1, movie url: https://www.imdb.com/title/tt0038650/?ref_=adv_li_tt\n",
            "scrape movie count: 2, movie url: https://www.imdb.com/title/tt9198364/?ref_=adv_li_tt\n",
            "scrape movie count: 3, movie url: https://www.imdb.com/title/tt0120663/?ref_=adv_li_tt\n",
            "scrape movie count: 4, movie url: https://www.imdb.com/title/tt7144666/?ref_=adv_li_tt\n",
            "scrape movie count: 5, movie url: https://www.imdb.com/title/tt0085995/?ref_=adv_li_tt\n",
            "scrape movie count: 6, movie url: https://www.imdb.com/title/tt9783600/?ref_=adv_li_tt\n",
            "scrape movie count: 7, movie url: https://www.imdb.com/title/tt0388795/?ref_=adv_li_tt\n",
            "scrape movie count: 8, movie url: https://www.imdb.com/title/tt0062622/?ref_=adv_li_tt\n",
            "scrape movie count: 9, movie url: https://www.imdb.com/title/tt2543164/?ref_=adv_li_tt\n",
            "scrape movie count: 10, movie url: https://www.imdb.com/title/tt0209144/?ref_=adv_li_tt\n",
            "scrape movie count: 11, movie url: https://www.imdb.com/title/tt0274812/?ref_=adv_li_tt\n",
            "scrape movie count: 12, movie url: https://www.imdb.com/title/tt0084787/?ref_=adv_li_tt\n",
            "scrape movie count: 13, movie url: https://www.imdb.com/title/tt0884328/?ref_=adv_li_tt\n",
            "scrape movie count: 14, movie url: https://www.imdb.com/title/tt12908110/?ref_=adv_li_tt\n",
            "scrape movie count: 15, movie url: https://www.imdb.com/title/tt0162661/?ref_=adv_li_tt\n",
            "scrape movie count: 16, movie url: https://www.imdb.com/title/tt0038669/?ref_=adv_li_tt\n",
            "scrape movie count: 17, movie url: https://www.imdb.com/title/tt0031971/?ref_=adv_li_tt\n",
            "scrape movie count: 18, movie url: https://www.imdb.com/title/tt0421715/?ref_=adv_li_tt\n",
            "scrape movie count: 19, movie url: https://www.imdb.com/title/tt0181689/?ref_=adv_li_tt\n",
            "scrape movie count: 20, movie url: https://www.imdb.com/title/tt0100802/?ref_=adv_li_tt\n",
            "scrape movie count: 21, movie url: https://www.imdb.com/title/tt2397535/?ref_=adv_li_tt\n",
            "scrape movie count: 22, movie url: https://www.imdb.com/title/tt0359950/?ref_=adv_li_tt\n",
            "scrape movie count: 23, movie url: https://www.imdb.com/title/tt0096256/?ref_=adv_li_tt\n",
            "scrape movie count: 24, movie url: https://www.imdb.com/title/tt14039582/?ref_=adv_li_tt\n",
            "scrape movie count: 25, movie url: https://www.imdb.com/title/tt0381849/?ref_=adv_li_tt\n",
            "scrape movie count: 26, movie url: https://www.imdb.com/title/tt0097757/?ref_=adv_li_tt\n",
            "scrape movie count: 27, movie url: https://www.imdb.com/title/tt0212720/?ref_=adv_li_tt\n",
            "scrape movie count: 28, movie url: https://www.imdb.com/title/tt0047396/?ref_=adv_li_tt\n",
            "scrape movie count: 29, movie url: https://www.imdb.com/title/tt0405159/?ref_=adv_li_tt\n",
            "scrape movie count: 30, movie url: https://www.imdb.com/title/tt1028532/?ref_=adv_li_tt\n",
            "scrape movie count: 31, movie url: https://www.imdb.com/title/tt3278330/?ref_=adv_li_tt\n",
            "scrape movie count: 32, movie url: https://www.imdb.com/title/tt0256103/?ref_=adv_li_tt\n",
            "scrape movie count: 33, movie url: https://www.imdb.com/title/tt7282468/?ref_=adv_li_tt\n",
            "scrape movie count: 34, movie url: https://www.imdb.com/title/tt0433035/?ref_=adv_li_tt\n",
            "scrape movie count: 35, movie url: https://www.imdb.com/title/tt1386703/?ref_=adv_li_tt\n",
            "scrape movie count: 36, movie url: https://www.imdb.com/title/tt0056869/?ref_=adv_li_tt\n",
            "scrape movie count: 37, movie url: https://www.imdb.com/title/tt0450385/?ref_=adv_li_tt\n",
            "scrape movie count: 38, movie url: https://www.imdb.com/title/tt6214928/?ref_=adv_li_tt\n",
            "scrape movie count: 39, movie url: https://www.imdb.com/title/tt1385826/?ref_=adv_li_tt\n",
            "scrape movie count: 40, movie url: https://www.imdb.com/title/tt0443543/?ref_=adv_li_tt\n",
            "scrape movie count: 41, movie url: https://www.imdb.com/title/tt0086034/?ref_=adv_li_tt\n",
            "scrape movie count: 42, movie url: https://www.imdb.com/title/tt5073642/?ref_=adv_li_tt\n",
            "scrape movie count: 43, movie url: https://www.imdb.com/title/tt0090264/?ref_=adv_li_tt\n",
            "scrape movie count: 44, movie url: https://www.imdb.com/title/tt0093428/?ref_=adv_li_tt\n",
            "scrape movie count: 45, movie url: https://www.imdb.com/title/tt0069995/?ref_=adv_li_tt\n",
            "scrape movie count: 46, movie url: https://www.imdb.com/title/tt0905372/?ref_=adv_li_tt\n",
            "scrape movie count: 47, movie url: https://www.imdb.com/title/tt0073631/?ref_=adv_li_tt\n",
            "scrape movie count: 48, movie url: https://www.imdb.com/title/tt0452625/?ref_=adv_li_tt\n",
            "scrape movie count: 49, movie url: https://www.imdb.com/title/tt0408839/?ref_=adv_li_tt\n",
            "scrape movie count: 50, movie url: https://www.imdb.com/title/tt5501104/?ref_=adv_li_tt\n",
            "scrape movie count: 51, movie url: https://www.imdb.com/title/tt0022913/?ref_=adv_li_tt\n",
            "scrape movie count: 52, movie url: https://www.imdb.com/title/tt1601913/?ref_=adv_li_tt\n",
            "scrape movie count: 53, movie url: https://www.imdb.com/title/tt0060176/?ref_=adv_li_tt\n",
            "scrape movie count: 54, movie url: https://www.imdb.com/title/tt0103919/?ref_=adv_li_tt\n",
            "scrape movie count: 55, movie url: https://www.imdb.com/title/tt0435705/?ref_=adv_li_tt\n",
            "scrape movie count: 56, movie url: https://www.imdb.com/title/tt0087050/?ref_=adv_li_tt\n",
            "scrape movie count: 57, movie url: https://www.imdb.com/title/tt1600196/?ref_=adv_li_tt\n",
            "scrape movie count: 58, movie url: https://www.imdb.com/title/tt0889573/?ref_=adv_li_tt\n",
            "scrape movie count: 59, movie url: https://www.imdb.com/title/tt0119675/?ref_=adv_li_tt\n",
            "scrape movie count: 60, movie url: https://www.imdb.com/title/tt0042192/?ref_=adv_li_tt\n",
            "scrape movie count: 61, movie url: https://www.imdb.com/title/tt0182789/?ref_=adv_li_tt\n",
            "scrape movie count: 62, movie url: https://www.imdb.com/title/tt0089885/?ref_=adv_li_tt\n",
            "scrape movie count: 63, movie url: https://www.imdb.com/title/tt0113481/?ref_=adv_li_tt\n",
            "scrape movie count: 64, movie url: https://www.imdb.com/title/tt0045061/?ref_=adv_li_tt\n",
            "scrape movie count: 65, movie url: https://www.imdb.com/title/tt0047472/?ref_=adv_li_tt\n",
            "scrape movie count: 66, movie url: https://www.imdb.com/title/tt0042876/?ref_=adv_li_tt\n",
            "scrape movie count: 67, movie url: https://www.imdb.com/title/tt0100740/?ref_=adv_li_tt\n",
            "scrape movie count: 68, movie url: https://www.imdb.com/title/tt0101428/?ref_=adv_li_tt\n",
            "scrape movie count: 69, movie url: https://www.imdb.com/title/tt0063663/?ref_=adv_li_tt\n",
            "scrape movie count: 70, movie url: https://www.imdb.com/title/tt0104692/?ref_=adv_li_tt\n",
            "scrape movie count: 71, movie url: https://www.imdb.com/title/tt0044121/?ref_=adv_li_tt\n"
          ]
        },
        {
          "output_type": "error",
          "ename": "TypeError",
          "evalue": "ignored",
          "traceback": [
            "\u001b[0;31m---------------------------------------------------------------------------\u001b[0m",
            "\u001b[0;31mTypeError\u001b[0m                                 Traceback (most recent call last)",
            "\u001b[0;32m<ipython-input-11-e0aac1a023a7>\u001b[0m in \u001b[0;36m<module>\u001b[0;34m\u001b[0m\n\u001b[1;32m     23\u001b[0m     \u001b[0mitem\u001b[0m\u001b[0;34m.\u001b[0m\u001b[0mappend\u001b[0m\u001b[0;34m(\u001b[0m\u001b[0mj_script2\u001b[0m\u001b[0;34m[\u001b[0m\u001b[0;34m'props'\u001b[0m\u001b[0;34m]\u001b[0m\u001b[0;34m[\u001b[0m\u001b[0;34m'pageProps'\u001b[0m\u001b[0;34m]\u001b[0m\u001b[0;34m[\u001b[0m\u001b[0;34m'aboveTheFoldData'\u001b[0m\u001b[0;34m]\u001b[0m\u001b[0;34m[\u001b[0m\u001b[0;34m'ratingsSummary'\u001b[0m\u001b[0;34m]\u001b[0m\u001b[0;34m[\u001b[0m\u001b[0;34m'aggregateRating'\u001b[0m\u001b[0;34m]\u001b[0m\u001b[0;34m)\u001b[0m\u001b[0;34m\u001b[0m\u001b[0;34m\u001b[0m\u001b[0m\n\u001b[1;32m     24\u001b[0m     \u001b[0;31m# popularity score\u001b[0m\u001b[0;34m\u001b[0m\u001b[0;34m\u001b[0m\u001b[0;34m\u001b[0m\u001b[0m\n\u001b[0;32m---> 25\u001b[0;31m     \u001b[0mitem\u001b[0m\u001b[0;34m.\u001b[0m\u001b[0mappend\u001b[0m\u001b[0;34m(\u001b[0m\u001b[0mj_script2\u001b[0m\u001b[0;34m[\u001b[0m\u001b[0;34m'props'\u001b[0m\u001b[0;34m]\u001b[0m\u001b[0;34m[\u001b[0m\u001b[0;34m'pageProps'\u001b[0m\u001b[0;34m]\u001b[0m\u001b[0;34m[\u001b[0m\u001b[0;34m'aboveTheFoldData'\u001b[0m\u001b[0;34m]\u001b[0m\u001b[0;34m[\u001b[0m\u001b[0;34m'meterRanking'\u001b[0m\u001b[0;34m]\u001b[0m\u001b[0;34m[\u001b[0m\u001b[0;34m'currentRank'\u001b[0m\u001b[0;34m]\u001b[0m\u001b[0;34m)\u001b[0m\u001b[0;34m\u001b[0m\u001b[0;34m\u001b[0m\u001b[0m\n\u001b[0m\u001b[1;32m     26\u001b[0m     \u001b[0;31m# genres\u001b[0m\u001b[0;34m\u001b[0m\u001b[0;34m\u001b[0m\u001b[0;34m\u001b[0m\u001b[0m\n\u001b[1;32m     27\u001b[0m     \u001b[0mitem\u001b[0m\u001b[0;34m.\u001b[0m\u001b[0mappend\u001b[0m\u001b[0;34m(\u001b[0m\u001b[0;34m[\u001b[0m\u001b[0m_\u001b[0m\u001b[0;34m[\u001b[0m\u001b[0;34m'text'\u001b[0m\u001b[0;34m]\u001b[0m \u001b[0;32mfor\u001b[0m \u001b[0m_\u001b[0m \u001b[0;32min\u001b[0m \u001b[0mj_script2\u001b[0m\u001b[0;34m[\u001b[0m\u001b[0;34m'props'\u001b[0m\u001b[0;34m]\u001b[0m\u001b[0;34m[\u001b[0m\u001b[0;34m'pageProps'\u001b[0m\u001b[0;34m]\u001b[0m\u001b[0;34m[\u001b[0m\u001b[0;34m'aboveTheFoldData'\u001b[0m\u001b[0;34m]\u001b[0m\u001b[0;34m[\u001b[0m\u001b[0;34m'genres'\u001b[0m\u001b[0;34m]\u001b[0m\u001b[0;34m[\u001b[0m\u001b[0;34m'genres'\u001b[0m\u001b[0;34m]\u001b[0m\u001b[0;34m]\u001b[0m\u001b[0;34m)\u001b[0m\u001b[0;34m\u001b[0m\u001b[0;34m\u001b[0m\u001b[0m\n",
            "\u001b[0;31mTypeError\u001b[0m: 'NoneType' object is not subscriptable"
          ]
        }
      ]
    },
    {
      "cell_type": "code",
      "source": [
        "imdb_movies = pd.read_csv('imdb_movies_buff.txt', sep='|', header=None)\n",
        "imdb_movies.columns = imdb_movie_columns\n",
        "imdb_movies.head()"
      ],
      "metadata": {
        "id": "6tPDFwX6K2Nj",
        "colab": {
          "base_uri": "https://localhost:8080/",
          "height": 337
        },
        "outputId": "7f28ef6b-78fa-4af1-e36c-42efc9d33980"
      },
      "execution_count": 12,
      "outputs": [
        {
          "output_type": "execute_result",
          "data": {
            "text/plain": [
              "                             title  rating  score  \\\n",
              "0         The Shawshank Redemption     9.3     97   \n",
              "1            It's a Wonderful Life     8.6    134   \n",
              "2  Three Thousand Years of Longing     6.7    202   \n",
              "3                   Eyes Wide Shut     7.5    206   \n",
              "4                  The Black Phone     6.9    207   \n",
              "\n",
              "                                      genres  year duration  \\\n",
              "0                                  ['Drama']  1994  PT2H22M   \n",
              "1  ['Drama', 'Family', 'Fantasy', 'Romance']  1946  PT2H10M   \n",
              "2            ['Drama', 'Fantasy', 'Romance']  2022  PT1H48M   \n",
              "3           ['Drama', 'Mystery', 'Thriller']  1999  PT2H39M   \n",
              "4                     ['Horror', 'Thriller']  2021  PT1H43M   \n",
              "\n",
              "                                           storyLine    boxOffice aspectRatio  \n",
              "0  Two imprisoned men bond over a number of years...   28884504.0      1.85:1  \n",
              "1  An angel is sent from Heaven to help a despera...    6184298.0      1.37:1  \n",
              "2  A lonely scholar, on a trip to Istanbul, disco...   19223063.0      2.39:1  \n",
              "3  A Manhattan doctor embarks on a bizarre, night...  162242684.0         NaN  \n",
              "4  After being abducted by a child killer and loc...  161204742.0      2.39:1  "
            ],
            "text/html": [
              "\n",
              "  <div id=\"df-ae5de3e7-0860-49dd-a77f-73ac4241fab7\">\n",
              "    <div class=\"colab-df-container\">\n",
              "      <div>\n",
              "<style scoped>\n",
              "    .dataframe tbody tr th:only-of-type {\n",
              "        vertical-align: middle;\n",
              "    }\n",
              "\n",
              "    .dataframe tbody tr th {\n",
              "        vertical-align: top;\n",
              "    }\n",
              "\n",
              "    .dataframe thead th {\n",
              "        text-align: right;\n",
              "    }\n",
              "</style>\n",
              "<table border=\"1\" class=\"dataframe\">\n",
              "  <thead>\n",
              "    <tr style=\"text-align: right;\">\n",
              "      <th></th>\n",
              "      <th>title</th>\n",
              "      <th>rating</th>\n",
              "      <th>score</th>\n",
              "      <th>genres</th>\n",
              "      <th>year</th>\n",
              "      <th>duration</th>\n",
              "      <th>storyLine</th>\n",
              "      <th>boxOffice</th>\n",
              "      <th>aspectRatio</th>\n",
              "    </tr>\n",
              "  </thead>\n",
              "  <tbody>\n",
              "    <tr>\n",
              "      <th>0</th>\n",
              "      <td>The Shawshank Redemption</td>\n",
              "      <td>9.3</td>\n",
              "      <td>97</td>\n",
              "      <td>['Drama']</td>\n",
              "      <td>1994</td>\n",
              "      <td>PT2H22M</td>\n",
              "      <td>Two imprisoned men bond over a number of years...</td>\n",
              "      <td>28884504.0</td>\n",
              "      <td>1.85:1</td>\n",
              "    </tr>\n",
              "    <tr>\n",
              "      <th>1</th>\n",
              "      <td>It's a Wonderful Life</td>\n",
              "      <td>8.6</td>\n",
              "      <td>134</td>\n",
              "      <td>['Drama', 'Family', 'Fantasy', 'Romance']</td>\n",
              "      <td>1946</td>\n",
              "      <td>PT2H10M</td>\n",
              "      <td>An angel is sent from Heaven to help a despera...</td>\n",
              "      <td>6184298.0</td>\n",
              "      <td>1.37:1</td>\n",
              "    </tr>\n",
              "    <tr>\n",
              "      <th>2</th>\n",
              "      <td>Three Thousand Years of Longing</td>\n",
              "      <td>6.7</td>\n",
              "      <td>202</td>\n",
              "      <td>['Drama', 'Fantasy', 'Romance']</td>\n",
              "      <td>2022</td>\n",
              "      <td>PT1H48M</td>\n",
              "      <td>A lonely scholar, on a trip to Istanbul, disco...</td>\n",
              "      <td>19223063.0</td>\n",
              "      <td>2.39:1</td>\n",
              "    </tr>\n",
              "    <tr>\n",
              "      <th>3</th>\n",
              "      <td>Eyes Wide Shut</td>\n",
              "      <td>7.5</td>\n",
              "      <td>206</td>\n",
              "      <td>['Drama', 'Mystery', 'Thriller']</td>\n",
              "      <td>1999</td>\n",
              "      <td>PT2H39M</td>\n",
              "      <td>A Manhattan doctor embarks on a bizarre, night...</td>\n",
              "      <td>162242684.0</td>\n",
              "      <td>NaN</td>\n",
              "    </tr>\n",
              "    <tr>\n",
              "      <th>4</th>\n",
              "      <td>The Black Phone</td>\n",
              "      <td>6.9</td>\n",
              "      <td>207</td>\n",
              "      <td>['Horror', 'Thriller']</td>\n",
              "      <td>2021</td>\n",
              "      <td>PT1H43M</td>\n",
              "      <td>After being abducted by a child killer and loc...</td>\n",
              "      <td>161204742.0</td>\n",
              "      <td>2.39:1</td>\n",
              "    </tr>\n",
              "  </tbody>\n",
              "</table>\n",
              "</div>\n",
              "      <button class=\"colab-df-convert\" onclick=\"convertToInteractive('df-ae5de3e7-0860-49dd-a77f-73ac4241fab7')\"\n",
              "              title=\"Convert this dataframe to an interactive table.\"\n",
              "              style=\"display:none;\">\n",
              "        \n",
              "  <svg xmlns=\"http://www.w3.org/2000/svg\" height=\"24px\"viewBox=\"0 0 24 24\"\n",
              "       width=\"24px\">\n",
              "    <path d=\"M0 0h24v24H0V0z\" fill=\"none\"/>\n",
              "    <path d=\"M18.56 5.44l.94 2.06.94-2.06 2.06-.94-2.06-.94-.94-2.06-.94 2.06-2.06.94zm-11 1L8.5 8.5l.94-2.06 2.06-.94-2.06-.94L8.5 2.5l-.94 2.06-2.06.94zm10 10l.94 2.06.94-2.06 2.06-.94-2.06-.94-.94-2.06-.94 2.06-2.06.94z\"/><path d=\"M17.41 7.96l-1.37-1.37c-.4-.4-.92-.59-1.43-.59-.52 0-1.04.2-1.43.59L10.3 9.45l-7.72 7.72c-.78.78-.78 2.05 0 2.83L4 21.41c.39.39.9.59 1.41.59.51 0 1.02-.2 1.41-.59l7.78-7.78 2.81-2.81c.8-.78.8-2.07 0-2.86zM5.41 20L4 18.59l7.72-7.72 1.47 1.35L5.41 20z\"/>\n",
              "  </svg>\n",
              "      </button>\n",
              "      \n",
              "  <style>\n",
              "    .colab-df-container {\n",
              "      display:flex;\n",
              "      flex-wrap:wrap;\n",
              "      gap: 12px;\n",
              "    }\n",
              "\n",
              "    .colab-df-convert {\n",
              "      background-color: #E8F0FE;\n",
              "      border: none;\n",
              "      border-radius: 50%;\n",
              "      cursor: pointer;\n",
              "      display: none;\n",
              "      fill: #1967D2;\n",
              "      height: 32px;\n",
              "      padding: 0 0 0 0;\n",
              "      width: 32px;\n",
              "    }\n",
              "\n",
              "    .colab-df-convert:hover {\n",
              "      background-color: #E2EBFA;\n",
              "      box-shadow: 0px 1px 2px rgba(60, 64, 67, 0.3), 0px 1px 3px 1px rgba(60, 64, 67, 0.15);\n",
              "      fill: #174EA6;\n",
              "    }\n",
              "\n",
              "    [theme=dark] .colab-df-convert {\n",
              "      background-color: #3B4455;\n",
              "      fill: #D2E3FC;\n",
              "    }\n",
              "\n",
              "    [theme=dark] .colab-df-convert:hover {\n",
              "      background-color: #434B5C;\n",
              "      box-shadow: 0px 1px 3px 1px rgba(0, 0, 0, 0.15);\n",
              "      filter: drop-shadow(0px 1px 2px rgba(0, 0, 0, 0.3));\n",
              "      fill: #FFFFFF;\n",
              "    }\n",
              "  </style>\n",
              "\n",
              "      <script>\n",
              "        const buttonEl =\n",
              "          document.querySelector('#df-ae5de3e7-0860-49dd-a77f-73ac4241fab7 button.colab-df-convert');\n",
              "        buttonEl.style.display =\n",
              "          google.colab.kernel.accessAllowed ? 'block' : 'none';\n",
              "\n",
              "        async function convertToInteractive(key) {\n",
              "          const element = document.querySelector('#df-ae5de3e7-0860-49dd-a77f-73ac4241fab7');\n",
              "          const dataTable =\n",
              "            await google.colab.kernel.invokeFunction('convertToInteractive',\n",
              "                                                     [key], {});\n",
              "          if (!dataTable) return;\n",
              "\n",
              "          const docLinkHtml = 'Like what you see? Visit the ' +\n",
              "            '<a target=\"_blank\" href=https://colab.research.google.com/notebooks/data_table.ipynb>data table notebook</a>'\n",
              "            + ' to learn more about interactive tables.';\n",
              "          element.innerHTML = '';\n",
              "          dataTable['output_type'] = 'display_data';\n",
              "          await google.colab.output.renderOutput(dataTable, element);\n",
              "          const docLink = document.createElement('div');\n",
              "          docLink.innerHTML = docLinkHtml;\n",
              "          element.appendChild(docLink);\n",
              "        }\n",
              "      </script>\n",
              "    </div>\n",
              "  </div>\n",
              "  "
            ]
          },
          "metadata": {},
          "execution_count": 12
        }
      ]
    },
    {
      "cell_type": "code",
      "source": [
        "imdb_movies.to_csv('imdb_movies.csv', encoding='utf-8')"
      ],
      "metadata": {
        "id": "QD6WA5YmK4rO"
      },
      "execution_count": 13,
      "outputs": []
    },
    {
      "cell_type": "markdown",
      "source": [
        "## 2.3.3 Scrape cast information (3')"
      ],
      "metadata": {
        "id": "QX-S5ci0K-70"
      }
    },
    {
      "cell_type": "code",
      "source": [
        "cast_ut = 'https://www.imdb.com/title/{}/fullcredits/?ref_=tt_cl_sm'\n",
        "columns = ['title', 'directors', 'cast', 'role']\n",
        "\n",
        "def deal_one_multiple(selector, target):\n",
        "    '''solved one corresponds to several'''\n",
        "    data = []\n",
        "    for _ in soup.select(selector):\n",
        "        nodes = _.select(target)\n",
        "        if len(nodes)==1:\n",
        "            each = nodes[0].string.strip()\n",
        "        else:\n",
        "            each = [node.string.strip() for node in nodes]\n",
        "        data.append(each)\n",
        "    return data\n",
        "\n",
        "def write_batch_to_file(title, directors, casts, roles):\n",
        "    with open('cast_buff.txt', 'a+', encoding='utf-8') as f:\n",
        "        for i, cast in enumerate(casts):\n",
        "            line = '|'.join([title, str(directors), cast, str(roles[i])]) + '\\n'\n",
        "            f.write(line)\n",
        "            \n",
        "\n",
        "for i, movie in movie_list[['title', 'url']].iterrows():\n",
        "    mid = re.search('(tt\\d+)', movie.url).group(1)\n",
        "    response = requests.get(cast_ut.format(mid), headers={'User-Agent': uae.chrome})\n",
        "    soup = BeautifulSoup(response.text, 'html.parser')\n",
        "    \n",
        "    casts = [_.find_next_sibling().a.string.strip() for _ in soup.select('table.cast_list tr td.primary_photo')]\n",
        "\n",
        "    # one cast to multiple roles\n",
        "    roles = deal_one_multiple('table.cast_list tr td.character', 'a')\n",
        "\n",
        "    # l1 = len(casts)\n",
        "    # l2 = len(imdb_cast_d['role'])\n",
        "    # titles.extend([movie.title for _ in range(l1)])\n",
        "    directors = deal_one_multiple('#fullcredits_content > table:nth-of-type(1) > tbody > tr > td.name', 'a')\n",
        "    \n",
        "    # write file, reduce the program executation memory\n",
        "    write_batch_to_file(movie.title, directors, casts, roles)\n",
        "\n",
        "    print(f'scrape movie count: {i}, movie url: {cast_ut.format(mid)}')"
      ],
      "metadata": {
        "id": "LP3k_M3dK_7R",
        "colab": {
          "base_uri": "https://localhost:8080/"
        },
        "outputId": "f5b7feff-fc01-4625-f57e-fc8de174ffd3"
      },
      "execution_count": 14,
      "outputs": [
        {
          "output_type": "stream",
          "name": "stdout",
          "text": [
            "scrape movie count: 0, movie url: https://www.imdb.com/title/tt0111161/fullcredits/?ref_=tt_cl_sm\n",
            "scrape movie count: 1, movie url: https://www.imdb.com/title/tt0038650/fullcredits/?ref_=tt_cl_sm\n",
            "scrape movie count: 2, movie url: https://www.imdb.com/title/tt9198364/fullcredits/?ref_=tt_cl_sm\n",
            "scrape movie count: 3, movie url: https://www.imdb.com/title/tt0120663/fullcredits/?ref_=tt_cl_sm\n",
            "scrape movie count: 4, movie url: https://www.imdb.com/title/tt7144666/fullcredits/?ref_=tt_cl_sm\n",
            "scrape movie count: 5, movie url: https://www.imdb.com/title/tt0085995/fullcredits/?ref_=tt_cl_sm\n",
            "scrape movie count: 6, movie url: https://www.imdb.com/title/tt9783600/fullcredits/?ref_=tt_cl_sm\n",
            "scrape movie count: 7, movie url: https://www.imdb.com/title/tt0388795/fullcredits/?ref_=tt_cl_sm\n",
            "scrape movie count: 8, movie url: https://www.imdb.com/title/tt0062622/fullcredits/?ref_=tt_cl_sm\n",
            "scrape movie count: 9, movie url: https://www.imdb.com/title/tt2543164/fullcredits/?ref_=tt_cl_sm\n",
            "scrape movie count: 10, movie url: https://www.imdb.com/title/tt0209144/fullcredits/?ref_=tt_cl_sm\n",
            "scrape movie count: 11, movie url: https://www.imdb.com/title/tt0274812/fullcredits/?ref_=tt_cl_sm\n",
            "scrape movie count: 12, movie url: https://www.imdb.com/title/tt0084787/fullcredits/?ref_=tt_cl_sm\n",
            "scrape movie count: 13, movie url: https://www.imdb.com/title/tt0884328/fullcredits/?ref_=tt_cl_sm\n",
            "scrape movie count: 14, movie url: https://www.imdb.com/title/tt12908110/fullcredits/?ref_=tt_cl_sm\n",
            "scrape movie count: 15, movie url: https://www.imdb.com/title/tt0162661/fullcredits/?ref_=tt_cl_sm\n",
            "scrape movie count: 16, movie url: https://www.imdb.com/title/tt0038669/fullcredits/?ref_=tt_cl_sm\n",
            "scrape movie count: 17, movie url: https://www.imdb.com/title/tt0031971/fullcredits/?ref_=tt_cl_sm\n",
            "scrape movie count: 18, movie url: https://www.imdb.com/title/tt0421715/fullcredits/?ref_=tt_cl_sm\n",
            "scrape movie count: 19, movie url: https://www.imdb.com/title/tt0181689/fullcredits/?ref_=tt_cl_sm\n",
            "scrape movie count: 20, movie url: https://www.imdb.com/title/tt0100802/fullcredits/?ref_=tt_cl_sm\n",
            "scrape movie count: 21, movie url: https://www.imdb.com/title/tt2397535/fullcredits/?ref_=tt_cl_sm\n",
            "scrape movie count: 22, movie url: https://www.imdb.com/title/tt0359950/fullcredits/?ref_=tt_cl_sm\n",
            "scrape movie count: 23, movie url: https://www.imdb.com/title/tt0096256/fullcredits/?ref_=tt_cl_sm\n",
            "scrape movie count: 24, movie url: https://www.imdb.com/title/tt14039582/fullcredits/?ref_=tt_cl_sm\n",
            "scrape movie count: 25, movie url: https://www.imdb.com/title/tt0381849/fullcredits/?ref_=tt_cl_sm\n",
            "scrape movie count: 26, movie url: https://www.imdb.com/title/tt0097757/fullcredits/?ref_=tt_cl_sm\n",
            "scrape movie count: 27, movie url: https://www.imdb.com/title/tt0212720/fullcredits/?ref_=tt_cl_sm\n",
            "scrape movie count: 28, movie url: https://www.imdb.com/title/tt0047396/fullcredits/?ref_=tt_cl_sm\n",
            "scrape movie count: 29, movie url: https://www.imdb.com/title/tt0405159/fullcredits/?ref_=tt_cl_sm\n",
            "scrape movie count: 30, movie url: https://www.imdb.com/title/tt1028532/fullcredits/?ref_=tt_cl_sm\n",
            "scrape movie count: 31, movie url: https://www.imdb.com/title/tt3278330/fullcredits/?ref_=tt_cl_sm\n",
            "scrape movie count: 32, movie url: https://www.imdb.com/title/tt0256103/fullcredits/?ref_=tt_cl_sm\n",
            "scrape movie count: 33, movie url: https://www.imdb.com/title/tt7282468/fullcredits/?ref_=tt_cl_sm\n",
            "scrape movie count: 34, movie url: https://www.imdb.com/title/tt0433035/fullcredits/?ref_=tt_cl_sm\n",
            "scrape movie count: 35, movie url: https://www.imdb.com/title/tt1386703/fullcredits/?ref_=tt_cl_sm\n",
            "scrape movie count: 36, movie url: https://www.imdb.com/title/tt0056869/fullcredits/?ref_=tt_cl_sm\n",
            "scrape movie count: 37, movie url: https://www.imdb.com/title/tt0450385/fullcredits/?ref_=tt_cl_sm\n",
            "scrape movie count: 38, movie url: https://www.imdb.com/title/tt6214928/fullcredits/?ref_=tt_cl_sm\n",
            "scrape movie count: 39, movie url: https://www.imdb.com/title/tt1385826/fullcredits/?ref_=tt_cl_sm\n",
            "scrape movie count: 40, movie url: https://www.imdb.com/title/tt0443543/fullcredits/?ref_=tt_cl_sm\n",
            "scrape movie count: 41, movie url: https://www.imdb.com/title/tt0086034/fullcredits/?ref_=tt_cl_sm\n",
            "scrape movie count: 42, movie url: https://www.imdb.com/title/tt5073642/fullcredits/?ref_=tt_cl_sm\n",
            "scrape movie count: 43, movie url: https://www.imdb.com/title/tt0090264/fullcredits/?ref_=tt_cl_sm\n",
            "scrape movie count: 44, movie url: https://www.imdb.com/title/tt0093428/fullcredits/?ref_=tt_cl_sm\n",
            "scrape movie count: 45, movie url: https://www.imdb.com/title/tt0069995/fullcredits/?ref_=tt_cl_sm\n",
            "scrape movie count: 46, movie url: https://www.imdb.com/title/tt0905372/fullcredits/?ref_=tt_cl_sm\n",
            "scrape movie count: 47, movie url: https://www.imdb.com/title/tt0073631/fullcredits/?ref_=tt_cl_sm\n",
            "scrape movie count: 48, movie url: https://www.imdb.com/title/tt0452625/fullcredits/?ref_=tt_cl_sm\n",
            "scrape movie count: 49, movie url: https://www.imdb.com/title/tt0408839/fullcredits/?ref_=tt_cl_sm\n",
            "scrape movie count: 50, movie url: https://www.imdb.com/title/tt5501104/fullcredits/?ref_=tt_cl_sm\n",
            "scrape movie count: 51, movie url: https://www.imdb.com/title/tt0022913/fullcredits/?ref_=tt_cl_sm\n",
            "scrape movie count: 52, movie url: https://www.imdb.com/title/tt1601913/fullcredits/?ref_=tt_cl_sm\n",
            "scrape movie count: 53, movie url: https://www.imdb.com/title/tt0060176/fullcredits/?ref_=tt_cl_sm\n",
            "scrape movie count: 54, movie url: https://www.imdb.com/title/tt0103919/fullcredits/?ref_=tt_cl_sm\n",
            "scrape movie count: 55, movie url: https://www.imdb.com/title/tt0435705/fullcredits/?ref_=tt_cl_sm\n",
            "scrape movie count: 56, movie url: https://www.imdb.com/title/tt0087050/fullcredits/?ref_=tt_cl_sm\n",
            "scrape movie count: 57, movie url: https://www.imdb.com/title/tt1600196/fullcredits/?ref_=tt_cl_sm\n",
            "scrape movie count: 58, movie url: https://www.imdb.com/title/tt0889573/fullcredits/?ref_=tt_cl_sm\n",
            "scrape movie count: 59, movie url: https://www.imdb.com/title/tt0119675/fullcredits/?ref_=tt_cl_sm\n",
            "scrape movie count: 60, movie url: https://www.imdb.com/title/tt0042192/fullcredits/?ref_=tt_cl_sm\n",
            "scrape movie count: 61, movie url: https://www.imdb.com/title/tt0182789/fullcredits/?ref_=tt_cl_sm\n",
            "scrape movie count: 62, movie url: https://www.imdb.com/title/tt0089885/fullcredits/?ref_=tt_cl_sm\n",
            "scrape movie count: 63, movie url: https://www.imdb.com/title/tt0113481/fullcredits/?ref_=tt_cl_sm\n",
            "scrape movie count: 64, movie url: https://www.imdb.com/title/tt0045061/fullcredits/?ref_=tt_cl_sm\n",
            "scrape movie count: 65, movie url: https://www.imdb.com/title/tt0047472/fullcredits/?ref_=tt_cl_sm\n",
            "scrape movie count: 66, movie url: https://www.imdb.com/title/tt0042876/fullcredits/?ref_=tt_cl_sm\n",
            "scrape movie count: 67, movie url: https://www.imdb.com/title/tt0100740/fullcredits/?ref_=tt_cl_sm\n",
            "scrape movie count: 68, movie url: https://www.imdb.com/title/tt0101428/fullcredits/?ref_=tt_cl_sm\n",
            "scrape movie count: 69, movie url: https://www.imdb.com/title/tt0063663/fullcredits/?ref_=tt_cl_sm\n",
            "scrape movie count: 70, movie url: https://www.imdb.com/title/tt0104692/fullcredits/?ref_=tt_cl_sm\n",
            "scrape movie count: 71, movie url: https://www.imdb.com/title/tt0044121/fullcredits/?ref_=tt_cl_sm\n",
            "scrape movie count: 72, movie url: https://www.imdb.com/title/tt2053425/fullcredits/?ref_=tt_cl_sm\n",
            "scrape movie count: 73, movie url: https://www.imdb.com/title/tt0048280/fullcredits/?ref_=tt_cl_sm\n",
            "scrape movie count: 74, movie url: https://www.imdb.com/title/tt0362478/fullcredits/?ref_=tt_cl_sm\n",
            "scrape movie count: 75, movie url: https://www.imdb.com/title/tt0075968/fullcredits/?ref_=tt_cl_sm\n",
            "scrape movie count: 76, movie url: https://www.imdb.com/title/tt3859310/fullcredits/?ref_=tt_cl_sm\n",
            "scrape movie count: 77, movie url: https://www.imdb.com/title/tt0087075/fullcredits/?ref_=tt_cl_sm\n",
            "scrape movie count: 78, movie url: https://www.imdb.com/title/tt13087796/fullcredits/?ref_=tt_cl_sm\n",
            "scrape movie count: 79, movie url: https://www.imdb.com/title/tt0070832/fullcredits/?ref_=tt_cl_sm\n",
            "scrape movie count: 80, movie url: https://www.imdb.com/title/tt0091499/fullcredits/?ref_=tt_cl_sm\n",
            "scrape movie count: 81, movie url: https://www.imdb.com/title/tt0091083/fullcredits/?ref_=tt_cl_sm\n",
            "scrape movie count: 82, movie url: https://www.imdb.com/title/tt11080108/fullcredits/?ref_=tt_cl_sm\n",
            "scrape movie count: 83, movie url: https://www.imdb.com/title/tt0114367/fullcredits/?ref_=tt_cl_sm\n",
            "scrape movie count: 84, movie url: https://www.imdb.com/title/tt0108122/fullcredits/?ref_=tt_cl_sm\n",
            "scrape movie count: 85, movie url: https://www.imdb.com/title/tt0805570/fullcredits/?ref_=tt_cl_sm\n",
            "scrape movie count: 86, movie url: https://www.imdb.com/title/tt0055184/fullcredits/?ref_=tt_cl_sm\n",
            "scrape movie count: 87, movie url: https://www.imdb.com/title/tt0048140/fullcredits/?ref_=tt_cl_sm\n",
            "scrape movie count: 88, movie url: https://www.imdb.com/title/tt0382628/fullcredits/?ref_=tt_cl_sm\n",
            "scrape movie count: 89, movie url: https://www.imdb.com/title/tt0045883/fullcredits/?ref_=tt_cl_sm\n",
            "scrape movie count: 90, movie url: https://www.imdb.com/title/tt9738784/fullcredits/?ref_=tt_cl_sm\n",
            "scrape movie count: 91, movie url: https://www.imdb.com/title/tt0051622/fullcredits/?ref_=tt_cl_sm\n",
            "scrape movie count: 92, movie url: https://www.imdb.com/title/tt0112438/fullcredits/?ref_=tt_cl_sm\n",
            "scrape movie count: 93, movie url: https://www.imdb.com/title/tt0338337/fullcredits/?ref_=tt_cl_sm\n",
            "scrape movie count: 94, movie url: https://www.imdb.com/title/tt7798604/fullcredits/?ref_=tt_cl_sm\n",
            "scrape movie count: 95, movie url: https://www.imdb.com/title/tt0092603/fullcredits/?ref_=tt_cl_sm\n",
            "scrape movie count: 96, movie url: https://www.imdb.com/title/tt0281686/fullcredits/?ref_=tt_cl_sm\n",
            "scrape movie count: 97, movie url: https://www.imdb.com/title/tt1772264/fullcredits/?ref_=tt_cl_sm\n",
            "scrape movie count: 98, movie url: https://www.imdb.com/title/tt6874762/fullcredits/?ref_=tt_cl_sm\n",
            "scrape movie count: 99, movie url: https://www.imdb.com/title/tt0092796/fullcredits/?ref_=tt_cl_sm\n"
          ]
        }
      ]
    },
    {
      "cell_type": "code",
      "source": [
        "imdb_cast = pd.read_csv('cast_buff.txt', sep='|', header=None)\n",
        "imdb_cast.columns = ['title', 'directors', 'cast', 'role']\n",
        "# imdb_cast.head()\n",
        "imdb_cast.shape"
      ],
      "metadata": {
        "id": "-IYjT0tcLFM3",
        "colab": {
          "base_uri": "https://localhost:8080/"
        },
        "outputId": "7bfa453d-6cd3-4430-be8e-689cf0c8cdc7"
      },
      "execution_count": 15,
      "outputs": [
        {
          "output_type": "execute_result",
          "data": {
            "text/plain": [
              "(5348, 4)"
            ]
          },
          "metadata": {},
          "execution_count": 15
        }
      ]
    },
    {
      "cell_type": "code",
      "source": [
        "imdb_cast.to_csv('imdb_cast.csv', encoding='utf-8')"
      ],
      "metadata": {
        "id": "QMcu3zgCLHqQ"
      },
      "execution_count": 16,
      "outputs": []
    },
    {
      "cell_type": "markdown",
      "source": [
        "## 2.3.4 Scrape connections information (3')"
      ],
      "metadata": {
        "id": "znTetfj9LMo-"
      }
    },
    {
      "cell_type": "code",
      "source": [
        "def get_elements(elem):\n",
        "    elems = []\n",
        "    if not elem: return elems\n",
        "    elem = elem.find_next_sibling()\n",
        "    while elem.attrs.get('class', []):\n",
        "        # found out the key class value soda\n",
        "        if 'soda' in elem.attrs.get('class', []): elems.append(elem)\n",
        "        # if no other sibling elements any more, it will return None \n",
        "        elem = elem.find_next_sibling()\n",
        "        if elem == None: break\n",
        "    return [_.a.string for _ in elems]"
      ],
      "metadata": {
        "id": "k3cNQNC1LNJW"
      },
      "execution_count": 17,
      "outputs": []
    },
    {
      "cell_type": "code",
      "source": [
        "links = []\n",
        "\n",
        "lt = 'https://www.imdb.com/title/{}/movieconnections/?ref_=tt_trv_cnn'\n",
        "for i, movie in movie_list[['title', 'url']].iterrows():\n",
        "    title = movie.title\n",
        "    mid = re.search('(tt\\d+)', movie.url).group(1)\n",
        "    response = requests.get(lt.format(mid), headers={'User-Agent': uae.chrome})\n",
        "    soup = BeautifulSoup(response.text, 'html.parser')\n",
        "    \n",
        "    reference_elem = soup.find('a', attrs={'id': 'references'})\n",
        "    referenced_in_elem = soup.find('a', attrs={'id': 'referenced_in'})\n",
        "\n",
        "    references = get_elements(reference_elem)\n",
        "    referenceds_in = get_elements(referenced_in_elem)\n",
        "    # make edge list, (start node -> end node)\n",
        "    for _ in references: links.append([_, title])\n",
        "    for _ in referenceds_in: links.append([title, _])\n",
        "    # here we won't add the the pointer from references to referenceds_in, it will be redundant\n",
        "    print(f'scrape movie count: {i}, movie url: {lt.format(mid)}')"
      ],
      "metadata": {
        "id": "r5kA1cqmLPXV",
        "colab": {
          "base_uri": "https://localhost:8080/"
        },
        "outputId": "47bebd25-f45d-4772-c21a-b1d4c4cb2fc3"
      },
      "execution_count": 18,
      "outputs": [
        {
          "output_type": "stream",
          "name": "stdout",
          "text": [
            "scrape movie count: 0, movie url: https://www.imdb.com/title/tt0111161/movieconnections/?ref_=tt_trv_cnn\n",
            "scrape movie count: 1, movie url: https://www.imdb.com/title/tt0038650/movieconnections/?ref_=tt_trv_cnn\n",
            "scrape movie count: 2, movie url: https://www.imdb.com/title/tt9198364/movieconnections/?ref_=tt_trv_cnn\n",
            "scrape movie count: 3, movie url: https://www.imdb.com/title/tt0120663/movieconnections/?ref_=tt_trv_cnn\n",
            "scrape movie count: 4, movie url: https://www.imdb.com/title/tt7144666/movieconnections/?ref_=tt_trv_cnn\n",
            "scrape movie count: 5, movie url: https://www.imdb.com/title/tt0085995/movieconnections/?ref_=tt_trv_cnn\n",
            "scrape movie count: 6, movie url: https://www.imdb.com/title/tt9783600/movieconnections/?ref_=tt_trv_cnn\n",
            "scrape movie count: 7, movie url: https://www.imdb.com/title/tt0388795/movieconnections/?ref_=tt_trv_cnn\n",
            "scrape movie count: 8, movie url: https://www.imdb.com/title/tt0062622/movieconnections/?ref_=tt_trv_cnn\n",
            "scrape movie count: 9, movie url: https://www.imdb.com/title/tt2543164/movieconnections/?ref_=tt_trv_cnn\n",
            "scrape movie count: 10, movie url: https://www.imdb.com/title/tt0209144/movieconnections/?ref_=tt_trv_cnn\n",
            "scrape movie count: 11, movie url: https://www.imdb.com/title/tt0274812/movieconnections/?ref_=tt_trv_cnn\n",
            "scrape movie count: 12, movie url: https://www.imdb.com/title/tt0084787/movieconnections/?ref_=tt_trv_cnn\n",
            "scrape movie count: 13, movie url: https://www.imdb.com/title/tt0884328/movieconnections/?ref_=tt_trv_cnn\n",
            "scrape movie count: 14, movie url: https://www.imdb.com/title/tt12908110/movieconnections/?ref_=tt_trv_cnn\n",
            "scrape movie count: 15, movie url: https://www.imdb.com/title/tt0162661/movieconnections/?ref_=tt_trv_cnn\n",
            "scrape movie count: 16, movie url: https://www.imdb.com/title/tt0038669/movieconnections/?ref_=tt_trv_cnn\n",
            "scrape movie count: 17, movie url: https://www.imdb.com/title/tt0031971/movieconnections/?ref_=tt_trv_cnn\n",
            "scrape movie count: 18, movie url: https://www.imdb.com/title/tt0421715/movieconnections/?ref_=tt_trv_cnn\n",
            "scrape movie count: 19, movie url: https://www.imdb.com/title/tt0181689/movieconnections/?ref_=tt_trv_cnn\n",
            "scrape movie count: 20, movie url: https://www.imdb.com/title/tt0100802/movieconnections/?ref_=tt_trv_cnn\n",
            "scrape movie count: 21, movie url: https://www.imdb.com/title/tt2397535/movieconnections/?ref_=tt_trv_cnn\n",
            "scrape movie count: 22, movie url: https://www.imdb.com/title/tt0359950/movieconnections/?ref_=tt_trv_cnn\n",
            "scrape movie count: 23, movie url: https://www.imdb.com/title/tt0096256/movieconnections/?ref_=tt_trv_cnn\n",
            "scrape movie count: 24, movie url: https://www.imdb.com/title/tt14039582/movieconnections/?ref_=tt_trv_cnn\n",
            "scrape movie count: 25, movie url: https://www.imdb.com/title/tt0381849/movieconnections/?ref_=tt_trv_cnn\n",
            "scrape movie count: 26, movie url: https://www.imdb.com/title/tt0097757/movieconnections/?ref_=tt_trv_cnn\n",
            "scrape movie count: 27, movie url: https://www.imdb.com/title/tt0212720/movieconnections/?ref_=tt_trv_cnn\n",
            "scrape movie count: 28, movie url: https://www.imdb.com/title/tt0047396/movieconnections/?ref_=tt_trv_cnn\n",
            "scrape movie count: 29, movie url: https://www.imdb.com/title/tt0405159/movieconnections/?ref_=tt_trv_cnn\n",
            "scrape movie count: 30, movie url: https://www.imdb.com/title/tt1028532/movieconnections/?ref_=tt_trv_cnn\n",
            "scrape movie count: 31, movie url: https://www.imdb.com/title/tt3278330/movieconnections/?ref_=tt_trv_cnn\n",
            "scrape movie count: 32, movie url: https://www.imdb.com/title/tt0256103/movieconnections/?ref_=tt_trv_cnn\n",
            "scrape movie count: 33, movie url: https://www.imdb.com/title/tt7282468/movieconnections/?ref_=tt_trv_cnn\n",
            "scrape movie count: 34, movie url: https://www.imdb.com/title/tt0433035/movieconnections/?ref_=tt_trv_cnn\n",
            "scrape movie count: 35, movie url: https://www.imdb.com/title/tt1386703/movieconnections/?ref_=tt_trv_cnn\n",
            "scrape movie count: 36, movie url: https://www.imdb.com/title/tt0056869/movieconnections/?ref_=tt_trv_cnn\n",
            "scrape movie count: 37, movie url: https://www.imdb.com/title/tt0450385/movieconnections/?ref_=tt_trv_cnn\n",
            "scrape movie count: 38, movie url: https://www.imdb.com/title/tt6214928/movieconnections/?ref_=tt_trv_cnn\n",
            "scrape movie count: 39, movie url: https://www.imdb.com/title/tt1385826/movieconnections/?ref_=tt_trv_cnn\n",
            "scrape movie count: 40, movie url: https://www.imdb.com/title/tt0443543/movieconnections/?ref_=tt_trv_cnn\n",
            "scrape movie count: 41, movie url: https://www.imdb.com/title/tt0086034/movieconnections/?ref_=tt_trv_cnn\n",
            "scrape movie count: 42, movie url: https://www.imdb.com/title/tt5073642/movieconnections/?ref_=tt_trv_cnn\n",
            "scrape movie count: 43, movie url: https://www.imdb.com/title/tt0090264/movieconnections/?ref_=tt_trv_cnn\n",
            "scrape movie count: 44, movie url: https://www.imdb.com/title/tt0093428/movieconnections/?ref_=tt_trv_cnn\n",
            "scrape movie count: 45, movie url: https://www.imdb.com/title/tt0069995/movieconnections/?ref_=tt_trv_cnn\n",
            "scrape movie count: 46, movie url: https://www.imdb.com/title/tt0905372/movieconnections/?ref_=tt_trv_cnn\n",
            "scrape movie count: 47, movie url: https://www.imdb.com/title/tt0073631/movieconnections/?ref_=tt_trv_cnn\n",
            "scrape movie count: 48, movie url: https://www.imdb.com/title/tt0452625/movieconnections/?ref_=tt_trv_cnn\n",
            "scrape movie count: 49, movie url: https://www.imdb.com/title/tt0408839/movieconnections/?ref_=tt_trv_cnn\n",
            "scrape movie count: 50, movie url: https://www.imdb.com/title/tt5501104/movieconnections/?ref_=tt_trv_cnn\n",
            "scrape movie count: 51, movie url: https://www.imdb.com/title/tt0022913/movieconnections/?ref_=tt_trv_cnn\n",
            "scrape movie count: 52, movie url: https://www.imdb.com/title/tt1601913/movieconnections/?ref_=tt_trv_cnn\n",
            "scrape movie count: 53, movie url: https://www.imdb.com/title/tt0060176/movieconnections/?ref_=tt_trv_cnn\n",
            "scrape movie count: 54, movie url: https://www.imdb.com/title/tt0103919/movieconnections/?ref_=tt_trv_cnn\n",
            "scrape movie count: 55, movie url: https://www.imdb.com/title/tt0435705/movieconnections/?ref_=tt_trv_cnn\n",
            "scrape movie count: 56, movie url: https://www.imdb.com/title/tt0087050/movieconnections/?ref_=tt_trv_cnn\n",
            "scrape movie count: 57, movie url: https://www.imdb.com/title/tt1600196/movieconnections/?ref_=tt_trv_cnn\n",
            "scrape movie count: 58, movie url: https://www.imdb.com/title/tt0889573/movieconnections/?ref_=tt_trv_cnn\n",
            "scrape movie count: 59, movie url: https://www.imdb.com/title/tt0119675/movieconnections/?ref_=tt_trv_cnn\n",
            "scrape movie count: 60, movie url: https://www.imdb.com/title/tt0042192/movieconnections/?ref_=tt_trv_cnn\n",
            "scrape movie count: 61, movie url: https://www.imdb.com/title/tt0182789/movieconnections/?ref_=tt_trv_cnn\n",
            "scrape movie count: 62, movie url: https://www.imdb.com/title/tt0089885/movieconnections/?ref_=tt_trv_cnn\n",
            "scrape movie count: 63, movie url: https://www.imdb.com/title/tt0113481/movieconnections/?ref_=tt_trv_cnn\n",
            "scrape movie count: 64, movie url: https://www.imdb.com/title/tt0045061/movieconnections/?ref_=tt_trv_cnn\n",
            "scrape movie count: 65, movie url: https://www.imdb.com/title/tt0047472/movieconnections/?ref_=tt_trv_cnn\n",
            "scrape movie count: 66, movie url: https://www.imdb.com/title/tt0042876/movieconnections/?ref_=tt_trv_cnn\n",
            "scrape movie count: 67, movie url: https://www.imdb.com/title/tt0100740/movieconnections/?ref_=tt_trv_cnn\n",
            "scrape movie count: 68, movie url: https://www.imdb.com/title/tt0101428/movieconnections/?ref_=tt_trv_cnn\n",
            "scrape movie count: 69, movie url: https://www.imdb.com/title/tt0063663/movieconnections/?ref_=tt_trv_cnn\n",
            "scrape movie count: 70, movie url: https://www.imdb.com/title/tt0104692/movieconnections/?ref_=tt_trv_cnn\n",
            "scrape movie count: 71, movie url: https://www.imdb.com/title/tt0044121/movieconnections/?ref_=tt_trv_cnn\n",
            "scrape movie count: 72, movie url: https://www.imdb.com/title/tt2053425/movieconnections/?ref_=tt_trv_cnn\n",
            "scrape movie count: 73, movie url: https://www.imdb.com/title/tt0048280/movieconnections/?ref_=tt_trv_cnn\n",
            "scrape movie count: 74, movie url: https://www.imdb.com/title/tt0362478/movieconnections/?ref_=tt_trv_cnn\n",
            "scrape movie count: 75, movie url: https://www.imdb.com/title/tt0075968/movieconnections/?ref_=tt_trv_cnn\n",
            "scrape movie count: 76, movie url: https://www.imdb.com/title/tt3859310/movieconnections/?ref_=tt_trv_cnn\n",
            "scrape movie count: 77, movie url: https://www.imdb.com/title/tt0087075/movieconnections/?ref_=tt_trv_cnn\n",
            "scrape movie count: 78, movie url: https://www.imdb.com/title/tt13087796/movieconnections/?ref_=tt_trv_cnn\n",
            "scrape movie count: 79, movie url: https://www.imdb.com/title/tt0070832/movieconnections/?ref_=tt_trv_cnn\n",
            "scrape movie count: 80, movie url: https://www.imdb.com/title/tt0091499/movieconnections/?ref_=tt_trv_cnn\n",
            "scrape movie count: 81, movie url: https://www.imdb.com/title/tt0091083/movieconnections/?ref_=tt_trv_cnn\n",
            "scrape movie count: 82, movie url: https://www.imdb.com/title/tt11080108/movieconnections/?ref_=tt_trv_cnn\n",
            "scrape movie count: 83, movie url: https://www.imdb.com/title/tt0114367/movieconnections/?ref_=tt_trv_cnn\n",
            "scrape movie count: 84, movie url: https://www.imdb.com/title/tt0108122/movieconnections/?ref_=tt_trv_cnn\n",
            "scrape movie count: 85, movie url: https://www.imdb.com/title/tt0805570/movieconnections/?ref_=tt_trv_cnn\n",
            "scrape movie count: 86, movie url: https://www.imdb.com/title/tt0055184/movieconnections/?ref_=tt_trv_cnn\n",
            "scrape movie count: 87, movie url: https://www.imdb.com/title/tt0048140/movieconnections/?ref_=tt_trv_cnn\n",
            "scrape movie count: 88, movie url: https://www.imdb.com/title/tt0382628/movieconnections/?ref_=tt_trv_cnn\n",
            "scrape movie count: 89, movie url: https://www.imdb.com/title/tt0045883/movieconnections/?ref_=tt_trv_cnn\n",
            "scrape movie count: 90, movie url: https://www.imdb.com/title/tt9738784/movieconnections/?ref_=tt_trv_cnn\n",
            "scrape movie count: 91, movie url: https://www.imdb.com/title/tt0051622/movieconnections/?ref_=tt_trv_cnn\n",
            "scrape movie count: 92, movie url: https://www.imdb.com/title/tt0112438/movieconnections/?ref_=tt_trv_cnn\n",
            "scrape movie count: 93, movie url: https://www.imdb.com/title/tt0338337/movieconnections/?ref_=tt_trv_cnn\n",
            "scrape movie count: 94, movie url: https://www.imdb.com/title/tt7798604/movieconnections/?ref_=tt_trv_cnn\n",
            "scrape movie count: 95, movie url: https://www.imdb.com/title/tt0092603/movieconnections/?ref_=tt_trv_cnn\n",
            "scrape movie count: 96, movie url: https://www.imdb.com/title/tt0281686/movieconnections/?ref_=tt_trv_cnn\n",
            "scrape movie count: 97, movie url: https://www.imdb.com/title/tt1772264/movieconnections/?ref_=tt_trv_cnn\n",
            "scrape movie count: 98, movie url: https://www.imdb.com/title/tt6874762/movieconnections/?ref_=tt_trv_cnn\n",
            "scrape movie count: 99, movie url: https://www.imdb.com/title/tt0092796/movieconnections/?ref_=tt_trv_cnn\n"
          ]
        }
      ]
    },
    {
      "cell_type": "code",
      "source": [
        "imdb_links = pd.DataFrame(links, columns=['start', 'end'])\n",
        "imdb_links.head()"
      ],
      "metadata": {
        "id": "86qVpNKdLSB9",
        "colab": {
          "base_uri": "https://localhost:8080/",
          "height": 206
        },
        "outputId": "de82d26d-7bd7-4b4f-8ef8-0c4f04201860"
      },
      "execution_count": 19,
      "outputs": [
        {
          "output_type": "execute_result",
          "data": {
            "text/plain": [
              "                 start                       end\n",
              "0   The Grand Illusion  The Shawshank Redemption\n",
              "1          Brute Force  The Shawshank Redemption\n",
              "2               Harvey  The Shawshank Redemption\n",
              "3  The Seven Year Itch  The Shawshank Redemption\n",
              "4        A Man Escaped  The Shawshank Redemption"
            ],
            "text/html": [
              "\n",
              "  <div id=\"df-2a9fb780-6424-4afc-83ae-2c9ef8f57e3b\">\n",
              "    <div class=\"colab-df-container\">\n",
              "      <div>\n",
              "<style scoped>\n",
              "    .dataframe tbody tr th:only-of-type {\n",
              "        vertical-align: middle;\n",
              "    }\n",
              "\n",
              "    .dataframe tbody tr th {\n",
              "        vertical-align: top;\n",
              "    }\n",
              "\n",
              "    .dataframe thead th {\n",
              "        text-align: right;\n",
              "    }\n",
              "</style>\n",
              "<table border=\"1\" class=\"dataframe\">\n",
              "  <thead>\n",
              "    <tr style=\"text-align: right;\">\n",
              "      <th></th>\n",
              "      <th>start</th>\n",
              "      <th>end</th>\n",
              "    </tr>\n",
              "  </thead>\n",
              "  <tbody>\n",
              "    <tr>\n",
              "      <th>0</th>\n",
              "      <td>The Grand Illusion</td>\n",
              "      <td>The Shawshank Redemption</td>\n",
              "    </tr>\n",
              "    <tr>\n",
              "      <th>1</th>\n",
              "      <td>Brute Force</td>\n",
              "      <td>The Shawshank Redemption</td>\n",
              "    </tr>\n",
              "    <tr>\n",
              "      <th>2</th>\n",
              "      <td>Harvey</td>\n",
              "      <td>The Shawshank Redemption</td>\n",
              "    </tr>\n",
              "    <tr>\n",
              "      <th>3</th>\n",
              "      <td>The Seven Year Itch</td>\n",
              "      <td>The Shawshank Redemption</td>\n",
              "    </tr>\n",
              "    <tr>\n",
              "      <th>4</th>\n",
              "      <td>A Man Escaped</td>\n",
              "      <td>The Shawshank Redemption</td>\n",
              "    </tr>\n",
              "  </tbody>\n",
              "</table>\n",
              "</div>\n",
              "      <button class=\"colab-df-convert\" onclick=\"convertToInteractive('df-2a9fb780-6424-4afc-83ae-2c9ef8f57e3b')\"\n",
              "              title=\"Convert this dataframe to an interactive table.\"\n",
              "              style=\"display:none;\">\n",
              "        \n",
              "  <svg xmlns=\"http://www.w3.org/2000/svg\" height=\"24px\"viewBox=\"0 0 24 24\"\n",
              "       width=\"24px\">\n",
              "    <path d=\"M0 0h24v24H0V0z\" fill=\"none\"/>\n",
              "    <path d=\"M18.56 5.44l.94 2.06.94-2.06 2.06-.94-2.06-.94-.94-2.06-.94 2.06-2.06.94zm-11 1L8.5 8.5l.94-2.06 2.06-.94-2.06-.94L8.5 2.5l-.94 2.06-2.06.94zm10 10l.94 2.06.94-2.06 2.06-.94-2.06-.94-.94-2.06-.94 2.06-2.06.94z\"/><path d=\"M17.41 7.96l-1.37-1.37c-.4-.4-.92-.59-1.43-.59-.52 0-1.04.2-1.43.59L10.3 9.45l-7.72 7.72c-.78.78-.78 2.05 0 2.83L4 21.41c.39.39.9.59 1.41.59.51 0 1.02-.2 1.41-.59l7.78-7.78 2.81-2.81c.8-.78.8-2.07 0-2.86zM5.41 20L4 18.59l7.72-7.72 1.47 1.35L5.41 20z\"/>\n",
              "  </svg>\n",
              "      </button>\n",
              "      \n",
              "  <style>\n",
              "    .colab-df-container {\n",
              "      display:flex;\n",
              "      flex-wrap:wrap;\n",
              "      gap: 12px;\n",
              "    }\n",
              "\n",
              "    .colab-df-convert {\n",
              "      background-color: #E8F0FE;\n",
              "      border: none;\n",
              "      border-radius: 50%;\n",
              "      cursor: pointer;\n",
              "      display: none;\n",
              "      fill: #1967D2;\n",
              "      height: 32px;\n",
              "      padding: 0 0 0 0;\n",
              "      width: 32px;\n",
              "    }\n",
              "\n",
              "    .colab-df-convert:hover {\n",
              "      background-color: #E2EBFA;\n",
              "      box-shadow: 0px 1px 2px rgba(60, 64, 67, 0.3), 0px 1px 3px 1px rgba(60, 64, 67, 0.15);\n",
              "      fill: #174EA6;\n",
              "    }\n",
              "\n",
              "    [theme=dark] .colab-df-convert {\n",
              "      background-color: #3B4455;\n",
              "      fill: #D2E3FC;\n",
              "    }\n",
              "\n",
              "    [theme=dark] .colab-df-convert:hover {\n",
              "      background-color: #434B5C;\n",
              "      box-shadow: 0px 1px 3px 1px rgba(0, 0, 0, 0.15);\n",
              "      filter: drop-shadow(0px 1px 2px rgba(0, 0, 0, 0.3));\n",
              "      fill: #FFFFFF;\n",
              "    }\n",
              "  </style>\n",
              "\n",
              "      <script>\n",
              "        const buttonEl =\n",
              "          document.querySelector('#df-2a9fb780-6424-4afc-83ae-2c9ef8f57e3b button.colab-df-convert');\n",
              "        buttonEl.style.display =\n",
              "          google.colab.kernel.accessAllowed ? 'block' : 'none';\n",
              "\n",
              "        async function convertToInteractive(key) {\n",
              "          const element = document.querySelector('#df-2a9fb780-6424-4afc-83ae-2c9ef8f57e3b');\n",
              "          const dataTable =\n",
              "            await google.colab.kernel.invokeFunction('convertToInteractive',\n",
              "                                                     [key], {});\n",
              "          if (!dataTable) return;\n",
              "\n",
              "          const docLinkHtml = 'Like what you see? Visit the ' +\n",
              "            '<a target=\"_blank\" href=https://colab.research.google.com/notebooks/data_table.ipynb>data table notebook</a>'\n",
              "            + ' to learn more about interactive tables.';\n",
              "          element.innerHTML = '';\n",
              "          dataTable['output_type'] = 'display_data';\n",
              "          await google.colab.output.renderOutput(dataTable, element);\n",
              "          const docLink = document.createElement('div');\n",
              "          docLink.innerHTML = docLinkHtml;\n",
              "          element.appendChild(docLink);\n",
              "        }\n",
              "      </script>\n",
              "    </div>\n",
              "  </div>\n",
              "  "
            ]
          },
          "metadata": {},
          "execution_count": 19
        }
      ]
    },
    {
      "cell_type": "code",
      "source": [
        "imdb_links.to_csv('imdb_links.csv', encoding='utf-8')"
      ],
      "metadata": {
        "id": "ciN-741LLUAS"
      },
      "execution_count": 20,
      "outputs": []
    },
    {
      "cell_type": "markdown",
      "source": [
        "## 2.4 Check the columns of all the dataframes. (1')"
      ],
      "metadata": {
        "id": "c-upnjzrLbeJ"
      }
    },
    {
      "cell_type": "code",
      "source": [
        "print('movie_list:\\n\\t', movie_list.head())\n",
        "print('imdb_movies:\\n\\t', imdb_movies.head())\n",
        "print('imdb_cast:\\n\\t', imdb_cast.head())\n",
        "print('imdb_links:\\n\\t', imdb_links.head())"
      ],
      "metadata": {
        "id": "xQuQUDlwLW6M",
        "colab": {
          "base_uri": "https://localhost:8080/"
        },
        "outputId": "aa6d43ea-e5b2-4bdb-98ea-5d24acac554e"
      },
      "execution_count": 21,
      "outputs": [
        {
          "output_type": "stream",
          "name": "stdout",
          "text": [
            "movie_list:\n",
            "\t                              title  \\\n",
            "0         The Shawshank Redemption   \n",
            "1            It's a Wonderful Life   \n",
            "2  Three Thousand Years of Longing   \n",
            "3                   Eyes Wide Shut   \n",
            "4                  The Black Phone   \n",
            "\n",
            "                                                 url  year  \n",
            "0  https://www.imdb.com/title/tt0111161/?ref_=adv...  1994  \n",
            "1  https://www.imdb.com/title/tt0038650/?ref_=adv...  1946  \n",
            "2  https://www.imdb.com/title/tt9198364/?ref_=adv...  2022  \n",
            "3  https://www.imdb.com/title/tt0120663/?ref_=adv...  1999  \n",
            "4  https://www.imdb.com/title/tt7144666/?ref_=adv...  2021  \n",
            "imdb_movies:\n",
            "\t                              title  rating  score  \\\n",
            "0         The Shawshank Redemption     9.3     97   \n",
            "1            It's a Wonderful Life     8.6    134   \n",
            "2  Three Thousand Years of Longing     6.7    202   \n",
            "3                   Eyes Wide Shut     7.5    206   \n",
            "4                  The Black Phone     6.9    207   \n",
            "\n",
            "                                      genres  year duration  \\\n",
            "0                                  ['Drama']  1994  PT2H22M   \n",
            "1  ['Drama', 'Family', 'Fantasy', 'Romance']  1946  PT2H10M   \n",
            "2            ['Drama', 'Fantasy', 'Romance']  2022  PT1H48M   \n",
            "3           ['Drama', 'Mystery', 'Thriller']  1999  PT2H39M   \n",
            "4                     ['Horror', 'Thriller']  2021  PT1H43M   \n",
            "\n",
            "                                           storyLine    boxOffice aspectRatio  \n",
            "0  Two imprisoned men bond over a number of years...   28884504.0      1.85:1  \n",
            "1  An angel is sent from Heaven to help a despera...    6184298.0      1.37:1  \n",
            "2  A lonely scholar, on a trip to Istanbul, disco...   19223063.0      2.39:1  \n",
            "3  A Manhattan doctor embarks on a bizarre, night...  162242684.0         NaN  \n",
            "4  After being abducted by a child killer and loc...  161204742.0      2.39:1  \n",
            "imdb_cast:\n",
            "\t                       title           directors            cast  \\\n",
            "0  The Shawshank Redemption  ['Frank Darabont']     Tim Robbins   \n",
            "1  The Shawshank Redemption  ['Frank Darabont']  Morgan Freeman   \n",
            "2  The Shawshank Redemption  ['Frank Darabont']      Bob Gunton   \n",
            "3  The Shawshank Redemption  ['Frank Darabont']  William Sadler   \n",
            "4  The Shawshank Redemption  ['Frank Darabont']    Clancy Brown   \n",
            "\n",
            "                       role  \n",
            "0             Andy Dufresne  \n",
            "1  Ellis Boyd 'Red' Redding  \n",
            "2             Warden Norton  \n",
            "3                   Heywood  \n",
            "4            Captain Hadley  \n",
            "imdb_links:\n",
            "\t                  start                       end\n",
            "0   The Grand Illusion  The Shawshank Redemption\n",
            "1          Brute Force  The Shawshank Redemption\n",
            "2               Harvey  The Shawshank Redemption\n",
            "3  The Seven Year Itch  The Shawshank Redemption\n",
            "4        A Man Escaped  The Shawshank Redemption\n"
          ]
        }
      ]
    },
    {
      "cell_type": "markdown",
      "source": [
        "I found that these data are highly correlated, for example, I can go to other tables to get the director, actors, reference works and other information of the movie through a movie name"
      ],
      "metadata": {
        "id": "pC8b4dhBLiNM"
      }
    },
    {
      "cell_type": "markdown",
      "source": [
        "## 2.5 Check the index. (2')\n",
        "\n",
        "> answer\n",
        "\n",
        "we can choose a column as the index, such as the movie name(title). The reason is simple, because it's unique.\n",
        "> action: \n",
        "\n",
        "- 1. we need hash the movie name/title string. it will let the movie name/title indexed looks like pretty.\n",
        "\n",
        "- 2. we will add the above the movie hash name/title into the dataframe as the index. "
      ],
      "metadata": {
        "id": "REQiyPbhLl_s"
      }
    },
    {
      "cell_type": "code",
      "source": [
        "# for test, we need backup the origin dataframe, avoid to pollute origin data\n",
        "test = movie_list\n",
        "\n",
        "def md5(raw: str):\n",
        "    m = hashlib.md5()\n",
        "    m.update(raw.encode())\n",
        "    return m.hexdigest()\n",
        "\n",
        "indexed = [md5(_) for _ in movie_list.title]\n",
        "test.insert(0, 'indexed', indexed, allow_duplicates=False)\n",
        "test.head()"
      ],
      "metadata": {
        "colab": {
          "base_uri": "https://localhost:8080/",
          "height": 206
        },
        "id": "GrNN4eZiackh",
        "outputId": "944e4202-1840-4197-9cbb-08485a0257e9"
      },
      "execution_count": 22,
      "outputs": [
        {
          "output_type": "execute_result",
          "data": {
            "text/plain": [
              "                            indexed                            title  \\\n",
              "0  c121b9f541e85a37659a3bf0d18e5ad8         The Shawshank Redemption   \n",
              "1  b2efb7dbe92324d458027d07fc8e3c79            It's a Wonderful Life   \n",
              "2  ff687639ee17a6f33ce35990fbbdf6ab  Three Thousand Years of Longing   \n",
              "3  148287006ebbaabb17761ceaa6e13435                   Eyes Wide Shut   \n",
              "4  bd477b7ec657ef67d9d7f512bbb90261                  The Black Phone   \n",
              "\n",
              "                                                 url  year  \n",
              "0  https://www.imdb.com/title/tt0111161/?ref_=adv...  1994  \n",
              "1  https://www.imdb.com/title/tt0038650/?ref_=adv...  1946  \n",
              "2  https://www.imdb.com/title/tt9198364/?ref_=adv...  2022  \n",
              "3  https://www.imdb.com/title/tt0120663/?ref_=adv...  1999  \n",
              "4  https://www.imdb.com/title/tt7144666/?ref_=adv...  2021  "
            ],
            "text/html": [
              "\n",
              "  <div id=\"df-935388c1-e0e9-4ff0-9b93-f552e22b5ab7\">\n",
              "    <div class=\"colab-df-container\">\n",
              "      <div>\n",
              "<style scoped>\n",
              "    .dataframe tbody tr th:only-of-type {\n",
              "        vertical-align: middle;\n",
              "    }\n",
              "\n",
              "    .dataframe tbody tr th {\n",
              "        vertical-align: top;\n",
              "    }\n",
              "\n",
              "    .dataframe thead th {\n",
              "        text-align: right;\n",
              "    }\n",
              "</style>\n",
              "<table border=\"1\" class=\"dataframe\">\n",
              "  <thead>\n",
              "    <tr style=\"text-align: right;\">\n",
              "      <th></th>\n",
              "      <th>indexed</th>\n",
              "      <th>title</th>\n",
              "      <th>url</th>\n",
              "      <th>year</th>\n",
              "    </tr>\n",
              "  </thead>\n",
              "  <tbody>\n",
              "    <tr>\n",
              "      <th>0</th>\n",
              "      <td>c121b9f541e85a37659a3bf0d18e5ad8</td>\n",
              "      <td>The Shawshank Redemption</td>\n",
              "      <td>https://www.imdb.com/title/tt0111161/?ref_=adv...</td>\n",
              "      <td>1994</td>\n",
              "    </tr>\n",
              "    <tr>\n",
              "      <th>1</th>\n",
              "      <td>b2efb7dbe92324d458027d07fc8e3c79</td>\n",
              "      <td>It's a Wonderful Life</td>\n",
              "      <td>https://www.imdb.com/title/tt0038650/?ref_=adv...</td>\n",
              "      <td>1946</td>\n",
              "    </tr>\n",
              "    <tr>\n",
              "      <th>2</th>\n",
              "      <td>ff687639ee17a6f33ce35990fbbdf6ab</td>\n",
              "      <td>Three Thousand Years of Longing</td>\n",
              "      <td>https://www.imdb.com/title/tt9198364/?ref_=adv...</td>\n",
              "      <td>2022</td>\n",
              "    </tr>\n",
              "    <tr>\n",
              "      <th>3</th>\n",
              "      <td>148287006ebbaabb17761ceaa6e13435</td>\n",
              "      <td>Eyes Wide Shut</td>\n",
              "      <td>https://www.imdb.com/title/tt0120663/?ref_=adv...</td>\n",
              "      <td>1999</td>\n",
              "    </tr>\n",
              "    <tr>\n",
              "      <th>4</th>\n",
              "      <td>bd477b7ec657ef67d9d7f512bbb90261</td>\n",
              "      <td>The Black Phone</td>\n",
              "      <td>https://www.imdb.com/title/tt7144666/?ref_=adv...</td>\n",
              "      <td>2021</td>\n",
              "    </tr>\n",
              "  </tbody>\n",
              "</table>\n",
              "</div>\n",
              "      <button class=\"colab-df-convert\" onclick=\"convertToInteractive('df-935388c1-e0e9-4ff0-9b93-f552e22b5ab7')\"\n",
              "              title=\"Convert this dataframe to an interactive table.\"\n",
              "              style=\"display:none;\">\n",
              "        \n",
              "  <svg xmlns=\"http://www.w3.org/2000/svg\" height=\"24px\"viewBox=\"0 0 24 24\"\n",
              "       width=\"24px\">\n",
              "    <path d=\"M0 0h24v24H0V0z\" fill=\"none\"/>\n",
              "    <path d=\"M18.56 5.44l.94 2.06.94-2.06 2.06-.94-2.06-.94-.94-2.06-.94 2.06-2.06.94zm-11 1L8.5 8.5l.94-2.06 2.06-.94-2.06-.94L8.5 2.5l-.94 2.06-2.06.94zm10 10l.94 2.06.94-2.06 2.06-.94-2.06-.94-.94-2.06-.94 2.06-2.06.94z\"/><path d=\"M17.41 7.96l-1.37-1.37c-.4-.4-.92-.59-1.43-.59-.52 0-1.04.2-1.43.59L10.3 9.45l-7.72 7.72c-.78.78-.78 2.05 0 2.83L4 21.41c.39.39.9.59 1.41.59.51 0 1.02-.2 1.41-.59l7.78-7.78 2.81-2.81c.8-.78.8-2.07 0-2.86zM5.41 20L4 18.59l7.72-7.72 1.47 1.35L5.41 20z\"/>\n",
              "  </svg>\n",
              "      </button>\n",
              "      \n",
              "  <style>\n",
              "    .colab-df-container {\n",
              "      display:flex;\n",
              "      flex-wrap:wrap;\n",
              "      gap: 12px;\n",
              "    }\n",
              "\n",
              "    .colab-df-convert {\n",
              "      background-color: #E8F0FE;\n",
              "      border: none;\n",
              "      border-radius: 50%;\n",
              "      cursor: pointer;\n",
              "      display: none;\n",
              "      fill: #1967D2;\n",
              "      height: 32px;\n",
              "      padding: 0 0 0 0;\n",
              "      width: 32px;\n",
              "    }\n",
              "\n",
              "    .colab-df-convert:hover {\n",
              "      background-color: #E2EBFA;\n",
              "      box-shadow: 0px 1px 2px rgba(60, 64, 67, 0.3), 0px 1px 3px 1px rgba(60, 64, 67, 0.15);\n",
              "      fill: #174EA6;\n",
              "    }\n",
              "\n",
              "    [theme=dark] .colab-df-convert {\n",
              "      background-color: #3B4455;\n",
              "      fill: #D2E3FC;\n",
              "    }\n",
              "\n",
              "    [theme=dark] .colab-df-convert:hover {\n",
              "      background-color: #434B5C;\n",
              "      box-shadow: 0px 1px 3px 1px rgba(0, 0, 0, 0.15);\n",
              "      filter: drop-shadow(0px 1px 2px rgba(0, 0, 0, 0.3));\n",
              "      fill: #FFFFFF;\n",
              "    }\n",
              "  </style>\n",
              "\n",
              "      <script>\n",
              "        const buttonEl =\n",
              "          document.querySelector('#df-935388c1-e0e9-4ff0-9b93-f552e22b5ab7 button.colab-df-convert');\n",
              "        buttonEl.style.display =\n",
              "          google.colab.kernel.accessAllowed ? 'block' : 'none';\n",
              "\n",
              "        async function convertToInteractive(key) {\n",
              "          const element = document.querySelector('#df-935388c1-e0e9-4ff0-9b93-f552e22b5ab7');\n",
              "          const dataTable =\n",
              "            await google.colab.kernel.invokeFunction('convertToInteractive',\n",
              "                                                     [key], {});\n",
              "          if (!dataTable) return;\n",
              "\n",
              "          const docLinkHtml = 'Like what you see? Visit the ' +\n",
              "            '<a target=\"_blank\" href=https://colab.research.google.com/notebooks/data_table.ipynb>data table notebook</a>'\n",
              "            + ' to learn more about interactive tables.';\n",
              "          element.innerHTML = '';\n",
              "          dataTable['output_type'] = 'display_data';\n",
              "          await google.colab.output.renderOutput(dataTable, element);\n",
              "          const docLink = document.createElement('div');\n",
              "          docLink.innerHTML = docLinkHtml;\n",
              "          element.appendChild(docLink);\n",
              "        }\n",
              "      </script>\n",
              "    </div>\n",
              "  </div>\n",
              "  "
            ]
          },
          "metadata": {},
          "execution_count": 22
        }
      ]
    },
    {
      "cell_type": "code",
      "source": [
        "test.set_index('indexed', append=True)\n",
        "test.head()"
      ],
      "metadata": {
        "id": "iqf5UInALXKH",
        "colab": {
          "base_uri": "https://localhost:8080/",
          "height": 206
        },
        "outputId": "74008b0e-ae17-43cd-e5a4-97c4cd662ff4"
      },
      "execution_count": 23,
      "outputs": [
        {
          "output_type": "execute_result",
          "data": {
            "text/plain": [
              "                            indexed                            title  \\\n",
              "0  c121b9f541e85a37659a3bf0d18e5ad8         The Shawshank Redemption   \n",
              "1  b2efb7dbe92324d458027d07fc8e3c79            It's a Wonderful Life   \n",
              "2  ff687639ee17a6f33ce35990fbbdf6ab  Three Thousand Years of Longing   \n",
              "3  148287006ebbaabb17761ceaa6e13435                   Eyes Wide Shut   \n",
              "4  bd477b7ec657ef67d9d7f512bbb90261                  The Black Phone   \n",
              "\n",
              "                                                 url  year  \n",
              "0  https://www.imdb.com/title/tt0111161/?ref_=adv...  1994  \n",
              "1  https://www.imdb.com/title/tt0038650/?ref_=adv...  1946  \n",
              "2  https://www.imdb.com/title/tt9198364/?ref_=adv...  2022  \n",
              "3  https://www.imdb.com/title/tt0120663/?ref_=adv...  1999  \n",
              "4  https://www.imdb.com/title/tt7144666/?ref_=adv...  2021  "
            ],
            "text/html": [
              "\n",
              "  <div id=\"df-02df67e0-936c-47cd-8884-d4f821ce4bba\">\n",
              "    <div class=\"colab-df-container\">\n",
              "      <div>\n",
              "<style scoped>\n",
              "    .dataframe tbody tr th:only-of-type {\n",
              "        vertical-align: middle;\n",
              "    }\n",
              "\n",
              "    .dataframe tbody tr th {\n",
              "        vertical-align: top;\n",
              "    }\n",
              "\n",
              "    .dataframe thead th {\n",
              "        text-align: right;\n",
              "    }\n",
              "</style>\n",
              "<table border=\"1\" class=\"dataframe\">\n",
              "  <thead>\n",
              "    <tr style=\"text-align: right;\">\n",
              "      <th></th>\n",
              "      <th>indexed</th>\n",
              "      <th>title</th>\n",
              "      <th>url</th>\n",
              "      <th>year</th>\n",
              "    </tr>\n",
              "  </thead>\n",
              "  <tbody>\n",
              "    <tr>\n",
              "      <th>0</th>\n",
              "      <td>c121b9f541e85a37659a3bf0d18e5ad8</td>\n",
              "      <td>The Shawshank Redemption</td>\n",
              "      <td>https://www.imdb.com/title/tt0111161/?ref_=adv...</td>\n",
              "      <td>1994</td>\n",
              "    </tr>\n",
              "    <tr>\n",
              "      <th>1</th>\n",
              "      <td>b2efb7dbe92324d458027d07fc8e3c79</td>\n",
              "      <td>It's a Wonderful Life</td>\n",
              "      <td>https://www.imdb.com/title/tt0038650/?ref_=adv...</td>\n",
              "      <td>1946</td>\n",
              "    </tr>\n",
              "    <tr>\n",
              "      <th>2</th>\n",
              "      <td>ff687639ee17a6f33ce35990fbbdf6ab</td>\n",
              "      <td>Three Thousand Years of Longing</td>\n",
              "      <td>https://www.imdb.com/title/tt9198364/?ref_=adv...</td>\n",
              "      <td>2022</td>\n",
              "    </tr>\n",
              "    <tr>\n",
              "      <th>3</th>\n",
              "      <td>148287006ebbaabb17761ceaa6e13435</td>\n",
              "      <td>Eyes Wide Shut</td>\n",
              "      <td>https://www.imdb.com/title/tt0120663/?ref_=adv...</td>\n",
              "      <td>1999</td>\n",
              "    </tr>\n",
              "    <tr>\n",
              "      <th>4</th>\n",
              "      <td>bd477b7ec657ef67d9d7f512bbb90261</td>\n",
              "      <td>The Black Phone</td>\n",
              "      <td>https://www.imdb.com/title/tt7144666/?ref_=adv...</td>\n",
              "      <td>2021</td>\n",
              "    </tr>\n",
              "  </tbody>\n",
              "</table>\n",
              "</div>\n",
              "      <button class=\"colab-df-convert\" onclick=\"convertToInteractive('df-02df67e0-936c-47cd-8884-d4f821ce4bba')\"\n",
              "              title=\"Convert this dataframe to an interactive table.\"\n",
              "              style=\"display:none;\">\n",
              "        \n",
              "  <svg xmlns=\"http://www.w3.org/2000/svg\" height=\"24px\"viewBox=\"0 0 24 24\"\n",
              "       width=\"24px\">\n",
              "    <path d=\"M0 0h24v24H0V0z\" fill=\"none\"/>\n",
              "    <path d=\"M18.56 5.44l.94 2.06.94-2.06 2.06-.94-2.06-.94-.94-2.06-.94 2.06-2.06.94zm-11 1L8.5 8.5l.94-2.06 2.06-.94-2.06-.94L8.5 2.5l-.94 2.06-2.06.94zm10 10l.94 2.06.94-2.06 2.06-.94-2.06-.94-.94-2.06-.94 2.06-2.06.94z\"/><path d=\"M17.41 7.96l-1.37-1.37c-.4-.4-.92-.59-1.43-.59-.52 0-1.04.2-1.43.59L10.3 9.45l-7.72 7.72c-.78.78-.78 2.05 0 2.83L4 21.41c.39.39.9.59 1.41.59.51 0 1.02-.2 1.41-.59l7.78-7.78 2.81-2.81c.8-.78.8-2.07 0-2.86zM5.41 20L4 18.59l7.72-7.72 1.47 1.35L5.41 20z\"/>\n",
              "  </svg>\n",
              "      </button>\n",
              "      \n",
              "  <style>\n",
              "    .colab-df-container {\n",
              "      display:flex;\n",
              "      flex-wrap:wrap;\n",
              "      gap: 12px;\n",
              "    }\n",
              "\n",
              "    .colab-df-convert {\n",
              "      background-color: #E8F0FE;\n",
              "      border: none;\n",
              "      border-radius: 50%;\n",
              "      cursor: pointer;\n",
              "      display: none;\n",
              "      fill: #1967D2;\n",
              "      height: 32px;\n",
              "      padding: 0 0 0 0;\n",
              "      width: 32px;\n",
              "    }\n",
              "\n",
              "    .colab-df-convert:hover {\n",
              "      background-color: #E2EBFA;\n",
              "      box-shadow: 0px 1px 2px rgba(60, 64, 67, 0.3), 0px 1px 3px 1px rgba(60, 64, 67, 0.15);\n",
              "      fill: #174EA6;\n",
              "    }\n",
              "\n",
              "    [theme=dark] .colab-df-convert {\n",
              "      background-color: #3B4455;\n",
              "      fill: #D2E3FC;\n",
              "    }\n",
              "\n",
              "    [theme=dark] .colab-df-convert:hover {\n",
              "      background-color: #434B5C;\n",
              "      box-shadow: 0px 1px 3px 1px rgba(0, 0, 0, 0.15);\n",
              "      filter: drop-shadow(0px 1px 2px rgba(0, 0, 0, 0.3));\n",
              "      fill: #FFFFFF;\n",
              "    }\n",
              "  </style>\n",
              "\n",
              "      <script>\n",
              "        const buttonEl =\n",
              "          document.querySelector('#df-02df67e0-936c-47cd-8884-d4f821ce4bba button.colab-df-convert');\n",
              "        buttonEl.style.display =\n",
              "          google.colab.kernel.accessAllowed ? 'block' : 'none';\n",
              "\n",
              "        async function convertToInteractive(key) {\n",
              "          const element = document.querySelector('#df-02df67e0-936c-47cd-8884-d4f821ce4bba');\n",
              "          const dataTable =\n",
              "            await google.colab.kernel.invokeFunction('convertToInteractive',\n",
              "                                                     [key], {});\n",
              "          if (!dataTable) return;\n",
              "\n",
              "          const docLinkHtml = 'Like what you see? Visit the ' +\n",
              "            '<a target=\"_blank\" href=https://colab.research.google.com/notebooks/data_table.ipynb>data table notebook</a>'\n",
              "            + ' to learn more about interactive tables.';\n",
              "          element.innerHTML = '';\n",
              "          dataTable['output_type'] = 'display_data';\n",
              "          await google.colab.output.renderOutput(dataTable, element);\n",
              "          const docLink = document.createElement('div');\n",
              "          docLink.innerHTML = docLinkHtml;\n",
              "          element.appendChild(docLink);\n",
              "        }\n",
              "      </script>\n",
              "    </div>\n",
              "  </div>\n",
              "  "
            ]
          },
          "metadata": {},
          "execution_count": 23
        }
      ]
    },
    {
      "cell_type": "markdown",
      "source": [
        "## 2.6 Extract descriptive statistics for numerical variables in all the dataframes. (1')\n",
        "\n",
        "Give a brief description of your findings (within 50 words)"
      ],
      "metadata": {
        "id": "mu5pSn3KLuQT"
      }
    },
    {
      "cell_type": "markdown",
      "source": [
        "1. The most casts are fresh man\n",
        "2. The most movie role name is unique\n",
        "3. According to the edge list(starting node -> ending node), we find out the unique start nodes are a few"
      ],
      "metadata": {
        "id": "Nnlmeb1VL0Fk"
      }
    },
    {
      "cell_type": "code",
      "source": [
        "# movie_list.describe()\n",
        "# imdb_movies.describe()\n",
        "# imdb_cast.describe()\n",
        "imdb_links.describe()"
      ],
      "metadata": {
        "id": "pPoU9nzJLXRy",
        "colab": {
          "base_uri": "https://localhost:8080/",
          "height": 175
        },
        "outputId": "70e89791-0634-48e9-fb01-3eb5ff5d045a"
      },
      "execution_count": 24,
      "outputs": [
        {
          "output_type": "execute_result",
          "data": {
            "text/plain": [
              "                        start              end\n",
              "count                   10338            10336\n",
              "unique                    529             8516\n",
              "top     2001: A Space Odyssey  Minority Report\n",
              "freq                     1239               73"
            ],
            "text/html": [
              "\n",
              "  <div id=\"df-ebe98137-dff8-4762-893d-f610a9f87d31\">\n",
              "    <div class=\"colab-df-container\">\n",
              "      <div>\n",
              "<style scoped>\n",
              "    .dataframe tbody tr th:only-of-type {\n",
              "        vertical-align: middle;\n",
              "    }\n",
              "\n",
              "    .dataframe tbody tr th {\n",
              "        vertical-align: top;\n",
              "    }\n",
              "\n",
              "    .dataframe thead th {\n",
              "        text-align: right;\n",
              "    }\n",
              "</style>\n",
              "<table border=\"1\" class=\"dataframe\">\n",
              "  <thead>\n",
              "    <tr style=\"text-align: right;\">\n",
              "      <th></th>\n",
              "      <th>start</th>\n",
              "      <th>end</th>\n",
              "    </tr>\n",
              "  </thead>\n",
              "  <tbody>\n",
              "    <tr>\n",
              "      <th>count</th>\n",
              "      <td>10338</td>\n",
              "      <td>10336</td>\n",
              "    </tr>\n",
              "    <tr>\n",
              "      <th>unique</th>\n",
              "      <td>529</td>\n",
              "      <td>8516</td>\n",
              "    </tr>\n",
              "    <tr>\n",
              "      <th>top</th>\n",
              "      <td>2001: A Space Odyssey</td>\n",
              "      <td>Minority Report</td>\n",
              "    </tr>\n",
              "    <tr>\n",
              "      <th>freq</th>\n",
              "      <td>1239</td>\n",
              "      <td>73</td>\n",
              "    </tr>\n",
              "  </tbody>\n",
              "</table>\n",
              "</div>\n",
              "      <button class=\"colab-df-convert\" onclick=\"convertToInteractive('df-ebe98137-dff8-4762-893d-f610a9f87d31')\"\n",
              "              title=\"Convert this dataframe to an interactive table.\"\n",
              "              style=\"display:none;\">\n",
              "        \n",
              "  <svg xmlns=\"http://www.w3.org/2000/svg\" height=\"24px\"viewBox=\"0 0 24 24\"\n",
              "       width=\"24px\">\n",
              "    <path d=\"M0 0h24v24H0V0z\" fill=\"none\"/>\n",
              "    <path d=\"M18.56 5.44l.94 2.06.94-2.06 2.06-.94-2.06-.94-.94-2.06-.94 2.06-2.06.94zm-11 1L8.5 8.5l.94-2.06 2.06-.94-2.06-.94L8.5 2.5l-.94 2.06-2.06.94zm10 10l.94 2.06.94-2.06 2.06-.94-2.06-.94-.94-2.06-.94 2.06-2.06.94z\"/><path d=\"M17.41 7.96l-1.37-1.37c-.4-.4-.92-.59-1.43-.59-.52 0-1.04.2-1.43.59L10.3 9.45l-7.72 7.72c-.78.78-.78 2.05 0 2.83L4 21.41c.39.39.9.59 1.41.59.51 0 1.02-.2 1.41-.59l7.78-7.78 2.81-2.81c.8-.78.8-2.07 0-2.86zM5.41 20L4 18.59l7.72-7.72 1.47 1.35L5.41 20z\"/>\n",
              "  </svg>\n",
              "      </button>\n",
              "      \n",
              "  <style>\n",
              "    .colab-df-container {\n",
              "      display:flex;\n",
              "      flex-wrap:wrap;\n",
              "      gap: 12px;\n",
              "    }\n",
              "\n",
              "    .colab-df-convert {\n",
              "      background-color: #E8F0FE;\n",
              "      border: none;\n",
              "      border-radius: 50%;\n",
              "      cursor: pointer;\n",
              "      display: none;\n",
              "      fill: #1967D2;\n",
              "      height: 32px;\n",
              "      padding: 0 0 0 0;\n",
              "      width: 32px;\n",
              "    }\n",
              "\n",
              "    .colab-df-convert:hover {\n",
              "      background-color: #E2EBFA;\n",
              "      box-shadow: 0px 1px 2px rgba(60, 64, 67, 0.3), 0px 1px 3px 1px rgba(60, 64, 67, 0.15);\n",
              "      fill: #174EA6;\n",
              "    }\n",
              "\n",
              "    [theme=dark] .colab-df-convert {\n",
              "      background-color: #3B4455;\n",
              "      fill: #D2E3FC;\n",
              "    }\n",
              "\n",
              "    [theme=dark] .colab-df-convert:hover {\n",
              "      background-color: #434B5C;\n",
              "      box-shadow: 0px 1px 3px 1px rgba(0, 0, 0, 0.15);\n",
              "      filter: drop-shadow(0px 1px 2px rgba(0, 0, 0, 0.3));\n",
              "      fill: #FFFFFF;\n",
              "    }\n",
              "  </style>\n",
              "\n",
              "      <script>\n",
              "        const buttonEl =\n",
              "          document.querySelector('#df-ebe98137-dff8-4762-893d-f610a9f87d31 button.colab-df-convert');\n",
              "        buttonEl.style.display =\n",
              "          google.colab.kernel.accessAllowed ? 'block' : 'none';\n",
              "\n",
              "        async function convertToInteractive(key) {\n",
              "          const element = document.querySelector('#df-ebe98137-dff8-4762-893d-f610a9f87d31');\n",
              "          const dataTable =\n",
              "            await google.colab.kernel.invokeFunction('convertToInteractive',\n",
              "                                                     [key], {});\n",
              "          if (!dataTable) return;\n",
              "\n",
              "          const docLinkHtml = 'Like what you see? Visit the ' +\n",
              "            '<a target=\"_blank\" href=https://colab.research.google.com/notebooks/data_table.ipynb>data table notebook</a>'\n",
              "            + ' to learn more about interactive tables.';\n",
              "          element.innerHTML = '';\n",
              "          dataTable['output_type'] = 'display_data';\n",
              "          await google.colab.output.renderOutput(dataTable, element);\n",
              "          const docLink = document.createElement('div');\n",
              "          docLink.innerHTML = docLinkHtml;\n",
              "          element.appendChild(docLink);\n",
              "        }\n",
              "      </script>\n",
              "    </div>\n",
              "  </div>\n",
              "  "
            ]
          },
          "metadata": {},
          "execution_count": 24
        }
      ]
    },
    {
      "cell_type": "markdown",
      "source": [
        "## 2.7 Get information from all the dataframes (1')\n",
        "\n",
        "Give a brief description (within 50 words)"
      ],
      "metadata": {
        "id": "ODnCZ7RxL5ju"
      }
    },
    {
      "cell_type": "code",
      "source": [
        "movie_list.info()\n",
        "# imdb_movies.info()\n",
        "# imdb_cast.info()\n",
        "# imdb_links.info()"
      ],
      "metadata": {
        "id": "tYssVnCsLXaB",
        "colab": {
          "base_uri": "https://localhost:8080/"
        },
        "outputId": "af304c65-14ab-493e-e495-6f5bdcd5ba2f"
      },
      "execution_count": 25,
      "outputs": [
        {
          "output_type": "stream",
          "name": "stdout",
          "text": [
            "<class 'pandas.core.frame.DataFrame'>\n",
            "RangeIndex: 100 entries, 0 to 99\n",
            "Data columns (total 4 columns):\n",
            " #   Column   Non-Null Count  Dtype \n",
            "---  ------   --------------  ----- \n",
            " 0   indexed  100 non-null    object\n",
            " 1   title    100 non-null    object\n",
            " 2   url      100 non-null    object\n",
            " 3   year     100 non-null    object\n",
            "dtypes: object(4)\n",
            "memory usage: 3.2+ KB\n"
          ]
        }
      ]
    },
    {
      "cell_type": "markdown",
      "source": [
        "# Part 3: Data cleaning and transformation [10%]"
      ],
      "metadata": {
        "id": "xB0JFJiKL-b_"
      }
    },
    {
      "cell_type": "markdown",
      "source": [
        "# 3.1 Change the box office information to numerical values (3')\n",
        "\n",
        "Transform to integer values"
      ],
      "metadata": {
        "id": "u1h6F9pcL_oI"
      }
    },
    {
      "cell_type": "code",
      "source": [
        "movies = imdb_movies\n",
        "\n",
        "# normalizer = lambda x: (x - np.min(x)) / (np.max(x) - np.min(x)) \n",
        "# movies.boxOffice.apply(normalizer)\n",
        "movies['boxOffice'] = pd.to_numeric(movies['boxOffice'], errors='coerce').fillna(0).astype(int)\n",
        "movies.boxOffice"
      ],
      "metadata": {
        "id": "s3JxtNCmLXjD",
        "colab": {
          "base_uri": "https://localhost:8080/"
        },
        "outputId": "a93907bb-632b-42c5-8304-5ab46e72fd32"
      },
      "execution_count": 26,
      "outputs": [
        {
          "output_type": "execute_result",
          "data": {
            "text/plain": [
              "0      28884504\n",
              "1       6184298\n",
              "2      19223063\n",
              "3     162242684\n",
              "4     161204742\n",
              "        ...    \n",
              "67     16324573\n",
              "68       403056\n",
              "69            0\n",
              "70     32100816\n",
              "71            0\n",
              "Name: boxOffice, Length: 72, dtype: int64"
            ]
          },
          "metadata": {},
          "execution_count": 26
        }
      ]
    },
    {
      "cell_type": "markdown",
      "source": [
        "## 3.2 Add a new column named `rating_category` (5')\n",
        "\n",
        "The values of `rating_category` should be generated from the IMDB ratings as follows:\n",
        "   \n",
        "- Good (7 to 10)\n",
        "- Average (5 to 7),\n",
        "- Bad (0 to 5)"
      ],
      "metadata": {
        "id": "j_D1zjtOMGJZ"
      }
    },
    {
      "cell_type": "code",
      "source": [
        "judge = lambda x: 'Good' if x>7 else 'Average' if x>5 else 'Bad'\n",
        "movies['rating_category'] = movies.rating.apply(judge)\n",
        "\n",
        "movies['rating_category'].value_counts()"
      ],
      "metadata": {
        "id": "b5e9nIxULXrK",
        "colab": {
          "base_uri": "https://localhost:8080/"
        },
        "outputId": "bc2bc85d-b58e-472e-f23f-8f26228659de"
      },
      "execution_count": 27,
      "outputs": [
        {
          "output_type": "execute_result",
          "data": {
            "text/plain": [
              "Good       40\n",
              "Average    32\n",
              "Name: rating_category, dtype: int64"
            ]
          },
          "metadata": {},
          "execution_count": 27
        }
      ]
    },
    {
      "cell_type": "markdown",
      "source": [
        "## 3.3 Clean NULL values (2')\n",
        "\n",
        "Change `NA` values in the columns with missing values to `Not Available` in all the dataframes"
      ],
      "metadata": {
        "id": "jGSwcYrlMLH-"
      }
    },
    {
      "cell_type": "code",
      "source": [
        "movie_list = movie_list.dropna(inplace=False)\n",
        "\n",
        "imdb_movies = imdb_movies.dropna(inplace=False)\n",
        "\n",
        "imdb_cast = imdb_cast.dropna(inplace=False)\n",
        "\n",
        "imdb_links = imdb_links.dropna(inplace=False)"
      ],
      "metadata": {
        "id": "Gjsn4d2kLX4Q"
      },
      "execution_count": 28,
      "outputs": []
    },
    {
      "cell_type": "markdown",
      "source": [
        "# Part 4: Querying the dataframes and visualizing data [42%]"
      ],
      "metadata": {
        "id": "BXU-DIcpMPA8"
      }
    },
    {
      "cell_type": "markdown",
      "source": [
        "## 4.1 Find the top 10 movies with the shortest duration (in minutes)."
      ],
      "metadata": {
        "id": "fU-25zWOMSEs"
      }
    },
    {
      "cell_type": "code",
      "source": [
        "# PT time to utc\n",
        "def pt_2_utc(x):\n",
        "    h, m = re.search('PT(\\d*)H(\\d*)M', x).groups()\n",
        "    return int(h) * 60 + int(m)\n",
        "    \n",
        "movies = imdb_movies\n",
        "\n",
        "movies['duration'] = movies.duration.apply(lambda x: pt_2_utc(x))"
      ],
      "metadata": {
        "id": "DNQfD8nDaoSH",
        "colab": {
          "base_uri": "https://localhost:8080/"
        },
        "outputId": "a711fe9d-3ee5-4fc7-b272-9e074d5b57dc"
      },
      "execution_count": 29,
      "outputs": [
        {
          "output_type": "stream",
          "name": "stderr",
          "text": [
            "<ipython-input-29-f48a2c8c2002>:8: SettingWithCopyWarning: \n",
            "A value is trying to be set on a copy of a slice from a DataFrame.\n",
            "Try using .loc[row_indexer,col_indexer] = value instead\n",
            "\n",
            "See the caveats in the documentation: https://pandas.pydata.org/pandas-docs/stable/user_guide/indexing.html#returning-a-view-versus-a-copy\n",
            "  movies['duration'] = movies.duration.apply(lambda x: pt_2_utc(x))\n"
          ]
        }
      ]
    },
    {
      "cell_type": "code",
      "source": [
        "movies.duration.sort_values(ascending=True).iloc[:10]"
      ],
      "metadata": {
        "id": "-1A8IRbqMN9U",
        "colab": {
          "base_uri": "https://localhost:8080/"
        },
        "outputId": "d23758a3-4bae-4be3-c179-b7c2b76f9d62"
      },
      "execution_count": 30,
      "outputs": [
        {
          "output_type": "execute_result",
          "data": {
            "text/plain": [
              "51    64\n",
              "26    83\n",
              "62    84\n",
              "71    87\n",
              "66    88\n",
              "56    92\n",
              "30    93\n",
              "67    93\n",
              "23    94\n",
              "69    95\n",
              "Name: duration, dtype: int64"
            ]
          },
          "metadata": {},
          "execution_count": 30
        }
      ]
    },
    {
      "cell_type": "markdown",
      "source": [
        "## 4.2 Find the movies that have been released before year 2000. (4')"
      ],
      "metadata": {
        "id": "xF1XCEwMMX7v"
      }
    },
    {
      "cell_type": "code",
      "source": [
        "# movies.year.dtype -> int64\n",
        "\n",
        "movies.dropna(inplace=True)\n",
        "\n",
        "movies.year = pd.to_numeric(movies['year'], errors='coerce').fillna(0).astype(int)\n",
        "\n",
        "result = movies[movies.year<2000]\n",
        "# you maybe see the release year is 0, dont worry it only show that we didn't scrape the digit\n",
        "result[['title', 'year']].head()"
      ],
      "metadata": {
        "id": "xUmnJHBgMN_8",
        "colab": {
          "base_uri": "https://localhost:8080/",
          "height": 206
        },
        "outputId": "b7b3a967-fa42-4769-9400-11cb1b9a6ae1"
      },
      "execution_count": 31,
      "outputs": [
        {
          "output_type": "execute_result",
          "data": {
            "text/plain": [
              "                         title  year\n",
              "0     The Shawshank Redemption  1994\n",
              "1        It's a Wonderful Life  1946\n",
              "5  National Lampoon's Vacation  1983\n",
              "8        2001: A Space Odyssey  1968\n",
              "9                      Arrival     0"
            ],
            "text/html": [
              "\n",
              "  <div id=\"df-f67c5d26-ac27-43b5-978e-0aa600ae34ee\">\n",
              "    <div class=\"colab-df-container\">\n",
              "      <div>\n",
              "<style scoped>\n",
              "    .dataframe tbody tr th:only-of-type {\n",
              "        vertical-align: middle;\n",
              "    }\n",
              "\n",
              "    .dataframe tbody tr th {\n",
              "        vertical-align: top;\n",
              "    }\n",
              "\n",
              "    .dataframe thead th {\n",
              "        text-align: right;\n",
              "    }\n",
              "</style>\n",
              "<table border=\"1\" class=\"dataframe\">\n",
              "  <thead>\n",
              "    <tr style=\"text-align: right;\">\n",
              "      <th></th>\n",
              "      <th>title</th>\n",
              "      <th>year</th>\n",
              "    </tr>\n",
              "  </thead>\n",
              "  <tbody>\n",
              "    <tr>\n",
              "      <th>0</th>\n",
              "      <td>The Shawshank Redemption</td>\n",
              "      <td>1994</td>\n",
              "    </tr>\n",
              "    <tr>\n",
              "      <th>1</th>\n",
              "      <td>It's a Wonderful Life</td>\n",
              "      <td>1946</td>\n",
              "    </tr>\n",
              "    <tr>\n",
              "      <th>5</th>\n",
              "      <td>National Lampoon's Vacation</td>\n",
              "      <td>1983</td>\n",
              "    </tr>\n",
              "    <tr>\n",
              "      <th>8</th>\n",
              "      <td>2001: A Space Odyssey</td>\n",
              "      <td>1968</td>\n",
              "    </tr>\n",
              "    <tr>\n",
              "      <th>9</th>\n",
              "      <td>Arrival</td>\n",
              "      <td>0</td>\n",
              "    </tr>\n",
              "  </tbody>\n",
              "</table>\n",
              "</div>\n",
              "      <button class=\"colab-df-convert\" onclick=\"convertToInteractive('df-f67c5d26-ac27-43b5-978e-0aa600ae34ee')\"\n",
              "              title=\"Convert this dataframe to an interactive table.\"\n",
              "              style=\"display:none;\">\n",
              "        \n",
              "  <svg xmlns=\"http://www.w3.org/2000/svg\" height=\"24px\"viewBox=\"0 0 24 24\"\n",
              "       width=\"24px\">\n",
              "    <path d=\"M0 0h24v24H0V0z\" fill=\"none\"/>\n",
              "    <path d=\"M18.56 5.44l.94 2.06.94-2.06 2.06-.94-2.06-.94-.94-2.06-.94 2.06-2.06.94zm-11 1L8.5 8.5l.94-2.06 2.06-.94-2.06-.94L8.5 2.5l-.94 2.06-2.06.94zm10 10l.94 2.06.94-2.06 2.06-.94-2.06-.94-.94-2.06-.94 2.06-2.06.94z\"/><path d=\"M17.41 7.96l-1.37-1.37c-.4-.4-.92-.59-1.43-.59-.52 0-1.04.2-1.43.59L10.3 9.45l-7.72 7.72c-.78.78-.78 2.05 0 2.83L4 21.41c.39.39.9.59 1.41.59.51 0 1.02-.2 1.41-.59l7.78-7.78 2.81-2.81c.8-.78.8-2.07 0-2.86zM5.41 20L4 18.59l7.72-7.72 1.47 1.35L5.41 20z\"/>\n",
              "  </svg>\n",
              "      </button>\n",
              "      \n",
              "  <style>\n",
              "    .colab-df-container {\n",
              "      display:flex;\n",
              "      flex-wrap:wrap;\n",
              "      gap: 12px;\n",
              "    }\n",
              "\n",
              "    .colab-df-convert {\n",
              "      background-color: #E8F0FE;\n",
              "      border: none;\n",
              "      border-radius: 50%;\n",
              "      cursor: pointer;\n",
              "      display: none;\n",
              "      fill: #1967D2;\n",
              "      height: 32px;\n",
              "      padding: 0 0 0 0;\n",
              "      width: 32px;\n",
              "    }\n",
              "\n",
              "    .colab-df-convert:hover {\n",
              "      background-color: #E2EBFA;\n",
              "      box-shadow: 0px 1px 2px rgba(60, 64, 67, 0.3), 0px 1px 3px 1px rgba(60, 64, 67, 0.15);\n",
              "      fill: #174EA6;\n",
              "    }\n",
              "\n",
              "    [theme=dark] .colab-df-convert {\n",
              "      background-color: #3B4455;\n",
              "      fill: #D2E3FC;\n",
              "    }\n",
              "\n",
              "    [theme=dark] .colab-df-convert:hover {\n",
              "      background-color: #434B5C;\n",
              "      box-shadow: 0px 1px 3px 1px rgba(0, 0, 0, 0.15);\n",
              "      filter: drop-shadow(0px 1px 2px rgba(0, 0, 0, 0.3));\n",
              "      fill: #FFFFFF;\n",
              "    }\n",
              "  </style>\n",
              "\n",
              "      <script>\n",
              "        const buttonEl =\n",
              "          document.querySelector('#df-f67c5d26-ac27-43b5-978e-0aa600ae34ee button.colab-df-convert');\n",
              "        buttonEl.style.display =\n",
              "          google.colab.kernel.accessAllowed ? 'block' : 'none';\n",
              "\n",
              "        async function convertToInteractive(key) {\n",
              "          const element = document.querySelector('#df-f67c5d26-ac27-43b5-978e-0aa600ae34ee');\n",
              "          const dataTable =\n",
              "            await google.colab.kernel.invokeFunction('convertToInteractive',\n",
              "                                                     [key], {});\n",
              "          if (!dataTable) return;\n",
              "\n",
              "          const docLinkHtml = 'Like what you see? Visit the ' +\n",
              "            '<a target=\"_blank\" href=https://colab.research.google.com/notebooks/data_table.ipynb>data table notebook</a>'\n",
              "            + ' to learn more about interactive tables.';\n",
              "          element.innerHTML = '';\n",
              "          dataTable['output_type'] = 'display_data';\n",
              "          await google.colab.output.renderOutput(dataTable, element);\n",
              "          const docLink = document.createElement('div');\n",
              "          docLink.innerHTML = docLinkHtml;\n",
              "          element.appendChild(docLink);\n",
              "        }\n",
              "      </script>\n",
              "    </div>\n",
              "  </div>\n",
              "  "
            ]
          },
          "metadata": {},
          "execution_count": 31
        }
      ]
    },
    {
      "cell_type": "markdown",
      "source": [
        "## 4.3 Find the top 10 actors appearing in multiple movies. (4')"
      ],
      "metadata": {
        "id": "fshqrqWJMcKG"
      }
    },
    {
      "cell_type": "code",
      "source": [
        "# imdb_cast.columns\n",
        "\n",
        "actors = imdb_cast.cast\n",
        "# len(actors)\n",
        "actors.value_counts().sort_values(ascending=True).iloc[:10]"
      ],
      "metadata": {
        "id": "a11rg3d5MOEk",
        "colab": {
          "base_uri": "https://localhost:8080/"
        },
        "outputId": "e2d79b70-b0be-43ee-82c2-b01d3baab7eb"
      },
      "execution_count": 32,
      "outputs": [
        {
          "output_type": "execute_result",
          "data": {
            "text/plain": [
              "Joey Ansah           1\n",
              "Richard Doone        1\n",
              "Samantha Goldberg    1\n",
              "Shane Grove          1\n",
              "Rita Hayworth        1\n",
              "David Hecht          1\n",
              "Alonzo F. Jones      1\n",
              "Dennis Baker         1\n",
              "George Noisom        1\n",
              "Anton Northpole      1\n",
              "Name: cast, dtype: int64"
            ]
          },
          "metadata": {},
          "execution_count": 32
        }
      ]
    },
    {
      "cell_type": "markdown",
      "source": [
        "## 4.3 Use scatter plot to visualize the relationship between duration and popularity score. (5')\n",
        "\n",
        "State your findings from the scatter plot (within 50 words).\n",
        "\n",
        "- More short duration movies\n",
        "- Shorter movies generally receive higher ratings"
      ],
      "metadata": {
        "id": "tVqSG9RUMlUB"
      }
    },
    {
      "cell_type": "code",
      "source": [
        "# graph scatter\n",
        "durations = movies.duration\n",
        "popularity_scores = movies.score\n",
        "\n",
        "plt.scatter(durations, popularity_scores)\n",
        "# set axis\n",
        "plt.xlabel('Duration')\n",
        "plt.ylabel('Popularity score')\n",
        "# show graph chart\n",
        "plt.show()"
      ],
      "metadata": {
        "id": "0FcHVQfsMOHU",
        "colab": {
          "base_uri": "https://localhost:8080/",
          "height": 281
        },
        "outputId": "27559e46-79d5-40b1-ab2c-20cab6d0e5ed"
      },
      "execution_count": 33,
      "outputs": [
        {
          "output_type": "display_data",
          "data": {
            "text/plain": [
              "<Figure size 432x288 with 1 Axes>"
            ],
            "image/png": "[encoded data removed]"
          },
          "metadata": {
            "needs_background": "light"
          }
        }
      ]
    },
    {
      "cell_type": "markdown",
      "source": [
        "### 4.3a Generate dummies from the IMDB Categories Good, Average, Bad movies (2’)"
      ],
      "metadata": {
        "id": "QUEiTjTXMuDB"
      }
    },
    {
      "cell_type": "code",
      "source": [
        "judge = lambda x: 'Good' if x>7 else 'Average' if x>5 else 'Bad'\n",
        "\n",
        "movies['rating_category'] = movies.rating.apply(judge)\n",
        "dummies = imdb_movies[(imdb_movies.rating_category=='Good')][['duration', 'score']]\n",
        "dummies"
      ],
      "metadata": {
        "id": "_cIVAVBZMOJi",
        "colab": {
          "base_uri": "https://localhost:8080/",
          "height": 1000
        },
        "outputId": "32b30b63-2b94-4d19-9ecf-7419256e9290"
      },
      "execution_count": 35,
      "outputs": [
        {
          "output_type": "execute_result",
          "data": {
            "text/plain": [
              "    duration  score\n",
              "0        142     97\n",
              "1        130    134\n",
              "5         98    261\n",
              "7        134    393\n",
              "8        149    411\n",
              "9        116    514\n",
              "10       113    539\n",
              "12       109    706\n",
              "13       126    720\n",
              "15       105    750\n",
              "16       103    792\n",
              "17        96    854\n",
              "18       166    920\n",
              "19       145    942\n",
              "20       113    952\n",
              "21        97   1133\n",
              "22       114   1339\n",
              "23        94   1376\n",
              "24       179   1449\n",
              "25       122   1503\n",
              "26        83   1519\n",
              "27       146   1529\n",
              "28       112   1722\n",
              "29       132   1777\n",
              "30        93   1876\n",
              "33       148   2226\n",
              "36       119   2488\n",
              "40       110   2899\n",
              "45       110   3229\n",
              "51        64   3703\n",
              "53       111   3800\n",
              "60       138   4064\n",
              "62        84   4128\n",
              "64       129   4483\n",
              "66        88   4551\n",
              "68       238   4585\n",
              "69        95   4737\n",
              "71        87   4831"
            ],
            "text/html": [
              "\n",
              "  <div id=\"df-802c274c-7d44-46ca-860c-97b5fbe5b52a\">\n",
              "    <div class=\"colab-df-container\">\n",
              "      <div>\n",
              "<style scoped>\n",
              "    .dataframe tbody tr th:only-of-type {\n",
              "        vertical-align: middle;\n",
              "    }\n",
              "\n",
              "    .dataframe tbody tr th {\n",
              "        vertical-align: top;\n",
              "    }\n",
              "\n",
              "    .dataframe thead th {\n",
              "        text-align: right;\n",
              "    }\n",
              "</style>\n",
              "<table border=\"1\" class=\"dataframe\">\n",
              "  <thead>\n",
              "    <tr style=\"text-align: right;\">\n",
              "      <th></th>\n",
              "      <th>duration</th>\n",
              "      <th>score</th>\n",
              "    </tr>\n",
              "  </thead>\n",
              "  <tbody>\n",
              "    <tr>\n",
              "      <th>0</th>\n",
              "      <td>142</td>\n",
              "      <td>97</td>\n",
              "    </tr>\n",
              "    <tr>\n",
              "      <th>1</th>\n",
              "      <td>130</td>\n",
              "      <td>134</td>\n",
              "    </tr>\n",
              "    <tr>\n",
              "      <th>5</th>\n",
              "      <td>98</td>\n",
              "      <td>261</td>\n",
              "    </tr>\n",
              "    <tr>\n",
              "      <th>7</th>\n",
              "      <td>134</td>\n",
              "      <td>393</td>\n",
              "    </tr>\n",
              "    <tr>\n",
              "      <th>8</th>\n",
              "      <td>149</td>\n",
              "      <td>411</td>\n",
              "    </tr>\n",
              "    <tr>\n",
              "      <th>9</th>\n",
              "      <td>116</td>\n",
              "      <td>514</td>\n",
              "    </tr>\n",
              "    <tr>\n",
              "      <th>10</th>\n",
              "      <td>113</td>\n",
              "      <td>539</td>\n",
              "    </tr>\n",
              "    <tr>\n",
              "      <th>12</th>\n",
              "      <td>109</td>\n",
              "      <td>706</td>\n",
              "    </tr>\n",
              "    <tr>\n",
              "      <th>13</th>\n",
              "      <td>126</td>\n",
              "      <td>720</td>\n",
              "    </tr>\n",
              "    <tr>\n",
              "      <th>15</th>\n",
              "      <td>105</td>\n",
              "      <td>750</td>\n",
              "    </tr>\n",
              "    <tr>\n",
              "      <th>16</th>\n",
              "      <td>103</td>\n",
              "      <td>792</td>\n",
              "    </tr>\n",
              "    <tr>\n",
              "      <th>17</th>\n",
              "      <td>96</td>\n",
              "      <td>854</td>\n",
              "    </tr>\n",
              "    <tr>\n",
              "      <th>18</th>\n",
              "      <td>166</td>\n",
              "      <td>920</td>\n",
              "    </tr>\n",
              "    <tr>\n",
              "      <th>19</th>\n",
              "      <td>145</td>\n",
              "      <td>942</td>\n",
              "    </tr>\n",
              "    <tr>\n",
              "      <th>20</th>\n",
              "      <td>113</td>\n",
              "      <td>952</td>\n",
              "    </tr>\n",
              "    <tr>\n",
              "      <th>21</th>\n",
              "      <td>97</td>\n",
              "      <td>1133</td>\n",
              "    </tr>\n",
              "    <tr>\n",
              "      <th>22</th>\n",
              "      <td>114</td>\n",
              "      <td>1339</td>\n",
              "    </tr>\n",
              "    <tr>\n",
              "      <th>23</th>\n",
              "      <td>94</td>\n",
              "      <td>1376</td>\n",
              "    </tr>\n",
              "    <tr>\n",
              "      <th>24</th>\n",
              "      <td>179</td>\n",
              "      <td>1449</td>\n",
              "    </tr>\n",
              "    <tr>\n",
              "      <th>25</th>\n",
              "      <td>122</td>\n",
              "      <td>1503</td>\n",
              "    </tr>\n",
              "    <tr>\n",
              "      <th>26</th>\n",
              "      <td>83</td>\n",
              "      <td>1519</td>\n",
              "    </tr>\n",
              "    <tr>\n",
              "      <th>27</th>\n",
              "      <td>146</td>\n",
              "      <td>1529</td>\n",
              "    </tr>\n",
              "    <tr>\n",
              "      <th>28</th>\n",
              "      <td>112</td>\n",
              "      <td>1722</td>\n",
              "    </tr>\n",
              "    <tr>\n",
              "      <th>29</th>\n",
              "      <td>132</td>\n",
              "      <td>1777</td>\n",
              "    </tr>\n",
              "    <tr>\n",
              "      <th>30</th>\n",
              "      <td>93</td>\n",
              "      <td>1876</td>\n",
              "    </tr>\n",
              "    <tr>\n",
              "      <th>33</th>\n",
              "      <td>148</td>\n",
              "      <td>2226</td>\n",
              "    </tr>\n",
              "    <tr>\n",
              "      <th>36</th>\n",
              "      <td>119</td>\n",
              "      <td>2488</td>\n",
              "    </tr>\n",
              "    <tr>\n",
              "      <th>40</th>\n",
              "      <td>110</td>\n",
              "      <td>2899</td>\n",
              "    </tr>\n",
              "    <tr>\n",
              "      <th>45</th>\n",
              "      <td>110</td>\n",
              "      <td>3229</td>\n",
              "    </tr>\n",
              "    <tr>\n",
              "      <th>51</th>\n",
              "      <td>64</td>\n",
              "      <td>3703</td>\n",
              "    </tr>\n",
              "    <tr>\n",
              "      <th>53</th>\n",
              "      <td>111</td>\n",
              "      <td>3800</td>\n",
              "    </tr>\n",
              "    <tr>\n",
              "      <th>60</th>\n",
              "      <td>138</td>\n",
              "      <td>4064</td>\n",
              "    </tr>\n",
              "    <tr>\n",
              "      <th>62</th>\n",
              "      <td>84</td>\n",
              "      <td>4128</td>\n",
              "    </tr>\n",
              "    <tr>\n",
              "      <th>64</th>\n",
              "      <td>129</td>\n",
              "      <td>4483</td>\n",
              "    </tr>\n",
              "    <tr>\n",
              "      <th>66</th>\n",
              "      <td>88</td>\n",
              "      <td>4551</td>\n",
              "    </tr>\n",
              "    <tr>\n",
              "      <th>68</th>\n",
              "      <td>238</td>\n",
              "      <td>4585</td>\n",
              "    </tr>\n",
              "    <tr>\n",
              "      <th>69</th>\n",
              "      <td>95</td>\n",
              "      <td>4737</td>\n",
              "    </tr>\n",
              "    <tr>\n",
              "      <th>71</th>\n",
              "      <td>87</td>\n",
              "      <td>4831</td>\n",
              "    </tr>\n",
              "  </tbody>\n",
              "</table>\n",
              "</div>\n",
              "      <button class=\"colab-df-convert\" onclick=\"convertToInteractive('df-802c274c-7d44-46ca-860c-97b5fbe5b52a')\"\n",
              "              title=\"Convert this dataframe to an interactive table.\"\n",
              "              style=\"display:none;\">\n",
              "        \n",
              "  <svg xmlns=\"http://www.w3.org/2000/svg\" height=\"24px\"viewBox=\"0 0 24 24\"\n",
              "       width=\"24px\">\n",
              "    <path d=\"M0 0h24v24H0V0z\" fill=\"none\"/>\n",
              "    <path d=\"M18.56 5.44l.94 2.06.94-2.06 2.06-.94-2.06-.94-.94-2.06-.94 2.06-2.06.94zm-11 1L8.5 8.5l.94-2.06 2.06-.94-2.06-.94L8.5 2.5l-.94 2.06-2.06.94zm10 10l.94 2.06.94-2.06 2.06-.94-2.06-.94-.94-2.06-.94 2.06-2.06.94z\"/><path d=\"M17.41 7.96l-1.37-1.37c-.4-.4-.92-.59-1.43-.59-.52 0-1.04.2-1.43.59L10.3 9.45l-7.72 7.72c-.78.78-.78 2.05 0 2.83L4 21.41c.39.39.9.59 1.41.59.51 0 1.02-.2 1.41-.59l7.78-7.78 2.81-2.81c.8-.78.8-2.07 0-2.86zM5.41 20L4 18.59l7.72-7.72 1.47 1.35L5.41 20z\"/>\n",
              "  </svg>\n",
              "      </button>\n",
              "      \n",
              "  <style>\n",
              "    .colab-df-container {\n",
              "      display:flex;\n",
              "      flex-wrap:wrap;\n",
              "      gap: 12px;\n",
              "    }\n",
              "\n",
              "    .colab-df-convert {\n",
              "      background-color: #E8F0FE;\n",
              "      border: none;\n",
              "      border-radius: 50%;\n",
              "      cursor: pointer;\n",
              "      display: none;\n",
              "      fill: #1967D2;\n",
              "      height: 32px;\n",
              "      padding: 0 0 0 0;\n",
              "      width: 32px;\n",
              "    }\n",
              "\n",
              "    .colab-df-convert:hover {\n",
              "      background-color: #E2EBFA;\n",
              "      box-shadow: 0px 1px 2px rgba(60, 64, 67, 0.3), 0px 1px 3px 1px rgba(60, 64, 67, 0.15);\n",
              "      fill: #174EA6;\n",
              "    }\n",
              "\n",
              "    [theme=dark] .colab-df-convert {\n",
              "      background-color: #3B4455;\n",
              "      fill: #D2E3FC;\n",
              "    }\n",
              "\n",
              "    [theme=dark] .colab-df-convert:hover {\n",
              "      background-color: #434B5C;\n",
              "      box-shadow: 0px 1px 3px 1px rgba(0, 0, 0, 0.15);\n",
              "      filter: drop-shadow(0px 1px 2px rgba(0, 0, 0, 0.3));\n",
              "      fill: #FFFFFF;\n",
              "    }\n",
              "  </style>\n",
              "\n",
              "      <script>\n",
              "        const buttonEl =\n",
              "          document.querySelector('#df-802c274c-7d44-46ca-860c-97b5fbe5b52a button.colab-df-convert');\n",
              "        buttonEl.style.display =\n",
              "          google.colab.kernel.accessAllowed ? 'block' : 'none';\n",
              "\n",
              "        async function convertToInteractive(key) {\n",
              "          const element = document.querySelector('#df-802c274c-7d44-46ca-860c-97b5fbe5b52a');\n",
              "          const dataTable =\n",
              "            await google.colab.kernel.invokeFunction('convertToInteractive',\n",
              "                                                     [key], {});\n",
              "          if (!dataTable) return;\n",
              "\n",
              "          const docLinkHtml = 'Like what you see? Visit the ' +\n",
              "            '<a target=\"_blank\" href=https://colab.research.google.com/notebooks/data_table.ipynb>data table notebook</a>'\n",
              "            + ' to learn more about interactive tables.';\n",
              "          element.innerHTML = '';\n",
              "          dataTable['output_type'] = 'display_data';\n",
              "          await google.colab.output.renderOutput(dataTable, element);\n",
              "          const docLink = document.createElement('div');\n",
              "          docLink.innerHTML = docLinkHtml;\n",
              "          element.appendChild(docLink);\n",
              "        }\n",
              "      </script>\n",
              "    </div>\n",
              "  </div>\n",
              "  "
            ]
          },
          "metadata": {},
          "execution_count": 35
        }
      ]
    },
    {
      "cell_type": "code",
      "source": [
        "movies.columns\n",
        "\n",
        "dummies.values[0]"
      ],
      "metadata": {
        "id": "jWFUka8kMONJ",
        "colab": {
          "base_uri": "https://localhost:8080/"
        },
        "outputId": "1e9e21cf-d088-4c05-a4af-0c20132dd9a8"
      },
      "execution_count": 36,
      "outputs": [
        {
          "output_type": "execute_result",
          "data": {
            "text/plain": [
              "array([142,  97])"
            ]
          },
          "metadata": {},
          "execution_count": 36
        }
      ]
    },
    {
      "cell_type": "markdown",
      "source": [
        "### 4.3b Use the dummies features to assign a color to the data points in the scatter plot (2’)"
      ],
      "metadata": {
        "id": "0aAUJdHJM0V4"
      }
    },
    {
      "cell_type": "markdown",
      "source": [
        "State your findings from the scatter plot (within 50 words)."
      ],
      "metadata": {
        "id": "5nW1CeXKM0-M"
      }
    },
    {
      "cell_type": "code",
      "source": [
        "movies = imdb_movies\n",
        "# 绘制散点图\n",
        "durations = movies.duration\n",
        "popularity_scores = movies.score\n",
        "\n",
        "plt.scatter(durations, popularity_scores)\n",
        "# 设置 x 轴和 y 轴的标签\n",
        "plt.xlabel('Duration')\n",
        "plt.ylabel('Popularity score')\n",
        "# 显示图表\n",
        "plt.show()"
      ],
      "metadata": {
        "id": "IHINkXqqMOPM",
        "colab": {
          "base_uri": "https://localhost:8080/",
          "height": 281
        },
        "outputId": "08f7c215-9efc-47c1-c16e-d69256480e11"
      },
      "execution_count": 37,
      "outputs": [
        {
          "output_type": "display_data",
          "data": {
            "text/plain": [
              "<Figure size 432x288 with 1 Axes>"
            ],
            "image/png": "[encoded data removed]"
          },
          "metadata": {
            "needs_background": "light"
          }
        }
      ]
    },
    {
      "cell_type": "markdown",
      "source": [
        "## 4.4. Show the trend of average gross income worldwide per year, using a line chart. (4')"
      ],
      "metadata": {
        "id": "JlmC_UV2M7Bc"
      }
    },
    {
      "cell_type": "markdown",
      "source": [
        "State your findings from the line chart (within 50 words)"
      ],
      "metadata": {
        "id": "Noy5XkZ4M9hH"
      }
    },
    {
      "cell_type": "markdown",
      "source": [
        "`The movie box office began to heat up in 2019, until it reached its peak in 2020, and then slowly cooled down`"
      ],
      "metadata": {
        "id": "KoMVC3t3M_Aj"
      }
    },
    {
      "cell_type": "code",
      "source": [
        "x = movies[movies.year > 0].year\n",
        "y = movies[movies.year > 0].boxOffice\n",
        "plt.plot(x, y)\n",
        "plt.xlabel('year')\n",
        "plt.ylabel('worldwideGross')\n",
        "plt.show()"
      ],
      "metadata": {
        "id": "oX1aul2bMOQv",
        "colab": {
          "base_uri": "https://localhost:8080/",
          "height": 290
        },
        "outputId": "cc951bb1-4168-47ac-e786-a7f10b819126"
      },
      "execution_count": 38,
      "outputs": [
        {
          "output_type": "display_data",
          "data": {
            "text/plain": [
              "<Figure size 432x288 with 1 Axes>"
            ],
            "image/png": "[encoded data removed]"
          },
          "metadata": {
            "needs_background": "light"
          }
        }
      ]
    },
    {
      "cell_type": "markdown",
      "source": [
        "## 4.5 Visualize the distribution of box office of all movies, using a histogram. (5')"
      ],
      "metadata": {
        "id": "aZitH6IRNJbk"
      }
    },
    {
      "cell_type": "code",
      "source": [
        "# graph histogram\n",
        "plt.hist(movies.boxOffice)\n",
        "# set x axis and y axis label\n",
        "plt.xlabel('Box office')\n",
        "plt.ylabel('Number of movies')\n",
        "# show\n",
        "plt.show()\n"
      ],
      "metadata": {
        "id": "3ZGc1X6JNGEC",
        "colab": {
          "base_uri": "https://localhost:8080/",
          "height": 279
        },
        "outputId": "65ae8d3c-6aca-4e96-c2dc-6cc74e965403"
      },
      "execution_count": 39,
      "outputs": [
        {
          "output_type": "display_data",
          "data": {
            "text/plain": [
              "<Figure size 432x288 with 1 Axes>"
            ],
            "image/png": "[encoded data removed]"
          },
          "metadata": {
            "needs_background": "light"
          }
        }
      ]
    },
    {
      "cell_type": "markdown",
      "source": [
        "## 4.6 Create a boxplot of the duration of all movies given their rating category. (5')"
      ],
      "metadata": {
        "id": "XnKVax-lNMRL"
      }
    },
    {
      "cell_type": "markdown",
      "source": [
        "State your findings from the wordcloud (within 50 words)."
      ],
      "metadata": {
        "id": "NwWvyHjtNNtK"
      }
    },
    {
      "cell_type": "code",
      "source": [
        "# graph the boxplot\n",
        "# plt.boxplot(movies[movies.rating_category=='Good'].duration.values)\n",
        "# plt.boxplot(movies[movies.rating_category=='Average'].duration.values)\n",
        "# plt.boxplot(movies[movies.rating_category=='Bad'].duration.values)\n",
        "\n",
        "plt.boxplot([movies[movies.rating_category=='Good'].duration, \n",
        "             movies[movies.rating_category=='Average'].duration,\n",
        "             movies[movies.rating_category=='Bad'].duration\n",
        "            ],\n",
        "           labels=['Good', 'Average', 'Bad'])\n",
        "# # set axis, yaxis\n",
        "plt.xlabel('Rating category')\n",
        "plt.ylabel('Duration')\n",
        "# show\n",
        "plt.show()\n",
        "# len(movies.duration.values)\n",
        "# len(movies.rating_category.values)"
      ],
      "metadata": {
        "id": "VQsahpdsNGGt",
        "colab": {
          "base_uri": "https://localhost:8080/",
          "height": 335
        },
        "outputId": "a2e0715f-9b5a-4490-b382-6aee0565dc21"
      },
      "execution_count": 40,
      "outputs": [
        {
          "output_type": "stream",
          "name": "stderr",
          "text": [
            "/usr/local/lib/python3.8/dist-packages/matplotlib/cbook/__init__.py:1376: VisibleDeprecationWarning: Creating an ndarray from ragged nested sequences (which is a list-or-tuple of lists-or-tuples-or ndarrays with different lengths or shapes) is deprecated. If you meant to do this, you must specify 'dtype=object' when creating the ndarray.\n",
            "  X = np.atleast_1d(X.T if isinstance(X, np.ndarray) else np.asarray(X))\n"
          ]
        },
        {
          "output_type": "display_data",
          "data": {
            "text/plain": [
              "<Figure size 432x288 with 1 Axes>"
            ],
            "image/png": "[encoded data removed]"
          },
          "metadata": {
            "needs_background": "light"
          }
        }
      ]
    },
    {
      "cell_type": "markdown",
      "source": [
        "## 4.7 Create a word cloud visualization of the storyline of all movies. (5')"
      ],
      "metadata": {
        "id": "9coipYaaNTC3"
      }
    },
    {
      "cell_type": "markdown",
      "source": [
        "State your findings from the wordcloud (within 50 words)."
      ],
      "metadata": {
        "id": "CPcXUdwJNT2w"
      }
    },
    {
      "cell_type": "markdown",
      "source": [
        "`Themes are family, relationship, loneliness`"
      ],
      "metadata": {
        "id": "Ha3LM52WNVyH"
      }
    },
    {
      "cell_type": "code",
      "source": [
        "wc = wordcloud.WordCloud()\n",
        "wc.generate(' '.join(list(movies.storyLine.values)))\n",
        "\n",
        "# show wordcloud\n",
        "plt.imshow(wc)\n",
        "plt.axis(\"off\")\n",
        "plt.show()"
      ],
      "metadata": {
        "id": "tJbsAsCeNGJG",
        "colab": {
          "base_uri": "https://localhost:8080/",
          "height": 198
        },
        "outputId": "944184b5-db04-450d-f572-d22df6940fb7"
      },
      "execution_count": null,
      "outputs": [
        {
          "output_type": "display_data",
          "data": {
            "text/plain": [
              "<Figure size 432x288 with 1 Axes>"
            ],
            "image/png": "[encoded data removed]"
          },
          "metadata": {
            "needs_background": "light"
          }
        }
      ]
    },
    {
      "cell_type": "markdown",
      "source": [
        "### 4.7a Analyse the frequency of the words then set a threshold for visualization (1')"
      ],
      "metadata": {
        "id": "DIESoVcsNbCy"
      }
    },
    {
      "cell_type": "code",
      "source": [
        "c = Counter()\n",
        "for storyline in movies.storyLine.values:\n",
        "    words = storyline.split(' ')\n",
        "    for word in words:\n",
        "        c[word] += 1\n",
        "\n",
        "# set threshold\n",
        "threshold = 2\n",
        "\n",
        "# filter by the frequence that is bigger than threshold \n",
        "common_words = [word for word, count in c.items() if count >= threshold]\n",
        "wc.generate(' '.join(common_words))\n",
        "\n",
        "# show wordcloud\n",
        "plt.imshow(wc)\n",
        "plt.axis(\"off\")\n",
        "plt.show()"
      ],
      "metadata": {
        "id": "HduJnpFONGNb",
        "colab": {
          "base_uri": "https://localhost:8080/",
          "height": 198
        },
        "outputId": "ec883bde-9632-4fca-edb7-b8a5d6672cce"
      },
      "execution_count": null,
      "outputs": [
        {
          "output_type": "display_data",
          "data": {
            "text/plain": [
              "<Figure size 432x288 with 1 Axes>"
            ],
            "image/png": "[encoded data removed]"
          },
          "metadata": {
            "needs_background": "light"
          }
        }
      ]
    },
    {
      "cell_type": "markdown",
      "source": [
        "### 4.7b Select a mask for the word cloud (1')"
      ],
      "metadata": {
        "id": "9V_tFke4NdoZ"
      }
    },
    {
      "cell_type": "code",
      "source": [
        "# read and load mask photo, as the np.array\n",
        "mask = np.array(Image.open('./mask.jpeg'))\n",
        "\n",
        "wc = wordcloud.WordCloud(mask=mask)\n",
        "wc.generate(' '.join(common_words))\n",
        "\n",
        "# show words cloud\n",
        "plt.imshow(wc)\n",
        "plt.axis(\"off\")\n",
        "plt.show()"
      ],
      "metadata": {
        "id": "4wwYioybNGPR",
        "colab": {
          "base_uri": "https://localhost:8080/",
          "height": 248
        },
        "outputId": "cf09462c-1e26-4041-947a-d27298eed280"
      },
      "execution_count": null,
      "outputs": [
        {
          "output_type": "display_data",
          "data": {
            "text/plain": [
              "<Figure size 432x288 with 1 Axes>"
            ],
            "image/png": "[encoded data removed]"
          },
          "metadata": {
            "needs_background": "light"
          }
        }
      ]
    }
  ]
}